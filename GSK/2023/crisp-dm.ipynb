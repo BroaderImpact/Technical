{
 "cells": [
  {
   "cell_type": "markdown",
   "metadata": {},
   "source": [
    "# NLP Manager Case Study"
   ]
  },
  {
   "cell_type": "markdown",
   "metadata": {},
   "source": [
    "### Scenario\n",
    "You have been approached by stakeholders from the Medical Affairs team. They are considering a partnership with WebMD that would, among other things, provide direct access to patient drug reviews. The team has provided a data sample and asked you to review the data, conduct a preliminary analysis, and make a recommendation for the potential value of this data source.\n",
    "\n",
    "### Materials:\n",
    "- **Dataset.** Patient reviews centered around 3 conditions: Rheumatoid Arthritis (RA), Systemic Lupus Erythematosus (SLE), and Chronic Obstructive Pulmonary Disease (COPD)\n",
    "- **Strategy documents.** To help you contextualize your presentation, you will be provided with a strategy document for each disease state, highlighting areas of focus for the team. \n",
    "\n",
    "### Outputs:\n",
    "- Preliminary Analysis: Share what you discovered during your initial analysis of the data\n",
    "    - Which dataset(s) did you choose to evaluate and why?\n",
    "    - What findings did your analysis uncover from that data?\n",
    "    - How do those findings fit in to the team’s strategic direction?\n",
    "- Recommendation: Based on your preliminary analysis, present a brief outline that answers the following questions:\n",
    "    - What value could this data provide to us?\n",
    "    - What limitations or risks should we be aware of with this data?\n",
    "    - How might we incorporate this data into our broader analytics strategy?\n",
    "    - If we move forward, what success metrics/KPIs would you suggest to measure the ongoing impact/value of this project?\n",
    "\n",
    "### Notes\n",
    "You can choose to go across all 3 disease states, or focus in on just one or two\n",
    "It’s up to you what kinds of analysis you conduct. Focus on what you think will help the team make a decision about the value of this data and a potential partnership.\n",
    "\n",
    "--------------\n"
   ]
  },
  {
   "cell_type": "markdown",
   "metadata": {},
   "source": [
    "1. [Business Understanding](#Businessunderstanding)\n",
    "    1. [Assess the Current Situation](#Assessthecurrentsituation)\n",
    "        1. [Inventory of resources](#Inventory)\n",
    "        2. [Requirements, assumptions and constraints](#Requirements)\n",
    "        3. [Risks and contingencies](#Risks)\n",
    "        4. [Terminology](#Terminology)\n",
    "        5. [Costs and benefits](#CostBenefit)\n",
    "    2. [What are the Desired Outputs](#Desiredoutputs)\n",
    "    3. [What Questions Are We Trying to Answer?](#QA)\n",
    "2. [Data Understanding](#Dataunderstanding)\n",
    "    1. [Initial Data Report](#Datareport)\n",
    "    2. [Describe Data](#Describedata)\n",
    "    3. [Initial Data Exploration](#Exploredata) \n",
    "    4. [Verify Data Quality](#Verifydataquality)\n",
    "        1. [Missing Data](#MissingData) \n",
    "        2. [Outliers](#Outliers) \n",
    "    5. [Data Quality Report](#Dataqualityreport)\n",
    "3. [Data Preparation](#Datapreparation)\n",
    "    1. [Select Your Data](#Selectyourdata)\n",
    "    2. [Cleanse the Data](#Cleansethedata)\n",
    "        1. [Label Encoding](#labelEncoding)\n",
    "        2. [Drop Unnecessary Columns](#DropCols)\n",
    "        3. [Altering Datatypes](#AlteringDatatypes)\n",
    "        4. [Dealing With Zeros](#DealingZeros)\n",
    "    3. [Construct Required Data](#Constructrequireddata)\n",
    "    4. [Integrate Data](#Integratedata)\n",
    "4. [Exploratory Data Analysis](#EDA)\n",
    "5. [Modelling](#Modelling)\n",
    "    1. [Modelling Technique](#ModellingTechnique)\n",
    "    2. [Modelling Assumptions](#ModellingAssumptions)\n",
    "    3. [Build Model](#BuildModel)\n",
    "    4. [Assess Model](#AssessModel)\n",
    "6. [Evaluation](#Evaluation)\n",
    "7. [Deployment](#Deployment)\n",
    "\n",
    "https://www.sv-europe.com/crisp-dm-methodology/\n"
   ]
  },
  {
   "cell_type": "markdown",
   "metadata": {},
   "source": [
    "# 1. Stage One - Determine Business Objectives and Assess the Situation  <a class=\"anchor\" id=\"Businessunderstanding\"></a>\n",
    "The first stage of the CRISP-DM process is to understand what you want to accomplish from a business perspective. Your organisation may have competing objectives and constraints that must be properly balanced. The goal of this stage of the process is to uncover important factors that could influence the outcome of the project. Neglecting this step can mean that a great deal of effort is put into producing the right answers to the wrong questions."
   ]
  },
  {
   "cell_type": "markdown",
   "metadata": {},
   "source": [
    "## 1.1 Assess the Current Situation<a class=\"anchor\" id=\"Assessthecurrentsituation\"></a>"
   ]
  },
  {
   "cell_type": "markdown",
   "metadata": {},
   "source": [
    "This involves more detailed fact-finding about all of the resources, constraints, assumptions and other factors that you'll need to consider when determining your data analysis goal and project plan. \n"
   ]
  },
  {
   "cell_type": "markdown",
   "metadata": {},
   "source": [
    "### 1.1.1. Inventory of resources <a class=\"anchor\" id=\"Inventory\"></a>\n",
    "\n",
    "Personnel:\n",
    "1. Data Science Manager (You): Responsible for overseeing the project, conducting data analysis, and providing strategic recommendations.\n",
    "2. Data Analysts: To perform detailed data exploration, analysis, and visualization.\n",
    "3. Medical Affairs Team: Stakeholders who initiated the project and can provide domain expertise and insights.\n",
    "4. IT Support: To assist with data infrastructure, security, and computing resources.\n",
    "\n",
    "Data:\n",
    "1. Patient Reviews Dataset: Centered around Rheumatoid Arthritis (RA), Systemic Lupus Erythematosus (SLE), and Chronic Obstructive Pulmonary Disease (COPD). This dataset includes patient sentiments, drug reviews, and adverse event reports.\n",
    "\n",
    "Computing Resources:\n",
    "1. On-premises Servers: To handle data processing and analysis tasks.\n",
    "2. Cloud Computing Services: For scalability and additional processing power if needed during peak times or for resource-intensive tasks.\n",
    "\n",
    "Software:\n",
    "1. Data Analysis Tools (e.g., Python with libraries like Pandas, NumPy, Scikit-learn): For data cleaning, exploration, and modeling.\n",
    "2. Visualization Tools (e.g., Matplotlib, Seaborn): To create informative and insightful visualizations.\n",
    "3. Natural Language Processing (NLP) Libraries: To analyze text data and perform sentiment analysis.\n",
    "4. Database Management Systems: To store and manage the patient review dataset securely.\n",
    "5. Privacy and Security Software: To ensure compliance with data protection regulations.\n",
    "\n",
    "This comprehensive set of resources will enable the team to effectively analyze the patient review data, draw meaningful insights, and make informed decisions regarding the potential partnership with WebMD.\n"
   ]
  },
  {
   "cell_type": "markdown",
   "metadata": {},
   "source": [
    "### 1.1.2. Requirements, assumptions and constraints - <a class=\"anchor\" id=\"Requirements\"></a> \n",
    "\n",
    "Requirements of the project including the schedule of completion:\n",
    "\n",
    "1. Data Analysis and Insights: The project must perform a thorough analysis of the patient review dataset for RA, SLE, and COPD to gain actionable insights within the next four weeks.\n",
    "\n",
    "2. Partnership Evaluation: The assessment of the potential value of the WebMD partnership, along with a recommendation, must be completed within six weeks.\n",
    "\n",
    "Required comprehensibility and quality of results:\n",
    "\n",
    "1. Clear and Interpretative Visualizations: The analysis should produce visually informative graphs and charts to facilitate easy understanding of findings by stakeholders.\n",
    "\n",
    "2. Data Accuracy and Validation: Results must be based on accurate and validated data to ensure the quality of insights and recommendations.\n",
    "\n",
    "Data security concerns as well as any legal issues:\n",
    "\n",
    "1. Patient Privacy: Adherence to data privacy regulations (e.g., HIPAA) is essential to protect the anonymity and confidentiality of patient information.\n",
    "\n",
    "2. Data Transfer: Ensuring secure data transfer and storage between GlaxoSmithKline and WebMD to maintain data integrity.\n",
    "\n",
    "Assumptions made by the project:\n",
    "\n",
    "1. Data Completeness: Assuming that the provided patient review dataset is comprehensive and representative of the target patient population.\n",
    "\n",
    "2. Review Authenticity: Assuming that the patient reviews are genuine and not subject to significant bias or manipulation.\n",
    "\n",
    "Constraints on the project:\n",
    "\n",
    "1. Resource Limitations: The project must work within the existing infrastructure and computing resources available at GlaxoSmithKline.\n",
    "\n",
    "2. Time Constraints: The analysis and evaluation must be completed within a specific timeframe to align with business goals and potential partnership decisions.\n",
    "\n",
    "3. Regulatory Compliance: The project must comply with relevant legal and regulatory requirements, impacting data handling and analysis.\n"
   ]
  },
  {
   "cell_type": "markdown",
   "metadata": {},
   "source": [
    "### 1.1.3.Risks and contingencies <a class=\"anchor\" id=\"Risks\"></a>\n",
    "\n",
    "Risks or events that might delay the project or cause it to fail:\n",
    "\n",
    "1. Data Quality Issues: Discovering significant data quality issues, such as incomplete or inaccurate patient reviews, could lead to delays in the analysis.\n",
    "\n",
    "2. Legal and Compliance Delays: Legal and regulatory complexities, such as data privacy concerns or delays in obtaining necessary permissions, could hinder progress.\n",
    "\n",
    "3. Technical Challenges: Unforeseen technical difficulties in data processing, analysis, or software tools could slow down the project.\n",
    "\n",
    "4. Resource Constraints: Insufficient computing resources or personnel could result in delays or inadequate analysis.\n",
    "\n",
    "5. Stakeholder Misalignment: Lack of alignment among stakeholders on project objectives, scope, or priorities may cause confusion and hinder progress.\n",
    "\n",
    "6. External Partnerships: Delays or challenges in establishing a partnership with WebMD might impact access to the patient review data.\n",
    "\n",
    "7. Unexpected Data Volume: Handling a larger-than-expected volume of data may require additional time and resources.\n",
    "\n",
    "Action to take if these risks or events take place:\n",
    "\n",
    "1. Data Quality Assessment: Perform a thorough data quality assessment at the beginning of the project and, if issues are found, work with relevant teams to address and rectify the problems.\n",
    "\n",
    "2. Legal and Compliance Mitigation: Collaborate with legal and compliance teams to ensure all necessary permissions and privacy measures are in place. If delays occur, adjust the project timeline accordingly.\n",
    "\n",
    "3. Technical Support: Engage with IT and technical teams to overcome any unexpected technical challenges promptly.\n",
    "\n",
    "4. Resource Planning: Continuously monitor resource usage and adjust the project plan as needed to ensure adequate resources are available.\n",
    "\n",
    "5. Stakeholder Communication: Regularly communicate with stakeholders to ensure alignment and address any concerns or conflicts proactively.\n",
    "\n",
    "6. Partnership Alternatives: Identify alternative data sources or partnerships if challenges arise with the WebMD collaboration.\n",
    "\n",
    "7. Data Volume Scaling: Design the analysis process to handle varying data volumes and implement strategies for efficient data processing.\n",
    "\n",
    "By proactively addressing these risks and events, the project can maintain momentum and minimize potential delays, ensuring its successful completion and valuable insights for GlaxoSmithKline."
   ]
  },
  {
   "cell_type": "markdown",
   "metadata": {},
   "source": [
    "### 1.1.4.Terminology <a class=\"anchor\" id=\"Terminology\"></a>\n",
    "\n",
    "Glossary of Relevant Business Terminology:\n",
    "\n",
    "1. Real-World Evidence (RWE): Data collected from real-world settings, such as patient reviews, electronic health records, and claims data, used to assess the safety and effectiveness of medical treatments outside of controlled clinical trials.\n",
    "\n",
    "2. Pharmacovigilance: The process of monitoring and evaluating the safety of pharmaceutical drugs after they are marketed to identify and mitigate adverse effects.\n",
    "\n",
    "3. Patient-Centric Approach: A business strategy that prioritizes the needs, preferences, and experiences of patients to improve overall healthcare outcomes and patient satisfaction.\n",
    "\n",
    "4. Brand Perception: The collective opinions, beliefs, and attitudes that individuals have about a specific pharmaceutical company or its products.\n",
    "\n",
    "5. Data Privacy and Compliance: Ensuring that all data handling and analysis adhere to legal and regulatory requirements, such as GDPR or HIPAA, to protect patient privacy.\n",
    "\n",
    "Glossary of Data Mining Terminology (Illustrated with Examples):\n",
    "\n",
    "1. Sentiment Analysis: The process of using natural language processing techniques to determine the sentiment expressed in patient reviews, whether positive, negative, or neutral. Example: Analyzing patient reviews to understand the overall satisfaction with GlaxoSmithKline's RA treatment.\n",
    "\n",
    "2. Text Mining: The process of extracting valuable insights and patterns from unstructured text data, such as patient reviews, to uncover meaningful information. Example: Identifying frequently mentioned side effects in COPD drug reviews.\n",
    "\n",
    "3. Adverse Event Detection: The process of identifying potential adverse events reported in patient reviews related to specific drugs or treatments. Example: Detecting mentions of severe allergic reactions in SLE drug reviews.\n",
    "\n",
    "4. Classification: A data mining technique that categorizes data into predefined classes or groups based on specific attributes. Example: Classifying patient reviews into \"positive,\" \"neutral,\" or \"negative\" sentiment categories.\n",
    "\n",
    "5. Association Rules: Data mining techniques used to discover interesting relationships between variables in the dataset. Example: Identifying co-occurrence patterns between certain medications and side effects in RA patient reviews.\n",
    "\n",
    "6. Clustering: A technique that groups similar data points together based on their similarities, helping to identify patterns within data. Example: Clustering patients based on treatment response in RA drug reviews.\n",
    "\n",
    "7. Natural Language Processing (NLP): The field of study that involves the interaction between computers and human language, enabling machines to understand and process natural language. Example: Using NLP algorithms to extract keywords and themes from patient reviews.\n",
    "\n",
    "8. Data Cleaning: The process of identifying and correcting errors, inconsistencies, and inaccuracies in the dataset to ensure data quality. Example: Removing duplicate patient reviews from the dataset.\n",
    "\n",
    "By utilizing these data mining techniques and terminologies, the business problem of assessing the potential value of patient drug reviews in partnership with WebMD can be addressed effectively, leading to valuable insights and informed decision-making for GlaxoSmithKline's Medical Affairs team.\n"
   ]
  },
  {
   "cell_type": "markdown",
   "metadata": {},
   "source": [
    "### 1.1.5.Costs and benefits  <a class=\"anchor\" id=\"CostBenefit\"></a>\n",
    "\n",
    "Cost-Benefit Analysis for the Project:\n",
    "\n",
    "Costs:\n",
    "\n",
    "1. Personnel Costs: Includes the salaries of the data science manager, data analysts, and IT support involved in the project.\n",
    "\n",
    "2. Computing Resources: This covers the expenses related to on-premises servers, cloud computing services, and any additional hardware or software needed.\n",
    "\n",
    "3. Software Licenses: Costs associated with acquiring and maintaining data analysis tools, visualization software, and privacy/security software.\n",
    "\n",
    "4. Data Processing and Storage: Expenses related to data cleaning, storage, and maintenance of the patient review dataset.\n",
    "\n",
    "5. Legal and Compliance Costs: Costs for ensuring data privacy compliance and obtaining necessary permissions.\n",
    "\n",
    "6. Partnership Fees: If applicable, any costs associated with accessing patient review data from WebMD.\n",
    "\n",
    "Benefits:\n",
    "\n",
    "1. Improved Decision-Making: By gaining valuable insights from patient drug reviews, GlaxoSmithKline can make more informed decisions regarding drug development, marketing, and patient engagement.\n",
    "\n",
    "2. Real-World Evidence Validation: The project will validate and enhance clinical trial data with real-world evidence, providing a more comprehensive understanding of drug performance in the market.\n",
    "\n",
    "3. Enhanced Pharmacovigilance: Access to patient reviews will help identify adverse events early, allowing for timely safety monitoring and risk mitigation.\n",
    "\n",
    "4. Patient-Centric Strategy: Understanding patient sentiments and needs will enable GlaxoSmithKline to develop patient-centric treatment approaches, potentially increasing patient satisfaction and loyalty.\n",
    "\n",
    "5. Brand Perception Improvement: By addressing patient concerns and improving product effectiveness, the company's brand perception may improve, leading to potential market share growth.\n",
    "\n",
    "6. Competitive Advantage: Leveraging patient review data to refine drug offerings can give GlaxoSmithKline a competitive edge in the pharmaceutical market.\n",
    "\n",
    "Financial Comparison:\n",
    "\n",
    "To perform a more specific cost-benefit analysis, let's consider hypothetical numbers:\n",
    "\n",
    "Costs (per year):\n",
    "\n",
    "1. Personnel Costs: $500,000\n",
    "2. Computing Resources: $200,000\n",
    "3. Software Licenses: $50,000\n",
    "4. Data Processing and Storage: $100,000\n",
    "5. Legal and Compliance Costs: $50,000\n",
    "6. Partnership Fees: $100,000 (if applicable)\n",
    "\n",
    "Total Annual Costs: $1,000,000\n",
    "\n",
    "Benefits (per year):\n",
    "\n",
    "1. Improved Decision-Making: Estimated financial impact - $3,000,000\n",
    "2. Real-World Evidence Validation: Estimated financial impact - $2,000,000\n",
    "3. Enhanced Pharmacovigilance: Estimated financial impact - $1,500,000\n",
    "4. Patient-Centric Strategy: Estimated financial impact - $1,000,000\n",
    "5. Brand Perception Improvement: Estimated financial impact - $1,500,000\n",
    "6. Competitive Advantage: Estimated financial impact - $2,500,000\n",
    "\n",
    "Total Annual Benefits: $11,500,000\n",
    "\n",
    "Net Annual Benefit: Total Annual Benefits - Total Annual Costs = $11,500,000 - $1,000,000 = $10,500,000\n",
    "\n",
    "Based on this cost-benefit analysis, the project has a net annual benefit of $10,500,000. This suggests that the potential benefits significantly outweigh the costs, making the project financially viable and potentially highly lucrative for GlaxoSmithKline."
   ]
  },
  {
   "cell_type": "markdown",
   "metadata": {},
   "source": [
    " ## 1.2 What are the desired outputs of the project? <a class=\"anchor\" id=\"Desiredoutputs\"></a>"
   ]
  },
  {
   "cell_type": "markdown",
   "metadata": {},
   "source": [
    "**Business Success Criteria:**\n",
    "\n",
    "1. Increase in Market Share: Achieving a specified percentage increase in market share for GlaxoSmithKline's drugs targeted at RA, SLE, and COPD patients.\n",
    "\n",
    "2. Positive Brand Perception: Improving the overall perception of GlaxoSmithKline's brand and products among patients, as measured through brand perception surveys or feedback.\n",
    "\n",
    "3. Increased Patient Satisfaction: Enhancing patient satisfaction scores by a certain percentage through patient-centric strategies informed by patient review insights.\n",
    "\n",
    "4. Cost Reduction in Drug Development: Identifying potential cost-saving measures in drug development by leveraging real-world evidence to inform clinical trial designs.\n",
    "\n",
    "**Data Mining Success Criteria:**\n",
    "\n",
    "1. Sentiment Analysis Accuracy: Achieving an accuracy rate of at least 85% in sentiment analysis of patient reviews to ensure reliable insights.\n",
    "\n",
    "2. Adverse Event Detection Sensitivity: Detecting adverse events in patient reviews with a sensitivity of at least 90% to enhance pharmacovigilance efforts.\n",
    "\n",
    "3. Significant Association Rules: Discovering actionable associations between drugs, treatments, and patient sentiments to guide decision-making effectively.\n",
    "\n",
    "4. Robust Clustering: Successfully clustering patient reviews based on treatment response to reveal distinct patient segments.\n",
    "\n",
    "**Project Plan:**\n",
    "\n",
    "1. Data Collection and Integration: Gather patient review datasets for RA, SLE, and COPD from various sources, clean the data, and integrate it into a unified dataset.\n",
    "\n",
    "2. Data Preprocessing: Conduct data preprocessing, including text normalization, feature extraction, and handling missing values.\n",
    "\n",
    "3. Sentiment Analysis: Utilize natural language processing techniques to perform sentiment analysis on the patient reviews.\n",
    "\n",
    "4. Adverse Event Detection: Implement algorithms to identify and classify potential adverse events in the patient reviews.\n",
    "\n",
    "5. Data Mining and Analysis: Apply various data mining techniques such as association rule mining, clustering, and classification to uncover patterns and insights.\n",
    "\n",
    "6. Visualization and Reporting: Create informative visualizations and reports to present the findings to stakeholders effectively.\n",
    "\n",
    "7. Business Insights Integration: Combine data mining insights with domain expertise to derive actionable business insights.\n",
    "\n",
    "8. Strategy Development: Collaborate with the Medical Affairs team to develop patient-centric strategies and incorporate real-world evidence into decision-making.\n",
    "\n",
    "9. Legal and Compliance Review: Ensure that the project adheres to data privacy regulations and obtain necessary approvals.\n",
    "\n",
    "10. Validation and Review: Validate the results and review the project with stakeholders to ensure alignment with business objectives.\n",
    "\n",
    "11. Implementation and Monitoring: Implement the recommended strategies and continuously monitor key performance indicators (KPIs) to measure success and make adjustments if necessary.\n",
    "\n",
    "12. Project Completion and Reporting: Provide a final report summarizing the project findings, outcomes, and recommendations.\n",
    "\n",
    "The project plan outlines the key steps and timelines required to achieve the business and data mining success criteria, providing a clear roadmap for successfully leveraging patient review data to enhance GlaxoSmithKline's pharmaceutical strategies and patient outcomes."
   ]
  },
  {
   "cell_type": "markdown",
   "metadata": {},
   "source": [
    " ## 1.3 What Questions Are We Trying To Answer? <a class=\"anchor\" id=\"QA\"></a>"
   ]
  },
  {
   "cell_type": "markdown",
   "metadata": {},
   "source": [
    "1. What are the sentiments expressed by patients in their drug reviews for Rheumatoid Arthritis (RA), Systemic Lupus Erythematosus (SLE), and Chronic Obstructive Pulmonary Disease (COPD)?\n",
    "\n",
    "2. Are there any potential adverse events reported by patients related to specific drugs or treatments for these conditions?\n",
    "\n",
    "3. How do patients perceive the effectiveness of different medications for RA, SLE, and COPD?\n",
    "\n",
    "4. What are the prevailing concerns and preferences of patients regarding their treatments for these conditions?\n",
    "\n",
    "5. How can the insights from patient reviews be leveraged to improve drug development, marketing, and overall patient satisfaction for GlaxoSmithKline?\n",
    "\n",
    "6. How can real-world evidence from patient reviews complement clinical trial data and provide a more comprehensive understanding of drug performance in the market?\n",
    "\n",
    "7. What are the potential risks and benefits of forming a partnership with WebMD to gain access to patient drug reviews?\n",
    "\n",
    "8. How can we enhance pharmacovigilance efforts by detecting and monitoring adverse events reported by patients in real-world settings?\n",
    "\n",
    "9. What patient segments can be identified through clustering analysis based on treatment response and other attributes in the reviews?\n",
    "\n",
    "10. How can we integrate data mining insights with domain expertise to develop patient-centric strategies and improve patient outcomes?"
   ]
  },
  {
   "cell_type": "markdown",
   "metadata": {},
   "source": [
    "# 2. Stage  Two - Data Understanding <a class=\"anchor\" id=\"Dataunderstanding\"></a>\n",
    "The second stage of the CRISP-DM process requires you to acquire the data listed in the project resources. This initial collection includes data loading, if this is necessary for data understanding. For example, if you use a specific tool for data understanding, it makes perfect sense to load your data into this tool. If you acquire multiple data sources then you need to consider how and when you're going to integrate these."
   ]
  },
  {
   "cell_type": "markdown",
   "metadata": {},
   "source": [
    "## 2.1 Initial Data Report <a class=\"anchor\" id=\"Datareport\"></a>\n",
    "Initial data collection report - \n",
    "List the data sources acquired together with their locations, the methods used to acquire them and any problems encountered. Record problems you encountered and any resolutions achieved. This will help both with future replication of this project and with the execution of similar future projects."
   ]
  },
  {
   "cell_type": "code",
   "execution_count": 2,
   "metadata": {
    "collapsed": true
   },
   "outputs": [],
   "source": [
    "# Import Libraries Required\n",
    "import pandas as pd\n",
    "import matplotlib.pyplot as plt\n",
    "%matplotlib inline\n",
    "import numpy as np\n",
    "import seaborn as sns"
   ]
  },
  {
   "cell_type": "code",
   "execution_count": 11,
   "metadata": {
    "collapsed": true
   },
   "outputs": [],
   "source": [
    "# Convert data sources to csvs\n",
    "\n",
    "# data dictionary\n",
    "dictionary = pd.read_excel('https://github.com/BroaderImpact/Technical/blob/6d2ae7a07336642d220b53b5194cff671cfdb404/GSK/2023/webMDdata.xlsx', 'DATA_DICTIONARY')\n",
    "dictionary.to_csv('dict.csv', encoding='utf-8')\n",
    "\n",
    "# rheumatoid arthritis\n",
    "ra = pd.read_excel('https://github.com/BroaderImpact/Technical/blob/6d2ae7a07336642d220b53b5194cff671cfdb404/GSK/2023/webMDdata.xlsx', 'RHEUMATOID_ARTHRITIS')\n",
    "ra.to_csv('ra.csv', encoding='utf-8', index=False)\n",
    "\n",
    "# Lupus\n",
    "lupus = pd.read_excel('https://github.com/BroaderImpact/Technical/blob/6d2ae7a07336642d220b53b5194cff671cfdb404/GSK/2023/webMDdata.xlsx', 'SLE')\n",
    "lupus.to_csv('lupus.csv', encoding='utf-8', index=False)\n",
    "\n",
    "# COPD\n",
    "copd = pd.read_excel('https://github.com/BroaderImpact/Technical/blob/6d2ae7a07336642d220b53b5194cff671cfdb404/GSK/2023/webMDdata.xlsx', 'COPD')\n",
    "copd.to_csv('copd.csv', encoding='utf-8', index=False)\n",
    "\n"
   ]
  },
  {
   "cell_type": "code",
   "execution_count": 7,
   "metadata": {},
   "outputs": [],
   "source": [
    "# reads the data from the file - denotes as CSV, it has no header, sets column headers\n",
    "df_ra =  pd.read_csv('ra.csv', sep=',')\n",
    "df_lupus = pd.read_csv('lupus.csv', sep=',')\n",
    "df_copd = pd.read_csv('copd.csv', sep=',')\n",
    "                       "
   ]
  },
  {
   "cell_type": "code",
   "execution_count": 8,
   "metadata": {},
   "outputs": [],
   "source": [
    "# Add column with disease shorthand\n",
    "df_ra['Disease'] = 'RA'\n",
    "df_lupus['Disease'] = 'Lupus'\n",
    "df_copd['Disease'] = 'COPD'"
   ]
  },
  {
   "cell_type": "code",
   "execution_count": 12,
   "metadata": {},
   "outputs": [
    {
     "name": "stdout",
     "output_type": "stream",
     "text": [
      "Dataframes:\n"
     ]
    },
    {
     "data": {
      "text/html": [
       "<div>\n",
       "<style scoped>\n",
       "    .dataframe tbody tr th:only-of-type {\n",
       "        vertical-align: middle;\n",
       "    }\n",
       "\n",
       "    .dataframe tbody tr th {\n",
       "        vertical-align: top;\n",
       "    }\n",
       "\n",
       "    .dataframe thead th {\n",
       "        text-align: right;\n",
       "    }\n",
       "</style>\n",
       "<table border=\"1\" class=\"dataframe\">\n",
       "  <thead>\n",
       "    <tr style=\"text-align: right;\">\n",
       "      <th></th>\n",
       "      <th>Age</th>\n",
       "      <th>Condition</th>\n",
       "      <th>Date</th>\n",
       "      <th>Drug</th>\n",
       "      <th>DrugId</th>\n",
       "      <th>EaseofUse</th>\n",
       "      <th>Effectiveness</th>\n",
       "      <th>Reviews</th>\n",
       "      <th>Satisfaction</th>\n",
       "      <th>Sex</th>\n",
       "      <th>Sides</th>\n",
       "      <th>Disease</th>\n",
       "    </tr>\n",
       "  </thead>\n",
       "  <tbody>\n",
       "    <tr>\n",
       "      <th>0</th>\n",
       "      <td>45-54</td>\n",
       "      <td>Rheumatoid Arthritis</td>\n",
       "      <td>2019-05-24</td>\n",
       "      <td>humira syringe kit</td>\n",
       "      <td>64713</td>\n",
       "      <td>1</td>\n",
       "      <td>1</td>\n",
       "      <td>caused heavy legs,frequent urination, diarrea,...</td>\n",
       "      <td>1</td>\n",
       "      <td></td>\n",
       "      <td>Redness,  itching , pain, or swelling at the i...</td>\n",
       "      <td>RA</td>\n",
       "    </tr>\n",
       "    <tr>\n",
       "      <th>1</th>\n",
       "      <td>45-54</td>\n",
       "      <td>Rheumatoid Arthritis</td>\n",
       "      <td>2019-04-11</td>\n",
       "      <td>humira syringe kit</td>\n",
       "      <td>64713</td>\n",
       "      <td>1</td>\n",
       "      <td>1</td>\n",
       "      <td>Medicine does not dispense.</td>\n",
       "      <td>1</td>\n",
       "      <td></td>\n",
       "      <td>Redness,  itching , pain, or swelling at the i...</td>\n",
       "      <td>RA</td>\n",
       "    </tr>\n",
       "    <tr>\n",
       "      <th>2</th>\n",
       "      <td>55-64</td>\n",
       "      <td>Rheumatoid Arthritis</td>\n",
       "      <td>2019-02-18</td>\n",
       "      <td>humira syringe kit</td>\n",
       "      <td>64713</td>\n",
       "      <td>3</td>\n",
       "      <td>3</td>\n",
       "      <td>I was on methotrexate and it quit working for ...</td>\n",
       "      <td>3</td>\n",
       "      <td></td>\n",
       "      <td>Redness,  itching , pain, or swelling at the i...</td>\n",
       "      <td>RA</td>\n",
       "    </tr>\n",
       "    <tr>\n",
       "      <th>3</th>\n",
       "      <td>45-54</td>\n",
       "      <td>Rheumatoid Arthritis</td>\n",
       "      <td>2018-11-06</td>\n",
       "      <td>humira syringe kit</td>\n",
       "      <td>64713</td>\n",
       "      <td>5</td>\n",
       "      <td>5</td>\n",
       "      <td>The cost is outrageous. With insurance and the...</td>\n",
       "      <td>1</td>\n",
       "      <td>Male</td>\n",
       "      <td>Redness,  itching , pain, or swelling at the i...</td>\n",
       "      <td>RA</td>\n",
       "    </tr>\n",
       "    <tr>\n",
       "      <th>4</th>\n",
       "      <td>65-74</td>\n",
       "      <td>Rheumatoid Arthritis</td>\n",
       "      <td>2017-11-15</td>\n",
       "      <td>humira pen injector kit</td>\n",
       "      <td>144769</td>\n",
       "      <td>4</td>\n",
       "      <td>4</td>\n",
       "      <td>I experienced pain and stinging with the injec...</td>\n",
       "      <td>2</td>\n",
       "      <td></td>\n",
       "      <td>Redness,  itching , pain, or swelling at the i...</td>\n",
       "      <td>RA</td>\n",
       "    </tr>\n",
       "    <tr>\n",
       "      <th>...</th>\n",
       "      <td>...</td>\n",
       "      <td>...</td>\n",
       "      <td>...</td>\n",
       "      <td>...</td>\n",
       "      <td>...</td>\n",
       "      <td>...</td>\n",
       "      <td>...</td>\n",
       "      <td>...</td>\n",
       "      <td>...</td>\n",
       "      <td>...</td>\n",
       "      <td>...</td>\n",
       "      <td>...</td>\n",
       "    </tr>\n",
       "    <tr>\n",
       "      <th>180</th>\n",
       "      <td>75 or over</td>\n",
       "      <td>Rheumatoid Arthritis</td>\n",
       "      <td>2007-11-09</td>\n",
       "      <td>humira syringe kit</td>\n",
       "      <td>64713</td>\n",
       "      <td>3</td>\n",
       "      <td>5</td>\n",
       "      <td>I have been on HUMIRA for over a year, injecte...</td>\n",
       "      <td>5</td>\n",
       "      <td>Male</td>\n",
       "      <td>Redness,  itching , pain, or swelling at the i...</td>\n",
       "      <td>RA</td>\n",
       "    </tr>\n",
       "    <tr>\n",
       "      <th>181</th>\n",
       "      <td>25-34</td>\n",
       "      <td>Rheumatoid Arthritis</td>\n",
       "      <td>2007-10-23</td>\n",
       "      <td>humira syringe kit</td>\n",
       "      <td>64713</td>\n",
       "      <td>4</td>\n",
       "      <td>3</td>\n",
       "      <td>I took 3 dose in three months,but insurance co...</td>\n",
       "      <td>4</td>\n",
       "      <td>Male</td>\n",
       "      <td>Redness,  itching , pain, or swelling at the i...</td>\n",
       "      <td>RA</td>\n",
       "    </tr>\n",
       "    <tr>\n",
       "      <th>182</th>\n",
       "      <td>45-54</td>\n",
       "      <td>Rheumatoid Arthritis</td>\n",
       "      <td>2007-10-21</td>\n",
       "      <td>humira syringe kit</td>\n",
       "      <td>64713</td>\n",
       "      <td>4</td>\n",
       "      <td>5</td>\n",
       "      <td>I developed pneumonia while on this drug--and ...</td>\n",
       "      <td>4</td>\n",
       "      <td>Female</td>\n",
       "      <td>Redness,  itching , pain, or swelling at the i...</td>\n",
       "      <td>RA</td>\n",
       "    </tr>\n",
       "    <tr>\n",
       "      <th>183</th>\n",
       "      <td>45-54</td>\n",
       "      <td>Rheumatoid Arthritis</td>\n",
       "      <td>2007-10-11</td>\n",
       "      <td>humira syringe kit</td>\n",
       "      <td>64713</td>\n",
       "      <td>4</td>\n",
       "      <td>4</td>\n",
       "      <td>I have been useing this for about 2 years, I d...</td>\n",
       "      <td>5</td>\n",
       "      <td>Male</td>\n",
       "      <td>Redness,  itching , pain, or swelling at the i...</td>\n",
       "      <td>RA</td>\n",
       "    </tr>\n",
       "    <tr>\n",
       "      <th>184</th>\n",
       "      <td>75 or over</td>\n",
       "      <td>Rheumatoid Arthritis</td>\n",
       "      <td>2007-09-29</td>\n",
       "      <td>humira syringe kit</td>\n",
       "      <td>64713</td>\n",
       "      <td>3</td>\n",
       "      <td>3</td>\n",
       "      <td>injections 2xper month</td>\n",
       "      <td>3</td>\n",
       "      <td>Female</td>\n",
       "      <td>Redness,  itching , pain, or swelling at the i...</td>\n",
       "      <td>RA</td>\n",
       "    </tr>\n",
       "  </tbody>\n",
       "</table>\n",
       "<p>185 rows × 12 columns</p>\n",
       "</div>"
      ],
      "text/plain": [
       "            Age             Condition        Date                     Drug  \\\n",
       "0         45-54  Rheumatoid Arthritis  2019-05-24       humira syringe kit   \n",
       "1         45-54  Rheumatoid Arthritis  2019-04-11       humira syringe kit   \n",
       "2         55-64  Rheumatoid Arthritis  2019-02-18       humira syringe kit   \n",
       "3         45-54  Rheumatoid Arthritis  2018-11-06       humira syringe kit   \n",
       "4         65-74  Rheumatoid Arthritis  2017-11-15  humira pen injector kit   \n",
       "..          ...                   ...         ...                      ...   \n",
       "180  75 or over  Rheumatoid Arthritis  2007-11-09       humira syringe kit   \n",
       "181       25-34  Rheumatoid Arthritis  2007-10-23       humira syringe kit   \n",
       "182       45-54  Rheumatoid Arthritis  2007-10-21       humira syringe kit   \n",
       "183       45-54  Rheumatoid Arthritis  2007-10-11       humira syringe kit   \n",
       "184  75 or over  Rheumatoid Arthritis  2007-09-29       humira syringe kit   \n",
       "\n",
       "     DrugId  EaseofUse  Effectiveness  \\\n",
       "0     64713          1              1   \n",
       "1     64713          1              1   \n",
       "2     64713          3              3   \n",
       "3     64713          5              5   \n",
       "4    144769          4              4   \n",
       "..      ...        ...            ...   \n",
       "180   64713          3              5   \n",
       "181   64713          4              3   \n",
       "182   64713          4              5   \n",
       "183   64713          4              4   \n",
       "184   64713          3              3   \n",
       "\n",
       "                                               Reviews  Satisfaction     Sex  \\\n",
       "0    caused heavy legs,frequent urination, diarrea,...             1           \n",
       "1                          Medicine does not dispense.             1           \n",
       "2    I was on methotrexate and it quit working for ...             3           \n",
       "3    The cost is outrageous. With insurance and the...             1    Male   \n",
       "4    I experienced pain and stinging with the injec...             2           \n",
       "..                                                 ...           ...     ...   \n",
       "180  I have been on HUMIRA for over a year, injecte...             5    Male   \n",
       "181  I took 3 dose in three months,but insurance co...             4    Male   \n",
       "182  I developed pneumonia while on this drug--and ...             4  Female   \n",
       "183  I have been useing this for about 2 years, I d...             5    Male   \n",
       "184                             injections 2xper month             3  Female   \n",
       "\n",
       "                                                 Sides Disease  \n",
       "0    Redness,  itching , pain, or swelling at the i...      RA  \n",
       "1    Redness,  itching , pain, or swelling at the i...      RA  \n",
       "2    Redness,  itching , pain, or swelling at the i...      RA  \n",
       "3    Redness,  itching , pain, or swelling at the i...      RA  \n",
       "4    Redness,  itching , pain, or swelling at the i...      RA  \n",
       "..                                                 ...     ...  \n",
       "180  Redness,  itching , pain, or swelling at the i...      RA  \n",
       "181  Redness,  itching , pain, or swelling at the i...      RA  \n",
       "182  Redness,  itching , pain, or swelling at the i...      RA  \n",
       "183  Redness,  itching , pain, or swelling at the i...      RA  \n",
       "184  Redness,  itching , pain, or swelling at the i...      RA  \n",
       "\n",
       "[185 rows x 12 columns]"
      ]
     },
     "metadata": {},
     "output_type": "display_data"
    },
    {
     "data": {
      "text/html": [
       "<div>\n",
       "<style scoped>\n",
       "    .dataframe tbody tr th:only-of-type {\n",
       "        vertical-align: middle;\n",
       "    }\n",
       "\n",
       "    .dataframe tbody tr th {\n",
       "        vertical-align: top;\n",
       "    }\n",
       "\n",
       "    .dataframe thead th {\n",
       "        text-align: right;\n",
       "    }\n",
       "</style>\n",
       "<table border=\"1\" class=\"dataframe\">\n",
       "  <thead>\n",
       "    <tr style=\"text-align: right;\">\n",
       "      <th></th>\n",
       "      <th>Age</th>\n",
       "      <th>Condition</th>\n",
       "      <th>Date</th>\n",
       "      <th>Drug</th>\n",
       "      <th>DrugId</th>\n",
       "      <th>EaseofUse</th>\n",
       "      <th>Effectiveness</th>\n",
       "      <th>Reviews</th>\n",
       "      <th>Satisfaction</th>\n",
       "      <th>Sex</th>\n",
       "      <th>Sides</th>\n",
       "      <th>Disease</th>\n",
       "    </tr>\n",
       "  </thead>\n",
       "  <tbody>\n",
       "    <tr>\n",
       "      <th>0</th>\n",
       "      <td>65-74</td>\n",
       "      <td>Systemic Lupus Erythematosus</td>\n",
       "      <td>2017-08-09</td>\n",
       "      <td>azathioprine</td>\n",
       "      <td>13771</td>\n",
       "      <td>1</td>\n",
       "      <td>1</td>\n",
       "      <td>after being on this for 3weeks i developed a c...</td>\n",
       "      <td>1</td>\n",
       "      <td></td>\n",
       "      <td>Nausea  or  vomiting  may occur.</td>\n",
       "      <td>Lupus</td>\n",
       "    </tr>\n",
       "    <tr>\n",
       "      <th>1</th>\n",
       "      <td>55-64</td>\n",
       "      <td>Systemic Lupus Erythematosus</td>\n",
       "      <td>2013-09-25</td>\n",
       "      <td>azathioprine</td>\n",
       "      <td>13771</td>\n",
       "      <td>5</td>\n",
       "      <td>4</td>\n",
       "      <td>I am taking this med for Mixed Connective Tiss...</td>\n",
       "      <td>4</td>\n",
       "      <td>Male</td>\n",
       "      <td>Nausea  or  vomiting  may occur.</td>\n",
       "      <td>Lupus</td>\n",
       "    </tr>\n",
       "    <tr>\n",
       "      <th>2</th>\n",
       "      <td>45-54</td>\n",
       "      <td>Systemic Lupus Erythematosus</td>\n",
       "      <td>2012-08-10</td>\n",
       "      <td>azathioprine</td>\n",
       "      <td>13771</td>\n",
       "      <td>5</td>\n",
       "      <td>5</td>\n",
       "      <td>Put me into remission. No side effects at all....</td>\n",
       "      <td>5</td>\n",
       "      <td>Female</td>\n",
       "      <td>Nausea  or  vomiting  may occur.</td>\n",
       "      <td>Lupus</td>\n",
       "    </tr>\n",
       "    <tr>\n",
       "      <th>3</th>\n",
       "      <td>45-54</td>\n",
       "      <td>Systemic Lupus Erythematosus</td>\n",
       "      <td>2012-04-16</td>\n",
       "      <td>azathioprine</td>\n",
       "      <td>13771</td>\n",
       "      <td>4</td>\n",
       "      <td>3</td>\n",
       "      <td>my symptoms seem managable, but certain sympto...</td>\n",
       "      <td>2</td>\n",
       "      <td>Female</td>\n",
       "      <td>Nausea  or  vomiting  may occur.</td>\n",
       "      <td>Lupus</td>\n",
       "    </tr>\n",
       "    <tr>\n",
       "      <th>4</th>\n",
       "      <td>55-64</td>\n",
       "      <td>Systemic Lupus Erythematosus</td>\n",
       "      <td>2010-12-08</td>\n",
       "      <td>azathioprine</td>\n",
       "      <td>13771</td>\n",
       "      <td>5</td>\n",
       "      <td>5</td>\n",
       "      <td>I WAS DIAGNOSED ALMOST SIX YEARS AGO. I HAD MO...</td>\n",
       "      <td>5</td>\n",
       "      <td>Female</td>\n",
       "      <td>Nausea  or  vomiting  may occur.</td>\n",
       "      <td>Lupus</td>\n",
       "    </tr>\n",
       "    <tr>\n",
       "      <th>...</th>\n",
       "      <td>...</td>\n",
       "      <td>...</td>\n",
       "      <td>...</td>\n",
       "      <td>...</td>\n",
       "      <td>...</td>\n",
       "      <td>...</td>\n",
       "      <td>...</td>\n",
       "      <td>...</td>\n",
       "      <td>...</td>\n",
       "      <td>...</td>\n",
       "      <td>...</td>\n",
       "      <td>...</td>\n",
       "    </tr>\n",
       "    <tr>\n",
       "      <th>532</th>\n",
       "      <td>45-54</td>\n",
       "      <td>Systemic Lupus Erythematosus</td>\n",
       "      <td>2019-09-09</td>\n",
       "      <td>chloroquine phosphate</td>\n",
       "      <td>8633</td>\n",
       "      <td>3</td>\n",
       "      <td>3</td>\n",
       "      <td>I lost most of my vision from this medication....</td>\n",
       "      <td>1</td>\n",
       "      <td></td>\n",
       "      <td>Blurred vision ,  nausea ,  vomiting , abdomin...</td>\n",
       "      <td>Lupus</td>\n",
       "    </tr>\n",
       "    <tr>\n",
       "      <th>533</th>\n",
       "      <td>45-54</td>\n",
       "      <td>Systemic Lupus Erythematosus</td>\n",
       "      <td>2012-11-12</td>\n",
       "      <td>chloroquine phosphate</td>\n",
       "      <td>8633</td>\n",
       "      <td>5</td>\n",
       "      <td>5</td>\n",
       "      <td>after horrible side affects with cellcept/plaq...</td>\n",
       "      <td>5</td>\n",
       "      <td>Female</td>\n",
       "      <td>Blurred vision ,  nausea ,  vomiting , abdomin...</td>\n",
       "      <td>Lupus</td>\n",
       "    </tr>\n",
       "    <tr>\n",
       "      <th>534</th>\n",
       "      <td>55-64</td>\n",
       "      <td>Systemic Lupus Erythematosus</td>\n",
       "      <td>2011-11-12</td>\n",
       "      <td>chloroquine phosphate</td>\n",
       "      <td>8633</td>\n",
       "      <td>5</td>\n",
       "      <td>5</td>\n",
       "      <td>This drug has helped Me feel better so much. A...</td>\n",
       "      <td>4</td>\n",
       "      <td>Female</td>\n",
       "      <td>Blurred vision ,  nausea ,  vomiting , abdomin...</td>\n",
       "      <td>Lupus</td>\n",
       "    </tr>\n",
       "    <tr>\n",
       "      <th>535</th>\n",
       "      <td>45-54</td>\n",
       "      <td>Systemic Lupus Erythematosus</td>\n",
       "      <td>2010-06-22</td>\n",
       "      <td>chloroquine phosphate</td>\n",
       "      <td>8633</td>\n",
       "      <td>5</td>\n",
       "      <td>5</td>\n",
       "      <td>Without Chloroquine I am not able to walk or f...</td>\n",
       "      <td>5</td>\n",
       "      <td>Female</td>\n",
       "      <td>Blurred vision ,  nausea ,  vomiting , abdomin...</td>\n",
       "      <td>Lupus</td>\n",
       "    </tr>\n",
       "    <tr>\n",
       "      <th>536</th>\n",
       "      <td>19-24</td>\n",
       "      <td>Systemic Lupus Erythematosus</td>\n",
       "      <td>2010-03-08</td>\n",
       "      <td>chloroquine phosphate</td>\n",
       "      <td>8633</td>\n",
       "      <td>3</td>\n",
       "      <td>5</td>\n",
       "      <td>I have been on this medication for Lupus SLE f...</td>\n",
       "      <td>4</td>\n",
       "      <td>Female</td>\n",
       "      <td>Blurred vision ,  nausea ,  vomiting , abdomin...</td>\n",
       "      <td>Lupus</td>\n",
       "    </tr>\n",
       "  </tbody>\n",
       "</table>\n",
       "<p>537 rows × 12 columns</p>\n",
       "</div>"
      ],
      "text/plain": [
       "       Age                     Condition        Date                   Drug  \\\n",
       "0    65-74  Systemic Lupus Erythematosus  2017-08-09           azathioprine   \n",
       "1    55-64  Systemic Lupus Erythematosus  2013-09-25           azathioprine   \n",
       "2    45-54  Systemic Lupus Erythematosus  2012-08-10           azathioprine   \n",
       "3    45-54  Systemic Lupus Erythematosus  2012-04-16           azathioprine   \n",
       "4    55-64  Systemic Lupus Erythematosus  2010-12-08           azathioprine   \n",
       "..     ...                           ...         ...                    ...   \n",
       "532  45-54  Systemic Lupus Erythematosus  2019-09-09  chloroquine phosphate   \n",
       "533  45-54  Systemic Lupus Erythematosus  2012-11-12  chloroquine phosphate   \n",
       "534  55-64  Systemic Lupus Erythematosus  2011-11-12  chloroquine phosphate   \n",
       "535  45-54  Systemic Lupus Erythematosus  2010-06-22  chloroquine phosphate   \n",
       "536  19-24  Systemic Lupus Erythematosus  2010-03-08  chloroquine phosphate   \n",
       "\n",
       "     DrugId  EaseofUse  Effectiveness  \\\n",
       "0     13771          1              1   \n",
       "1     13771          5              4   \n",
       "2     13771          5              5   \n",
       "3     13771          4              3   \n",
       "4     13771          5              5   \n",
       "..      ...        ...            ...   \n",
       "532    8633          3              3   \n",
       "533    8633          5              5   \n",
       "534    8633          5              5   \n",
       "535    8633          5              5   \n",
       "536    8633          3              5   \n",
       "\n",
       "                                               Reviews  Satisfaction     Sex  \\\n",
       "0    after being on this for 3weeks i developed a c...             1           \n",
       "1    I am taking this med for Mixed Connective Tiss...             4    Male   \n",
       "2    Put me into remission. No side effects at all....             5  Female   \n",
       "3    my symptoms seem managable, but certain sympto...             2  Female   \n",
       "4    I WAS DIAGNOSED ALMOST SIX YEARS AGO. I HAD MO...             5  Female   \n",
       "..                                                 ...           ...     ...   \n",
       "532  I lost most of my vision from this medication....             1           \n",
       "533  after horrible side affects with cellcept/plaq...             5  Female   \n",
       "534  This drug has helped Me feel better so much. A...             4  Female   \n",
       "535  Without Chloroquine I am not able to walk or f...             5  Female   \n",
       "536  I have been on this medication for Lupus SLE f...             4  Female   \n",
       "\n",
       "                                                 Sides Disease  \n",
       "0                     Nausea  or  vomiting  may occur.   Lupus  \n",
       "1                     Nausea  or  vomiting  may occur.   Lupus  \n",
       "2                     Nausea  or  vomiting  may occur.   Lupus  \n",
       "3                     Nausea  or  vomiting  may occur.   Lupus  \n",
       "4                     Nausea  or  vomiting  may occur.   Lupus  \n",
       "..                                                 ...     ...  \n",
       "532  Blurred vision ,  nausea ,  vomiting , abdomin...   Lupus  \n",
       "533  Blurred vision ,  nausea ,  vomiting , abdomin...   Lupus  \n",
       "534  Blurred vision ,  nausea ,  vomiting , abdomin...   Lupus  \n",
       "535  Blurred vision ,  nausea ,  vomiting , abdomin...   Lupus  \n",
       "536  Blurred vision ,  nausea ,  vomiting , abdomin...   Lupus  \n",
       "\n",
       "[537 rows x 12 columns]"
      ]
     },
     "metadata": {},
     "output_type": "display_data"
    },
    {
     "data": {
      "text/html": [
       "<div>\n",
       "<style scoped>\n",
       "    .dataframe tbody tr th:only-of-type {\n",
       "        vertical-align: middle;\n",
       "    }\n",
       "\n",
       "    .dataframe tbody tr th {\n",
       "        vertical-align: top;\n",
       "    }\n",
       "\n",
       "    .dataframe thead th {\n",
       "        text-align: right;\n",
       "    }\n",
       "</style>\n",
       "<table border=\"1\" class=\"dataframe\">\n",
       "  <thead>\n",
       "    <tr style=\"text-align: right;\">\n",
       "      <th></th>\n",
       "      <th>Age</th>\n",
       "      <th>Condition</th>\n",
       "      <th>Date</th>\n",
       "      <th>Drug</th>\n",
       "      <th>DrugId</th>\n",
       "      <th>EaseofUse</th>\n",
       "      <th>Effectiveness</th>\n",
       "      <th>Reviews</th>\n",
       "      <th>Satisfaction</th>\n",
       "      <th>Sex</th>\n",
       "      <th>Sides</th>\n",
       "      <th>Disease</th>\n",
       "    </tr>\n",
       "  </thead>\n",
       "  <tbody>\n",
       "    <tr>\n",
       "      <th>0</th>\n",
       "      <td>65-74</td>\n",
       "      <td>Bronchospasm Prevention with COPD</td>\n",
       "      <td>2017-10-26</td>\n",
       "      <td>olodaterol mist</td>\n",
       "      <td>166797</td>\n",
       "      <td>4</td>\n",
       "      <td>4</td>\n",
       "      <td>Has really helped my breathing!!</td>\n",
       "      <td>4</td>\n",
       "      <td>Male</td>\n",
       "      <td>Nervousness, shaking (tremor), and  trouble sl...</td>\n",
       "      <td>COPD</td>\n",
       "    </tr>\n",
       "    <tr>\n",
       "      <th>1</th>\n",
       "      <td>65-74</td>\n",
       "      <td>COPD with Chronic Bronchitis</td>\n",
       "      <td>2016-05-18</td>\n",
       "      <td>perforomist vial for nebulizer</td>\n",
       "      <td>148979</td>\n",
       "      <td>2</td>\n",
       "      <td>2</td>\n",
       "      <td>make my mouth blister</td>\n",
       "      <td>1</td>\n",
       "      <td>Male</td>\n",
       "      <td>Shakiness (tremor),  nausea ,  headache , nerv...</td>\n",
       "      <td>COPD</td>\n",
       "    </tr>\n",
       "    <tr>\n",
       "      <th>2</th>\n",
       "      <td>65-74</td>\n",
       "      <td>COPD with Chronic Bronchitis</td>\n",
       "      <td>2013-11-01</td>\n",
       "      <td>perforomist vial for nebulizer</td>\n",
       "      <td>148979</td>\n",
       "      <td>5</td>\n",
       "      <td>5</td>\n",
       "      <td></td>\n",
       "      <td>5</td>\n",
       "      <td>Female</td>\n",
       "      <td>Shakiness (tremor),  nausea ,  headache , nerv...</td>\n",
       "      <td>COPD</td>\n",
       "    </tr>\n",
       "    <tr>\n",
       "      <th>3</th>\n",
       "      <td>75 or over</td>\n",
       "      <td>COPD with Chronic Bronchitis</td>\n",
       "      <td>2013-03-10</td>\n",
       "      <td>perforomist vial for nebulizer</td>\n",
       "      <td>148979</td>\n",
       "      <td>5</td>\n",
       "      <td>5</td>\n",
       "      <td></td>\n",
       "      <td>5</td>\n",
       "      <td>Male</td>\n",
       "      <td>Shakiness (tremor),  nausea ,  headache , nerv...</td>\n",
       "      <td>COPD</td>\n",
       "    </tr>\n",
       "    <tr>\n",
       "      <th>4</th>\n",
       "      <td>55-64</td>\n",
       "      <td>Bronchi Muscle Spasm resulting from COPD</td>\n",
       "      <td>2007-12-23</td>\n",
       "      <td>perforomist vial for nebulizer</td>\n",
       "      <td>148979</td>\n",
       "      <td>5</td>\n",
       "      <td>5</td>\n",
       "      <td>This drug is very effective in relieving my br...</td>\n",
       "      <td>5</td>\n",
       "      <td>Female</td>\n",
       "      <td>Shakiness (tremor),  nausea ,  headache , nerv...</td>\n",
       "      <td>COPD</td>\n",
       "    </tr>\n",
       "    <tr>\n",
       "      <th>...</th>\n",
       "      <td>...</td>\n",
       "      <td>...</td>\n",
       "      <td>...</td>\n",
       "      <td>...</td>\n",
       "      <td>...</td>\n",
       "      <td>...</td>\n",
       "      <td>...</td>\n",
       "      <td>...</td>\n",
       "      <td>...</td>\n",
       "      <td>...</td>\n",
       "      <td>...</td>\n",
       "      <td>...</td>\n",
       "    </tr>\n",
       "    <tr>\n",
       "      <th>730</th>\n",
       "      <td>65-74</td>\n",
       "      <td>COPD with Chronic Bronchitis</td>\n",
       "      <td>2011-08-27</td>\n",
       "      <td>daliresp</td>\n",
       "      <td>155809</td>\n",
       "      <td>2</td>\n",
       "      <td>3</td>\n",
       "      <td></td>\n",
       "      <td>2</td>\n",
       "      <td>Male</td>\n",
       "      <td>Diarrhea ,  weight loss ,  stomach / abdominal...</td>\n",
       "      <td>COPD</td>\n",
       "    </tr>\n",
       "    <tr>\n",
       "      <th>731</th>\n",
       "      <td>55-64</td>\n",
       "      <td>COPD with Chronic Bronchitis</td>\n",
       "      <td>2011-08-25</td>\n",
       "      <td>daliresp</td>\n",
       "      <td>155809</td>\n",
       "      <td>4</td>\n",
       "      <td>5</td>\n",
       "      <td>After getting past some rather severe side eff...</td>\n",
       "      <td>5</td>\n",
       "      <td>Female</td>\n",
       "      <td>Diarrhea ,  weight loss ,  stomach / abdominal...</td>\n",
       "      <td>COPD</td>\n",
       "    </tr>\n",
       "    <tr>\n",
       "      <th>732</th>\n",
       "      <td>45-54</td>\n",
       "      <td>COPD with Chronic Bronchitis</td>\n",
       "      <td>2011-08-20</td>\n",
       "      <td>daliresp</td>\n",
       "      <td>155809</td>\n",
       "      <td>5</td>\n",
       "      <td>5</td>\n",
       "      <td></td>\n",
       "      <td>5</td>\n",
       "      <td>Female</td>\n",
       "      <td>Diarrhea ,  weight loss ,  stomach / abdominal...</td>\n",
       "      <td>COPD</td>\n",
       "    </tr>\n",
       "    <tr>\n",
       "      <th>733</th>\n",
       "      <td>55-64</td>\n",
       "      <td>COPD with Chronic Bronchitis</td>\n",
       "      <td>2011-08-19</td>\n",
       "      <td>daliresp</td>\n",
       "      <td>155809</td>\n",
       "      <td>5</td>\n",
       "      <td>5</td>\n",
       "      <td>I was experiencing frequent shortness of breat...</td>\n",
       "      <td>5</td>\n",
       "      <td>Female</td>\n",
       "      <td>Diarrhea ,  weight loss ,  stomach / abdominal...</td>\n",
       "      <td>COPD</td>\n",
       "    </tr>\n",
       "    <tr>\n",
       "      <th>734</th>\n",
       "      <td>55-64</td>\n",
       "      <td>COPD with Chronic Bronchitis</td>\n",
       "      <td>2011-07-13</td>\n",
       "      <td>daliresp</td>\n",
       "      <td>155809</td>\n",
       "      <td>5</td>\n",
       "      <td>4</td>\n",
       "      <td>This drug does more than I ever expected it wo...</td>\n",
       "      <td>5</td>\n",
       "      <td>Male</td>\n",
       "      <td>Diarrhea ,  weight loss ,  stomach / abdominal...</td>\n",
       "      <td>COPD</td>\n",
       "    </tr>\n",
       "  </tbody>\n",
       "</table>\n",
       "<p>735 rows × 12 columns</p>\n",
       "</div>"
      ],
      "text/plain": [
       "            Age                                 Condition        Date  \\\n",
       "0         65-74         Bronchospasm Prevention with COPD  2017-10-26   \n",
       "1         65-74              COPD with Chronic Bronchitis  2016-05-18   \n",
       "2         65-74              COPD with Chronic Bronchitis  2013-11-01   \n",
       "3    75 or over              COPD with Chronic Bronchitis  2013-03-10   \n",
       "4         55-64  Bronchi Muscle Spasm resulting from COPD  2007-12-23   \n",
       "..          ...                                       ...         ...   \n",
       "730       65-74              COPD with Chronic Bronchitis  2011-08-27   \n",
       "731       55-64              COPD with Chronic Bronchitis  2011-08-25   \n",
       "732       45-54              COPD with Chronic Bronchitis  2011-08-20   \n",
       "733       55-64              COPD with Chronic Bronchitis  2011-08-19   \n",
       "734       55-64              COPD with Chronic Bronchitis  2011-07-13   \n",
       "\n",
       "                               Drug  DrugId  EaseofUse  Effectiveness  \\\n",
       "0                   olodaterol mist  166797          4              4   \n",
       "1    perforomist vial for nebulizer  148979          2              2   \n",
       "2    perforomist vial for nebulizer  148979          5              5   \n",
       "3    perforomist vial for nebulizer  148979          5              5   \n",
       "4    perforomist vial for nebulizer  148979          5              5   \n",
       "..                              ...     ...        ...            ...   \n",
       "730                        daliresp  155809          2              3   \n",
       "731                        daliresp  155809          4              5   \n",
       "732                        daliresp  155809          5              5   \n",
       "733                        daliresp  155809          5              5   \n",
       "734                        daliresp  155809          5              4   \n",
       "\n",
       "                                               Reviews  Satisfaction     Sex  \\\n",
       "0                     Has really helped my breathing!!             4    Male   \n",
       "1                                make my mouth blister             1    Male   \n",
       "2                                                                  5  Female   \n",
       "3                                                                  5    Male   \n",
       "4    This drug is very effective in relieving my br...             5  Female   \n",
       "..                                                 ...           ...     ...   \n",
       "730                                                                2    Male   \n",
       "731  After getting past some rather severe side eff...             5  Female   \n",
       "732                                                                5  Female   \n",
       "733  I was experiencing frequent shortness of breat...             5  Female   \n",
       "734  This drug does more than I ever expected it wo...             5    Male   \n",
       "\n",
       "                                                 Sides Disease  \n",
       "0    Nervousness, shaking (tremor), and  trouble sl...    COPD  \n",
       "1    Shakiness (tremor),  nausea ,  headache , nerv...    COPD  \n",
       "2    Shakiness (tremor),  nausea ,  headache , nerv...    COPD  \n",
       "3    Shakiness (tremor),  nausea ,  headache , nerv...    COPD  \n",
       "4    Shakiness (tremor),  nausea ,  headache , nerv...    COPD  \n",
       "..                                                 ...     ...  \n",
       "730  Diarrhea ,  weight loss ,  stomach / abdominal...    COPD  \n",
       "731  Diarrhea ,  weight loss ,  stomach / abdominal...    COPD  \n",
       "732  Diarrhea ,  weight loss ,  stomach / abdominal...    COPD  \n",
       "733  Diarrhea ,  weight loss ,  stomach / abdominal...    COPD  \n",
       "734  Diarrhea ,  weight loss ,  stomach / abdominal...    COPD  \n",
       "\n",
       "[735 rows x 12 columns]"
      ]
     },
     "metadata": {},
     "output_type": "display_data"
    },
    {
     "name": "stdout",
     "output_type": "stream",
     "text": [
      "After merging:\n"
     ]
    }
   ],
   "source": [
    "# Combine dataframes into a single dataframe\n",
    "\n",
    "# display dataframes\n",
    "print('Dataframes:')\n",
    "display(df_ra)\n",
    "display(df_lupus)\n",
    "display(df_copd)\n",
    "\n",
    "# merge data frames\n",
    "print('After merging:')\n",
    "df = pd.concat([df_ra, df_lupus, df_copd], axis=0)"
   ]
  },
  {
   "cell_type": "markdown",
   "metadata": {},
   "source": [
    "## 2.2 Describe Data <a class=\"anchor\" id=\"Describedata\"></a>\n",
    "Data description report - Describe the data that has been acquired including its format, its quantity (for example, the number of records and fields in each table), the identities of the fields and any other surface features which have been discovered. Evaluate whether the data acquired satisfies your requirements."
   ]
  },
  {
   "cell_type": "code",
   "execution_count": 13,
   "metadata": {},
   "outputs": [
    {
     "data": {
      "text/plain": [
       "Index(['Age', 'Condition', 'Date', 'Drug', 'DrugId', 'EaseofUse',\n",
       "       'Effectiveness', 'Reviews', 'Satisfaction', 'Sex', 'Sides', 'Disease'],\n",
       "      dtype='object')"
      ]
     },
     "execution_count": 13,
     "metadata": {},
     "output_type": "execute_result"
    }
   ],
   "source": [
    "df.columns"
   ]
  },
  {
   "cell_type": "code",
   "execution_count": 14,
   "metadata": {},
   "outputs": [
    {
     "data": {
      "text/plain": [
       "(1457, 12)"
      ]
     },
     "execution_count": 14,
     "metadata": {},
     "output_type": "execute_result"
    }
   ],
   "source": [
    "df.shape"
   ]
  },
  {
   "cell_type": "code",
   "execution_count": 15,
   "metadata": {},
   "outputs": [
    {
     "data": {
      "text/plain": [
       "Age              object\n",
       "Condition        object\n",
       "Date             object\n",
       "Drug             object\n",
       "DrugId            int64\n",
       "EaseofUse         int64\n",
       "Effectiveness     int64\n",
       "Reviews          object\n",
       "Satisfaction      int64\n",
       "Sex              object\n",
       "Sides            object\n",
       "Disease          object\n",
       "dtype: object"
      ]
     },
     "execution_count": 15,
     "metadata": {},
     "output_type": "execute_result"
    }
   ],
   "source": [
    "df.dtypes"
   ]
  },
  {
   "cell_type": "code",
   "execution_count": 16,
   "metadata": {},
   "outputs": [
    {
     "data": {
      "text/html": [
       "<div>\n",
       "<style scoped>\n",
       "    .dataframe tbody tr th:only-of-type {\n",
       "        vertical-align: middle;\n",
       "    }\n",
       "\n",
       "    .dataframe tbody tr th {\n",
       "        vertical-align: top;\n",
       "    }\n",
       "\n",
       "    .dataframe thead th {\n",
       "        text-align: right;\n",
       "    }\n",
       "</style>\n",
       "<table border=\"1\" class=\"dataframe\">\n",
       "  <thead>\n",
       "    <tr style=\"text-align: right;\">\n",
       "      <th></th>\n",
       "      <th>DrugId</th>\n",
       "      <th>EaseofUse</th>\n",
       "      <th>Effectiveness</th>\n",
       "      <th>Satisfaction</th>\n",
       "    </tr>\n",
       "  </thead>\n",
       "  <tbody>\n",
       "    <tr>\n",
       "      <th>count</th>\n",
       "      <td>1457.000000</td>\n",
       "      <td>1457.000000</td>\n",
       "      <td>1457.000000</td>\n",
       "      <td>1457.000000</td>\n",
       "    </tr>\n",
       "    <tr>\n",
       "      <th>mean</th>\n",
       "      <td>75107.999314</td>\n",
       "      <td>3.955388</td>\n",
       "      <td>3.516815</td>\n",
       "      <td>3.174331</td>\n",
       "    </tr>\n",
       "    <tr>\n",
       "      <th>std</th>\n",
       "      <td>66351.231278</td>\n",
       "      <td>1.334789</td>\n",
       "      <td>1.441591</td>\n",
       "      <td>1.581078</td>\n",
       "    </tr>\n",
       "    <tr>\n",
       "      <th>min</th>\n",
       "      <td>9.000000</td>\n",
       "      <td>1.000000</td>\n",
       "      <td>1.000000</td>\n",
       "      <td>1.000000</td>\n",
       "    </tr>\n",
       "    <tr>\n",
       "      <th>25%</th>\n",
       "      <td>6986.000000</td>\n",
       "      <td>3.000000</td>\n",
       "      <td>3.000000</td>\n",
       "      <td>1.000000</td>\n",
       "    </tr>\n",
       "    <tr>\n",
       "      <th>50%</th>\n",
       "      <td>64713.000000</td>\n",
       "      <td>4.000000</td>\n",
       "      <td>4.000000</td>\n",
       "      <td>3.000000</td>\n",
       "    </tr>\n",
       "    <tr>\n",
       "      <th>75%</th>\n",
       "      <td>148393.000000</td>\n",
       "      <td>5.000000</td>\n",
       "      <td>5.000000</td>\n",
       "      <td>5.000000</td>\n",
       "    </tr>\n",
       "    <tr>\n",
       "      <th>max</th>\n",
       "      <td>176849.000000</td>\n",
       "      <td>5.000000</td>\n",
       "      <td>5.000000</td>\n",
       "      <td>5.000000</td>\n",
       "    </tr>\n",
       "  </tbody>\n",
       "</table>\n",
       "</div>"
      ],
      "text/plain": [
       "              DrugId    EaseofUse  Effectiveness  Satisfaction\n",
       "count    1457.000000  1457.000000    1457.000000   1457.000000\n",
       "mean    75107.999314     3.955388       3.516815      3.174331\n",
       "std     66351.231278     1.334789       1.441591      1.581078\n",
       "min         9.000000     1.000000       1.000000      1.000000\n",
       "25%      6986.000000     3.000000       3.000000      1.000000\n",
       "50%     64713.000000     4.000000       4.000000      3.000000\n",
       "75%    148393.000000     5.000000       5.000000      5.000000\n",
       "max    176849.000000     5.000000       5.000000      5.000000"
      ]
     },
     "execution_count": 16,
     "metadata": {},
     "output_type": "execute_result"
    }
   ],
   "source": [
    "df.describe()"
   ]
  },
  {
   "cell_type": "code",
   "execution_count": 17,
   "metadata": {},
   "outputs": [
    {
     "name": "stdout",
     "output_type": "stream",
     "text": [
      "<class 'pandas.core.frame.DataFrame'>\n",
      "Int64Index: 1457 entries, 0 to 734\n",
      "Data columns (total 12 columns):\n",
      " #   Column         Non-Null Count  Dtype \n",
      "---  ------         --------------  ----- \n",
      " 0   Age            1457 non-null   object\n",
      " 1   Condition      1457 non-null   object\n",
      " 2   Date           1457 non-null   object\n",
      " 3   Drug           1457 non-null   object\n",
      " 4   DrugId         1457 non-null   int64 \n",
      " 5   EaseofUse      1457 non-null   int64 \n",
      " 6   Effectiveness  1457 non-null   int64 \n",
      " 7   Reviews        1457 non-null   object\n",
      " 8   Satisfaction   1457 non-null   int64 \n",
      " 9   Sex            1457 non-null   object\n",
      " 10  Sides          1457 non-null   object\n",
      " 11  Disease        1457 non-null   object\n",
      "dtypes: int64(4), object(8)\n",
      "memory usage: 148.0+ KB\n"
     ]
    }
   ],
   "source": [
    "df.info()"
   ]
  },
  {
   "cell_type": "code",
   "execution_count": 18,
   "metadata": {},
   "outputs": [
    {
     "data": {
      "text/html": [
       "<div>\n",
       "<style scoped>\n",
       "    .dataframe tbody tr th:only-of-type {\n",
       "        vertical-align: middle;\n",
       "    }\n",
       "\n",
       "    .dataframe tbody tr th {\n",
       "        vertical-align: top;\n",
       "    }\n",
       "\n",
       "    .dataframe thead th {\n",
       "        text-align: right;\n",
       "    }\n",
       "</style>\n",
       "<table border=\"1\" class=\"dataframe\">\n",
       "  <thead>\n",
       "    <tr style=\"text-align: right;\">\n",
       "      <th></th>\n",
       "      <th>Age</th>\n",
       "      <th>Condition</th>\n",
       "      <th>Date</th>\n",
       "      <th>Drug</th>\n",
       "      <th>DrugId</th>\n",
       "      <th>EaseofUse</th>\n",
       "      <th>Effectiveness</th>\n",
       "      <th>Reviews</th>\n",
       "      <th>Satisfaction</th>\n",
       "      <th>Sex</th>\n",
       "      <th>Sides</th>\n",
       "      <th>Disease</th>\n",
       "    </tr>\n",
       "  </thead>\n",
       "  <tbody>\n",
       "    <tr>\n",
       "      <th>0</th>\n",
       "      <td>45-54</td>\n",
       "      <td>Rheumatoid Arthritis</td>\n",
       "      <td>2019-05-24</td>\n",
       "      <td>humira syringe kit</td>\n",
       "      <td>64713</td>\n",
       "      <td>1</td>\n",
       "      <td>1</td>\n",
       "      <td>caused heavy legs,frequent urination, diarrea,...</td>\n",
       "      <td>1</td>\n",
       "      <td></td>\n",
       "      <td>Redness,  itching , pain, or swelling at the i...</td>\n",
       "      <td>RA</td>\n",
       "    </tr>\n",
       "    <tr>\n",
       "      <th>1</th>\n",
       "      <td>45-54</td>\n",
       "      <td>Rheumatoid Arthritis</td>\n",
       "      <td>2019-04-11</td>\n",
       "      <td>humira syringe kit</td>\n",
       "      <td>64713</td>\n",
       "      <td>1</td>\n",
       "      <td>1</td>\n",
       "      <td>Medicine does not dispense.</td>\n",
       "      <td>1</td>\n",
       "      <td></td>\n",
       "      <td>Redness,  itching , pain, or swelling at the i...</td>\n",
       "      <td>RA</td>\n",
       "    </tr>\n",
       "    <tr>\n",
       "      <th>2</th>\n",
       "      <td>55-64</td>\n",
       "      <td>Rheumatoid Arthritis</td>\n",
       "      <td>2019-02-18</td>\n",
       "      <td>humira syringe kit</td>\n",
       "      <td>64713</td>\n",
       "      <td>3</td>\n",
       "      <td>3</td>\n",
       "      <td>I was on methotrexate and it quit working for ...</td>\n",
       "      <td>3</td>\n",
       "      <td></td>\n",
       "      <td>Redness,  itching , pain, or swelling at the i...</td>\n",
       "      <td>RA</td>\n",
       "    </tr>\n",
       "    <tr>\n",
       "      <th>3</th>\n",
       "      <td>45-54</td>\n",
       "      <td>Rheumatoid Arthritis</td>\n",
       "      <td>2018-11-06</td>\n",
       "      <td>humira syringe kit</td>\n",
       "      <td>64713</td>\n",
       "      <td>5</td>\n",
       "      <td>5</td>\n",
       "      <td>The cost is outrageous. With insurance and the...</td>\n",
       "      <td>1</td>\n",
       "      <td>Male</td>\n",
       "      <td>Redness,  itching , pain, or swelling at the i...</td>\n",
       "      <td>RA</td>\n",
       "    </tr>\n",
       "    <tr>\n",
       "      <th>4</th>\n",
       "      <td>65-74</td>\n",
       "      <td>Rheumatoid Arthritis</td>\n",
       "      <td>2017-11-15</td>\n",
       "      <td>humira pen injector kit</td>\n",
       "      <td>144769</td>\n",
       "      <td>4</td>\n",
       "      <td>4</td>\n",
       "      <td>I experienced pain and stinging with the injec...</td>\n",
       "      <td>2</td>\n",
       "      <td></td>\n",
       "      <td>Redness,  itching , pain, or swelling at the i...</td>\n",
       "      <td>RA</td>\n",
       "    </tr>\n",
       "  </tbody>\n",
       "</table>\n",
       "</div>"
      ],
      "text/plain": [
       "     Age             Condition        Date                     Drug  DrugId  \\\n",
       "0  45-54  Rheumatoid Arthritis  2019-05-24       humira syringe kit   64713   \n",
       "1  45-54  Rheumatoid Arthritis  2019-04-11       humira syringe kit   64713   \n",
       "2  55-64  Rheumatoid Arthritis  2019-02-18       humira syringe kit   64713   \n",
       "3  45-54  Rheumatoid Arthritis  2018-11-06       humira syringe kit   64713   \n",
       "4  65-74  Rheumatoid Arthritis  2017-11-15  humira pen injector kit  144769   \n",
       "\n",
       "   EaseofUse  Effectiveness  \\\n",
       "0          1              1   \n",
       "1          1              1   \n",
       "2          3              3   \n",
       "3          5              5   \n",
       "4          4              4   \n",
       "\n",
       "                                             Reviews  Satisfaction   Sex  \\\n",
       "0  caused heavy legs,frequent urination, diarrea,...             1         \n",
       "1                        Medicine does not dispense.             1         \n",
       "2  I was on methotrexate and it quit working for ...             3         \n",
       "3  The cost is outrageous. With insurance and the...             1  Male   \n",
       "4  I experienced pain and stinging with the injec...             2         \n",
       "\n",
       "                                               Sides Disease  \n",
       "0  Redness,  itching , pain, or swelling at the i...      RA  \n",
       "1  Redness,  itching , pain, or swelling at the i...      RA  \n",
       "2  Redness,  itching , pain, or swelling at the i...      RA  \n",
       "3  Redness,  itching , pain, or swelling at the i...      RA  \n",
       "4  Redness,  itching , pain, or swelling at the i...      RA  "
      ]
     },
     "execution_count": 18,
     "metadata": {},
     "output_type": "execute_result"
    }
   ],
   "source": [
    "df.head(5)"
   ]
  },
  {
   "cell_type": "markdown",
   "metadata": {},
   "source": [
    "## 2.3 Verify Data Quality <a class=\"anchor\" id=\"Verifydataquality\"></a>\n",
    "\n",
    "Examine the quality of the data, addressing questions such as:\n",
    "\n",
    "- Is the data complete (does it cover all the cases required)?\n",
    "- Is it correct, or does it contain errors and, if there are errors, how common are they?\n",
    "- Are there missing values in the data? If so, how are they represented, where do they occur, and how common are they?"
   ]
  },
  {
   "cell_type": "markdown",
   "metadata": {},
   "source": [
    "### 2.3.1. Missing Data <a class=\"anchor\" id=\"MissingData\"></a>\n",
    "In addition to incorrect datatypes, another common problem when dealing with real-world data is missing values. These can arise for many reasons and have to be either filled in or removed before we train a machine learning model. First, let’s get a sense of how many missing values are in each column \n",
    "\n",
    "While we always want to be careful about removing information, if a column has a high percentage of missing values, then it probably will not be useful to our model. The threshold for removing columns should depend on the problem"
   ]
  },
  {
   "cell_type": "code",
   "execution_count": 19,
   "metadata": {},
   "outputs": [
    {
     "data": {
      "text/plain": [
       "Age              0\n",
       "Condition        0\n",
       "Date             0\n",
       "Drug             0\n",
       "DrugId           0\n",
       "EaseofUse        0\n",
       "Effectiveness    0\n",
       "Reviews          0\n",
       "Satisfaction     0\n",
       "Sex              0\n",
       "Sides            0\n",
       "Disease          0\n",
       "dtype: int64"
      ]
     },
     "execution_count": 19,
     "metadata": {},
     "output_type": "execute_result"
    }
   ],
   "source": [
    "df.isnull().sum()"
   ]
  },
  {
   "cell_type": "code",
   "execution_count": 20,
   "metadata": {
    "collapsed": true
   },
   "outputs": [],
   "source": [
    "def missing_values_table(df):\n",
    "        mis_val = df.isnull().sum()\n",
    "        mis_val_percent = 100 * df.isnull().sum() / len(df)\n",
    "        mis_val_table = pd.concat([mis_val, mis_val_percent], axis=1)\n",
    "        mis_val_table_ren_columns = mis_val_table.rename(\n",
    "        columns = {0 : 'Missing Values', 1 : '% of Total Values'})\n",
    "        mis_val_table_ren_columns = mis_val_table_ren_columns[\n",
    "            mis_val_table_ren_columns.iloc[:,1] != 0].sort_values(\n",
    "        '% of Total Values', ascending=False).round(1)\n",
    "        print (\"Your selected dataframe has \" + str(df.shape[1]) + \" columns.\\n\"      \n",
    "            \"There are \" + str(mis_val_table_ren_columns.shape[0]) +\n",
    "              \" columns that have missing values.\")\n",
    "        return mis_val_table_ren_columns"
   ]
  },
  {
   "cell_type": "code",
   "execution_count": 21,
   "metadata": {},
   "outputs": [
    {
     "name": "stdout",
     "output_type": "stream",
     "text": [
      "Your selected dataframe has 12 columns.\n",
      "There are 0 columns that have missing values.\n"
     ]
    },
    {
     "data": {
      "text/html": [
       "<div>\n",
       "<style scoped>\n",
       "    .dataframe tbody tr th:only-of-type {\n",
       "        vertical-align: middle;\n",
       "    }\n",
       "\n",
       "    .dataframe tbody tr th {\n",
       "        vertical-align: top;\n",
       "    }\n",
       "\n",
       "    .dataframe thead th {\n",
       "        text-align: right;\n",
       "    }\n",
       "</style>\n",
       "<table border=\"1\" class=\"dataframe\">\n",
       "  <thead>\n",
       "    <tr style=\"text-align: right;\">\n",
       "      <th></th>\n",
       "      <th>Missing Values</th>\n",
       "      <th>% of Total Values</th>\n",
       "    </tr>\n",
       "  </thead>\n",
       "  <tbody>\n",
       "  </tbody>\n",
       "</table>\n",
       "</div>"
      ],
      "text/plain": [
       "Empty DataFrame\n",
       "Columns: [Missing Values, % of Total Values]\n",
       "Index: []"
      ]
     },
     "execution_count": 21,
     "metadata": {},
     "output_type": "execute_result"
    }
   ],
   "source": [
    "missing_values_table(df)"
   ]
  },
  {
   "cell_type": "code",
   "execution_count": 22,
   "metadata": {},
   "outputs": [
    {
     "name": "stdout",
     "output_type": "stream",
     "text": [
      "Your selected dataframe has 12 columns.\n",
      "There are 0 columns that have missing values.\n",
      "We will remove 0 columns.\n"
     ]
    }
   ],
   "source": [
    "# Get the columns with > 50% missing\n",
    "missing_df = missing_values_table(df);\n",
    "missing_columns = list(missing_df[missing_df['% of Total Values'] > 50].index)\n",
    "print('We will remove %d columns.' % len(missing_columns))"
   ]
  },
  {
   "cell_type": "code",
   "execution_count": 23,
   "metadata": {
    "collapsed": true
   },
   "outputs": [],
   "source": [
    "# Drop the columns\n",
    "df = df.drop(list(missing_columns))"
   ]
  },
  {
   "cell_type": "markdown",
   "metadata": {},
   "source": [
    "### 2.3.2. Outliers <a class=\"anchor\" id=\"Outliers\"></a>\n",
    "At this point, we may also want to remove outliers. These can be due to typos in data entry, mistakes in units, or they could be legitimate but extreme values. For this project, we will remove anomalies based on the definition of extreme outliers:\n",
    "\n",
    "https://www.itl.nist.gov/div898/handbook/prc/section1/prc16.htm\n",
    "\n",
    "- Below the first quartile − 3 ∗ interquartile range\n",
    "- Above the third quartile + 3 ∗ interquartile range"
   ]
  },
  {
   "cell_type": "markdown",
   "metadata": {},
   "source": [
    "## 2.4 Initial Data Exploration  <a class=\"anchor\" id=\"Exploredata\"></a>\n",
    "During this stage you'll address data mining questions using querying, data visualization and reporting techniques. These may include:\n",
    "\n",
    "- **Distribution** of key attributes (for example, the target attribute of a prediction task)\n",
    "- **Relationships** between pairs or small numbers of attributes\n",
    "- Results of **simple aggregations**\n",
    "- **Properties** of significant sub-populations\n",
    "- **Simple** statistical analyses\n",
    "\n",
    "These analyses may directly address your data mining goals. They may also contribute to or refine the data description and quality reports, and feed into the transformation and other data preparation steps needed for further analysis. \n",
    "\n",
    "- **Data exploration report** - Describe results of your data exploration, including first findings or initial hypothesis and their impact on the remainder of the project. If appropriate you could include graphs and plots here to indicate data characteristics that suggest further examination of interesting data subsets."
   ]
  },
  {
   "cell_type": "markdown",
   "metadata": {},
   "source": [
    "### 2.4.1 Distributions  <a class=\"anchor\" id=\"Distributions\"></a>"
   ]
  },
  {
   "cell_type": "code",
   "execution_count": 24,
   "metadata": {
    "collapsed": true
   },
   "outputs": [],
   "source": [
    "def count_values_table(df):\n",
    "        count_val = df.value_counts()\n",
    "        count_val_percent = 100 * df.value_counts() / len(df)\n",
    "        count_val_table = pd.concat([count_val, count_val_percent.round(1)], axis=1)\n",
    "        count_val_table_ren_columns = count_val_table.rename(\n",
    "        columns = {0 : 'Count Values', 1 : '% of Total Values'})\n",
    "        return count_val_table_ren_columns"
   ]
  },
  {
   "cell_type": "code",
   "execution_count": 29,
   "metadata": {
    "collapsed": true
   },
   "outputs": [
    {
     "data": {
      "text/html": [
       "<div>\n",
       "<style scoped>\n",
       "    .dataframe tbody tr th:only-of-type {\n",
       "        vertical-align: middle;\n",
       "    }\n",
       "\n",
       "    .dataframe tbody tr th {\n",
       "        vertical-align: top;\n",
       "    }\n",
       "\n",
       "    .dataframe thead th {\n",
       "        text-align: right;\n",
       "    }\n",
       "</style>\n",
       "<table border=\"1\" class=\"dataframe\">\n",
       "  <thead>\n",
       "    <tr style=\"text-align: right;\">\n",
       "      <th></th>\n",
       "      <th>EaseofUse</th>\n",
       "      <th>EaseofUse</th>\n",
       "    </tr>\n",
       "  </thead>\n",
       "  <tbody>\n",
       "    <tr>\n",
       "      <th>5</th>\n",
       "      <td>727</td>\n",
       "      <td>49.9</td>\n",
       "    </tr>\n",
       "    <tr>\n",
       "      <th>4</th>\n",
       "      <td>330</td>\n",
       "      <td>22.6</td>\n",
       "    </tr>\n",
       "    <tr>\n",
       "      <th>3</th>\n",
       "      <td>155</td>\n",
       "      <td>10.6</td>\n",
       "    </tr>\n",
       "    <tr>\n",
       "      <th>1</th>\n",
       "      <td>147</td>\n",
       "      <td>10.1</td>\n",
       "    </tr>\n",
       "    <tr>\n",
       "      <th>2</th>\n",
       "      <td>98</td>\n",
       "      <td>6.7</td>\n",
       "    </tr>\n",
       "  </tbody>\n",
       "</table>\n",
       "</div>"
      ],
      "text/plain": [
       "   EaseofUse  EaseofUse\n",
       "5        727       49.9\n",
       "4        330       22.6\n",
       "3        155       10.6\n",
       "1        147       10.1\n",
       "2         98        6.7"
      ]
     },
     "execution_count": 29,
     "metadata": {},
     "output_type": "execute_result"
    },
    {
     "data": {
      "image/png": "[encoded data removed]",
      "text/plain": [
       "<Figure size 432x288 with 1 Axes>"
      ]
     },
     "metadata": {},
     "output_type": "display_data"
    }
   ],
   "source": [
    "# Histogram\n",
    "def hist_chart(df, col):\n",
    "        plt.style.use('fivethirtyeight')\n",
    "        plt.hist(df[col].dropna(), edgecolor = 'k');\n",
    "        plt.xlabel(col); plt.ylabel('Number of Entries'); \n",
    "        plt.title('Distribution of '+col);\n",
    "        \n",
    "col = 'EaseofUse'\n",
    "# Histogram & Results\n",
    "hist_chart(df, col)\n",
    "count_values_table(df.EaseofUse)"
   ]
  },
  {
   "cell_type": "code",
   "execution_count": 30,
   "metadata": {},
   "outputs": [
    {
     "data": {
      "text/html": [
       "<div>\n",
       "<style scoped>\n",
       "    .dataframe tbody tr th:only-of-type {\n",
       "        vertical-align: middle;\n",
       "    }\n",
       "\n",
       "    .dataframe tbody tr th {\n",
       "        vertical-align: top;\n",
       "    }\n",
       "\n",
       "    .dataframe thead th {\n",
       "        text-align: right;\n",
       "    }\n",
       "</style>\n",
       "<table border=\"1\" class=\"dataframe\">\n",
       "  <thead>\n",
       "    <tr style=\"text-align: right;\">\n",
       "      <th></th>\n",
       "      <th>Effectiveness</th>\n",
       "      <th>Effectiveness</th>\n",
       "    </tr>\n",
       "  </thead>\n",
       "  <tbody>\n",
       "    <tr>\n",
       "      <th>5</th>\n",
       "      <td>499</td>\n",
       "      <td>34.2</td>\n",
       "    </tr>\n",
       "    <tr>\n",
       "      <th>4</th>\n",
       "      <td>353</td>\n",
       "      <td>24.2</td>\n",
       "    </tr>\n",
       "    <tr>\n",
       "      <th>3</th>\n",
       "      <td>241</td>\n",
       "      <td>16.5</td>\n",
       "    </tr>\n",
       "    <tr>\n",
       "      <th>1</th>\n",
       "      <td>234</td>\n",
       "      <td>16.1</td>\n",
       "    </tr>\n",
       "    <tr>\n",
       "      <th>2</th>\n",
       "      <td>130</td>\n",
       "      <td>8.9</td>\n",
       "    </tr>\n",
       "  </tbody>\n",
       "</table>\n",
       "</div>"
      ],
      "text/plain": [
       "   Effectiveness  Effectiveness\n",
       "5            499           34.2\n",
       "4            353           24.2\n",
       "3            241           16.5\n",
       "1            234           16.1\n",
       "2            130            8.9"
      ]
     },
     "execution_count": 30,
     "metadata": {},
     "output_type": "execute_result"
    },
    {
     "data": {
      "image/png": "[encoded data removed]",
      "text/plain": [
       "<Figure size 432x288 with 1 Axes>"
      ]
     },
     "metadata": {},
     "output_type": "display_data"
    }
   ],
   "source": [
    "# Histogram\n",
    "def hist_chart(df, col):\n",
    "        plt.style.use('fivethirtyeight')\n",
    "        plt.hist(df[col].dropna(), edgecolor = 'k');\n",
    "        plt.xlabel(col); plt.ylabel('Number of Entries'); \n",
    "        plt.title('Distribution of '+col);\n",
    "        \n",
    "col = 'Effectiveness'\n",
    "# Histogram & Results\n",
    "hist_chart(df, col)\n",
    "count_values_table(df.Effectiveness)"
   ]
  },
  {
   "cell_type": "code",
   "execution_count": 31,
   "metadata": {},
   "outputs": [
    {
     "data": {
      "text/html": [
       "<div>\n",
       "<style scoped>\n",
       "    .dataframe tbody tr th:only-of-type {\n",
       "        vertical-align: middle;\n",
       "    }\n",
       "\n",
       "    .dataframe tbody tr th {\n",
       "        vertical-align: top;\n",
       "    }\n",
       "\n",
       "    .dataframe thead th {\n",
       "        text-align: right;\n",
       "    }\n",
       "</style>\n",
       "<table border=\"1\" class=\"dataframe\">\n",
       "  <thead>\n",
       "    <tr style=\"text-align: right;\">\n",
       "      <th></th>\n",
       "      <th>Satisfaction</th>\n",
       "      <th>Satisfaction</th>\n",
       "    </tr>\n",
       "  </thead>\n",
       "  <tbody>\n",
       "    <tr>\n",
       "      <th>5</th>\n",
       "      <td>431</td>\n",
       "      <td>29.6</td>\n",
       "    </tr>\n",
       "    <tr>\n",
       "      <th>1</th>\n",
       "      <td>388</td>\n",
       "      <td>26.6</td>\n",
       "    </tr>\n",
       "    <tr>\n",
       "      <th>4</th>\n",
       "      <td>288</td>\n",
       "      <td>19.8</td>\n",
       "    </tr>\n",
       "    <tr>\n",
       "      <th>3</th>\n",
       "      <td>230</td>\n",
       "      <td>15.8</td>\n",
       "    </tr>\n",
       "    <tr>\n",
       "      <th>2</th>\n",
       "      <td>120</td>\n",
       "      <td>8.2</td>\n",
       "    </tr>\n",
       "  </tbody>\n",
       "</table>\n",
       "</div>"
      ],
      "text/plain": [
       "   Satisfaction  Satisfaction\n",
       "5           431          29.6\n",
       "1           388          26.6\n",
       "4           288          19.8\n",
       "3           230          15.8\n",
       "2           120           8.2"
      ]
     },
     "execution_count": 31,
     "metadata": {},
     "output_type": "execute_result"
    },
    {
     "data": {
      "image/png": "[encoded data removed]",
      "text/plain": [
       "<Figure size 432x288 with 1 Axes>"
      ]
     },
     "metadata": {},
     "output_type": "display_data"
    }
   ],
   "source": [
    "# Histogram\n",
    "def hist_chart(df, col):\n",
    "        plt.style.use('fivethirtyeight')\n",
    "        plt.hist(df[col].dropna(), edgecolor = 'k');\n",
    "        plt.xlabel(col); plt.ylabel('Number of Entries'); \n",
    "        plt.title('Distribution of '+col);\n",
    "        \n",
    "col = 'Satisfaction'\n",
    "# Histogram & Results\n",
    "hist_chart(df, col)\n",
    "count_values_table(df.Satisfaction)"
   ]
  },
  {
   "cell_type": "markdown",
   "metadata": {},
   "source": [
    "### 2.4.2 Correlations  <a class=\"anchor\" id=\"Correlations\"></a>\n",
    "Can we derive any correlation from this data-set. Pairplot chart gives us correlations, distributions and regression path\n",
    "Correlogram are awesome for exploratory analysis. It allows to quickly observe the relationship between every variable of your matrix. \n",
    "It is easy to do it with seaborn: just call the pairplot function\n",
    "\n",
    "Pairplot Documentation cab be found here: https://seaborn.pydata.org/generated/seaborn.pairplot.html"
   ]
  },
  {
   "cell_type": "code",
   "execution_count": 35,
   "metadata": {
    "collapsed": true
   },
   "outputs": [
    {
     "data": {
      "image/png": "[encoded data removed]",
      "text/plain": [
       "<Figure size 632.15x540 with 12 Axes>"
      ]
     },
     "metadata": {},
     "output_type": "display_data"
    }
   ],
   "source": [
    "#Seaborn allows to make a correlogram or correlation matrix really easily. \n",
    "sns.pairplot(df.dropna().drop(['Satisfaction'], axis=1), hue='Disease', kind ='reg')\n",
    "\n",
    "plt.show()\n"
   ]
  },
  {
   "cell_type": "code",
   "execution_count": 40,
   "metadata": {},
   "outputs": [
    {
     "data": {
      "text/html": [
       "<div>\n",
       "<style scoped>\n",
       "    .dataframe tbody tr th:only-of-type {\n",
       "        vertical-align: middle;\n",
       "    }\n",
       "\n",
       "    .dataframe tbody tr th {\n",
       "        vertical-align: top;\n",
       "    }\n",
       "\n",
       "    .dataframe thead th {\n",
       "        text-align: right;\n",
       "    }\n",
       "</style>\n",
       "<table border=\"1\" class=\"dataframe\">\n",
       "  <thead>\n",
       "    <tr style=\"text-align: right;\">\n",
       "      <th></th>\n",
       "      <th>EaseofUse</th>\n",
       "      <th>Effectiveness</th>\n",
       "      <th>Satisfaction</th>\n",
       "    </tr>\n",
       "    <tr>\n",
       "      <th>Disease</th>\n",
       "      <th></th>\n",
       "      <th></th>\n",
       "      <th></th>\n",
       "    </tr>\n",
       "  </thead>\n",
       "  <tbody>\n",
       "    <tr>\n",
       "      <th>COPD</th>\n",
       "      <td>3.949660</td>\n",
       "      <td>3.370068</td>\n",
       "      <td>3.035374</td>\n",
       "    </tr>\n",
       "    <tr>\n",
       "      <th>Lupus</th>\n",
       "      <td>4.022346</td>\n",
       "      <td>3.638734</td>\n",
       "      <td>3.260708</td>\n",
       "    </tr>\n",
       "    <tr>\n",
       "      <th>RA</th>\n",
       "      <td>3.783784</td>\n",
       "      <td>3.745946</td>\n",
       "      <td>3.475676</td>\n",
       "    </tr>\n",
       "  </tbody>\n",
       "</table>\n",
       "</div>"
      ],
      "text/plain": [
       "         EaseofUse  Effectiveness  Satisfaction\n",
       "Disease                                        \n",
       "COPD      3.949660       3.370068      3.035374\n",
       "Lupus     4.022346       3.638734      3.260708\n",
       "RA        3.783784       3.745946      3.475676"
      ]
     },
     "execution_count": 40,
     "metadata": {},
     "output_type": "execute_result"
    }
   ],
   "source": [
    "#df_agg = df.drop(['x'], axis=1).groupby(['y']).sum()\n",
    "df_agg = df.drop(['DrugId'], axis=1).groupby(['Disease']).mean()\n",
    "df_agg"
   ]
  },
  {
   "cell_type": "markdown",
   "metadata": {},
   "source": [
    "### Differencing\n",
    "Differencing\n",
    "Specifically, a new series is constructed where the value at the current time step is calculated \n",
    "as the difference between the original observation and the observation at the previous time step.\n",
    "value(t) = observation(t) - observation(t-1)"
   ]
  },
  {
   "cell_type": "code",
   "execution_count": 41,
   "metadata": {
    "collapsed": true
   },
   "outputs": [],
   "source": [
    "df_dif_agg = df_agg"
   ]
  },
  {
   "cell_type": "code",
   "execution_count": 42,
   "metadata": {
    "collapsed": true
   },
   "outputs": [],
   "source": [
    "#Differencing\n",
    "#Specifically, a new series is constructed where the value at the current time step is calculated \n",
    "#as the difference between the original observation and the observation at the previous time step.\n",
    "#value(t) = observation(t) - observation(t-1)\n",
    "df_dif = df_dif_agg.diff()"
   ]
  },
  {
   "cell_type": "markdown",
   "metadata": {},
   "source": [
    "## 2.5 Data Quality Report <a class=\"anchor\" id=\"Dataqualityreport\"></a>\n",
    "List the results of the data quality verification. If quality problems exist, suggest possible solutions. Solutions to data quality problems generally depend heavily on both data and business knowledge."
   ]
  },
  {
   "cell_type": "code",
   "execution_count": null,
   "metadata": {
    "collapsed": true
   },
   "outputs": [],
   "source": []
  },
  {
   "cell_type": "markdown",
   "metadata": {},
   "source": [
    "# 3. Stage Three - Data Preparation <a class=\"anchor\" id=\"Datapreperation\"></a>\n",
    "This is the stage of the project where you decide on the data that you're going to use for analysis. The criteria you might use to make this decision include the relevance of the data to your data mining goals, the quality of the data, and also technical constraints such as limits on data volume or data types. Note that data selection covers selection of attributes (columns) as well as selection of records (rows) in a table."
   ]
  },
  {
   "cell_type": "markdown",
   "metadata": {},
   "source": [
    "## 3.1 Select Your Data [START HERE] <a class=\"anchor\" id=\"Selectyourdata\"></a>\n",
    "This is the stage of the project where you decide on the data that you're going to use for analysis. The criteria you might use to make this decision include the relevance of the data to your data mining goals, the quality of the data, and also technical constraints such as limits on data volume or data types. Note that data selection covers selection of attributes (columns) as well as selection of records (rows) in a table.\n",
    "\n",
    "Rationale for inclusion/exclusion - List the data to be included/excluded and the reasons for these decisions."
   ]
  },
  {
   "cell_type": "code",
   "execution_count": null,
   "metadata": {
    "collapsed": true
   },
   "outputs": [],
   "source": [
    "X_train_regr = df.drop(['date_maint', 'account_open_date'], axis = 1)\n",
    "X_train = df.drop(['target', 'date_maint', 'account_open_date'], axis = 1)\n",
    "X_test = test.drop(['date_maint', 'account_open_date'], axis = 1)"
   ]
  },
  {
   "cell_type": "markdown",
   "metadata": {},
   "source": [
    "## 3.2 Clean The Data <a class=\"anchor\" id=\"Cleansethedata\"></a>\n",
    "This task involves raise the data quality to the level required by the analysis techniques that you've selected. This may involve selecting clean subsets of the data, the insertion of suitable defaults, or more ambitious techniques such as the estimation of missing data by modelling."
   ]
  },
  {
   "cell_type": "markdown",
   "metadata": {},
   "source": [
    "### 3.2.1 Label Encoding <a class=\"anchor\" id=\"labelEncoding\"></a>\n",
    "Label Encoding to turn Categorical values to Integers\n",
    "\n",
    "An approach to encoding categorical values is to use a technique called label encoding. Label encoding is simply converting each value in a column to a number. For example, the body_style column contains 5 different values. We could choose to encode it like this:\n",
    "\n",
    "convertible -> 0\n",
    "hardtop -> 1\n",
    "hatchback -> 2\n",
    "sedan -> 3\n",
    "wagon -> 4\n",
    "http://pbpython.com/categorical-encoding.html"
   ]
  },
  {
   "cell_type": "code",
   "execution_count": null,
   "metadata": {
    "collapsed": true
   },
   "outputs": [],
   "source": [
    "from sklearn.preprocessing import OneHotEncoder, LabelEncoder\n",
    "for col in CAT_COLS:\n",
    "        encoder = LabelEncoder()\n",
    "        X_train[col] = encoder.fit_transform(X_train[col].astype(str))\n",
    "        X_test[col] = encoder.transform(X_test[col].astype(str))"
   ]
  },
  {
   "cell_type": "code",
   "execution_count": null,
   "metadata": {
    "collapsed": true
   },
   "outputs": [],
   "source": [
    "df[\"column\"] = df[\"column\"].astype('category')\n",
    "df.dtypes"
   ]
  },
  {
   "cell_type": "code",
   "execution_count": null,
   "metadata": {
    "collapsed": true
   },
   "outputs": [],
   "source": [
    "df[\"column\"] = df[\"column\"].cat.codes\n",
    "df.head()"
   ]
  },
  {
   "cell_type": "markdown",
   "metadata": {},
   "source": [
    "### 3.2.2 Drop Unnecessary Columns <a class=\"anchor\" id=\"DropCols\"></a>\n",
    "Sometimes we may not need certain columns. We can drop to keep only relevent data"
   ]
  },
  {
   "cell_type": "code",
   "execution_count": null,
   "metadata": {
    "collapsed": true
   },
   "outputs": [],
   "source": [
    "del_col_list = ['col1', 'col2']\n",
    "\n",
    "df = df.drop(del_col_list, axis=1)\n",
    "df.head()"
   ]
  },
  {
   "cell_type": "markdown",
   "metadata": {},
   "source": [
    "### 3.2.3 Altering Data Types <a class=\"anchor\" id=\"AlteringDatatypes\"></a>\n",
    "Sometimes we may need to alter data types. Including to/from object datatypes"
   ]
  },
  {
   "cell_type": "code",
   "execution_count": null,
   "metadata": {
    "collapsed": true
   },
   "outputs": [],
   "source": [
    "#df['date'] = pd.to_datetime(df['date'])"
   ]
  },
  {
   "cell_type": "markdown",
   "metadata": {},
   "source": [
    "### 3.2.4 Dealing With Zeros <a class=\"anchor\" id=\"DealingZeros\"></a>\n",
    "Replacing all the zeros from cols. **Note** You may not want to do this - add / remove as required"
   ]
  },
  {
   "cell_type": "code",
   "execution_count": null,
   "metadata": {
    "collapsed": true
   },
   "outputs": [],
   "source": [
    "#cols = ['col1', 'col2']\n",
    "#df[cols] = df[cols].replace(0, np.nan)"
   ]
  },
  {
   "cell_type": "code",
   "execution_count": null,
   "metadata": {
    "collapsed": true
   },
   "outputs": [],
   "source": [
    "# dropping all the rows with na in the columns mentioned above in the list.\n",
    "\n",
    "# df.dropna(subset=cols, inplace=True)\n"
   ]
  },
  {
   "cell_type": "markdown",
   "metadata": {},
   "source": [
    "### 3.2.5 Dealing With Duplicates <a class=\"anchor\" id=\"DealingDuplicates\"></a>\n",
    "Remove duplicate rows. **Note** You may not want to do this - add / remove as required"
   ]
  },
  {
   "cell_type": "code",
   "execution_count": null,
   "metadata": {
    "collapsed": true
   },
   "outputs": [],
   "source": [
    "#df = df.drop_duplicates(keep='first')"
   ]
  },
  {
   "cell_type": "markdown",
   "metadata": {},
   "source": [
    "## 3.3 Construct Required Data   <a class=\"anchor\" id=\"Constructrequireddata\"></a>\n",
    "This task includes constructive data preparation operations such as the production of derived attributes or entire new records, or transformed values for existing attributes.\n",
    "\n",
    "**Derived attributes** - These are new attributes that are constructed from one or more existing attributes in the same record, for example you might use the variables of length and width to calculate a new variable of area.\n",
    "\n",
    "**Generated records** - Here you describe the creation of any completely new records. For example you might need to create records for customers who made no purchase during the past year. There was no reason to have such records in the raw data, but for modelling purposes it might make sense to explicitly represent the fact that particular customers made zero purchases.\n"
   ]
  },
  {
   "cell_type": "code",
   "execution_count": null,
   "metadata": {
    "collapsed": true
   },
   "outputs": [],
   "source": []
  },
  {
   "cell_type": "markdown",
   "metadata": {},
   "source": [
    "## 3.4 Integrate Data  <a class=\"anchor\" id=\"Integratedata\"></a>\n",
    "These are methods whereby information is combined from multiple databases, tables or records to create new records or values.\n",
    "\n",
    "**Merged data** - Merging tables refers to joining together two or more tables that have different information about the same objects. For example a retail chain might have one table with information about each store’s general characteristics (e.g., floor space, type of mall), another table with summarised sales data (e.g., profit, percent change in sales from previous year), and another with information about the demographics of the surrounding area. Each of these tables contains one record for each store. These tables can be merged together into a new table with one record for each store, combining fields from the source tables.\n",
    "\n",
    "**Aggregations** - Aggregations refers to operations in which new values are computed by summarising information from multiple records and/or tables. For example, converting a table of customer purchases where there is one record for each purchase into a new table where there is one record for each customer, with fields such as number of purchases, average purchase amount, percent of orders charged to credit card, percent of items under promotion etc.\n"
   ]
  },
  {
   "cell_type": "code",
   "execution_count": null,
   "metadata": {
    "collapsed": true
   },
   "outputs": [],
   "source": []
  },
  {
   "cell_type": "markdown",
   "metadata": {},
   "source": [
    "### Construct Our Primary Data Set\n",
    "Join data "
   ]
  },
  {
   "cell_type": "code",
   "execution_count": null,
   "metadata": {
    "collapsed": true
   },
   "outputs": [],
   "source": []
  },
  {
   "cell_type": "markdown",
   "metadata": {},
   "source": [
    "# 4. Stage Four - Exploratory Data Analysis <a class=\"anchor\" id=\"EDA\"></a>"
   ]
  },
  {
   "cell_type": "code",
   "execution_count": null,
   "metadata": {},
   "outputs": [],
   "source": [
    "# Import libraries\n",
    "import numpy as np\n",
    "import pandas as pd\n",
    "from ydata_profiling import ProfileReport\n",
    "from IPython.display import display, HTML\n",
    "import torch\n",
    "from transformers import BertTokenizer, BertModel"
   ]
  },
  {
   "cell_type": "code",
   "execution_count": null,
   "metadata": {},
   "outputs": [],
   "source": [
    "# columns: uniqueID, drugName, review, date\n",
    "\n",
    "# EDA: ydata-profiling\n",
    "profile = ProfileReport(df, title=\"Case Study Data Profiling Report\")\n",
    "profile.to_file(\"case_study_report.html\")"
   ]
  },
  {
   "cell_type": "code",
   "execution_count": null,
   "metadata": {},
   "outputs": [],
   "source": [
    "# Display report\n",
    "display(HTML('case_study_report.html'))"
   ]
  },
  {
   "cell_type": "markdown",
   "metadata": {},
   "source": [
    "# 5. Stage Four - Modelling <a class=\"anchor\" id=\"Modelling\"></a>\n",
    "As the first step in modelling, you'll select the actual modelling technique that you'll be using. Although you may have already selected a tool during the business understanding phase, at this stage you'll be selecting the specific modelling technique e.g. decision-tree building with C5.0, or neural network generation with back propagation. If multiple techniques are applied, perform this task separately for each technique.\n",
    "\n"
   ]
  },
  {
   "cell_type": "markdown",
   "metadata": {},
   "source": [
    "## 5.1. Modelling technique <a class=\"anchor\" id=\"ModellingTechnique\"></a>\n",
    "Document the actual modelling technique that is to be used.\n",
    "\n",
    "Import Models below:"
   ]
  },
  {
   "cell_type": "code",
   "execution_count": null,
   "metadata": {
    "collapsed": true
   },
   "outputs": [],
   "source": [
    "import torch\n",
    "import torch.nn as nn\n",
    "import torch.optim as optim\n",
    "\n",
    "# Custom Sentiment Analysis Model\n",
    "class SentimentAnalysisModel(nn.Module):\n",
    "    def __init__(self, input_dim, hidden_dim, output_dim):\n",
    "        super(SentimentAnalysisModel, self).__init__()\n",
    "        self.embedding = nn.Embedding(input_dim, hidden_dim)\n",
    "        self.fc = nn.Linear(hidden_dim, output_dim)\n",
    "    \n",
    "    def forward(self, x):\n",
    "        embedded = self.embedding(x)\n",
    "        average_embedded = torch.mean(embedded, dim=1)\n",
    "        output = self.fc(average_embedded)\n",
    "        return output\n",
    "\n",
    "# Define the model parameters\n",
    "input_dim = 10000  # Vocabulary size\n",
    "hidden_dim = 128  # Dimensionality of word embeddings\n",
    "output_dim = 2    # Number of sentiment classes (positive and negative)\n",
    "\n",
    "# Instantiate the model\n",
    "model = SentimentAnalysisModel(input_dim, hidden_dim, output_dim)\n",
    "\n",
    "# Define the loss function and optimizer\n",
    "criterion = nn.CrossEntropyLoss()\n",
    "optimizer = optim.Adam(model.parameters(), lr=0.001)\n",
    "\n",
    "# Prepare the training data and labels\n",
    "train_data = [...]  # List of training samples (tokenized and encoded)\n",
    "train_labels = [...]  # List of training labels (0: negative, 1: positive)\n",
    "\n",
    "# Training loop\n",
    "for epoch in range(num_epochs):\n",
    "    optimizer.zero_grad()\n",
    "    outputs = model(torch.tensor(train_data))\n",
    "    loss = criterion(outputs, torch.tensor(train_labels))\n",
    "    loss.backward()\n",
    "    optimizer.step()\n",
    "\n",
    "# Prepare the example input text\n",
    "text = \"I love this movie! It's fantastic.\"\n",
    "\n",
    "# Tokenize and encode the input text\n",
    "tokenized_text = [...]  # Tokenize and encode the input text\n",
    "\n",
    "# Convert the tokenized text to a tensor\n",
    "input_tensor = torch.tensor([tokenized_text])\n",
    "\n",
    "# Make predictions\n",
    "model.eval()\n",
    "with torch.no_grad():\n",
    "    outputs = model(input_tensor)\n",
    "    predicted_label = torch.argmax(outputs).item()\n",
    "\n",
    "# Map the predicted label to sentiment class\n",
    "sentiment_classes = ['Negative', 'Positive']\n",
    "predicted_sentiment = sentiment_classes[predicted_label]\n",
    "\n",
    "# Print the predicted sentiment\n",
    "print(\"Predicted sentiment:\", predicted_sentiment)"
   ]
  },
  {
   "cell_type": "markdown",
   "metadata": {},
   "source": [
    "## 5.2. Modelling assumptions <a class=\"anchor\" id=\"ModellingAssumptions\"></a>\n",
    "Many modelling techniques make specific assumptions about the data, for example that all attributes have uniform distributions, no missing values allowed, class attribute must be symbolic etc. Record any assumptions made.\n",
    "\n",
    "- \n",
    "- \n"
   ]
  },
  {
   "cell_type": "markdown",
   "metadata": {},
   "source": [
    "## 5.3. Build Model <a class=\"anchor\" id=\"BuildModel\"></a>\n",
    "Run the modelling tool on the prepared dataset to create one or more models.\n",
    "\n",
    "**Parameter settings** - With any modelling tool there are often a large number of parameters that can be adjusted. List the parameters and their chosen values, along with the rationale for the choice of parameter settings.\n",
    "\n",
    "**Models** - These are the actual models produced by the modelling tool, not a report on the models.\n",
    "\n",
    "**Model descriptions** - Describe the resulting models, report on the interpretation of the models and document any difficulties encountered with their meanings."
   ]
  },
  {
   "cell_type": "code",
   "execution_count": null,
   "metadata": {
    "collapsed": true
   },
   "outputs": [],
   "source": []
  },
  {
   "cell_type": "markdown",
   "metadata": {},
   "source": [
    "## 5.4. Assess Model <a class=\"anchor\" id=\"AssessModel\"></a>\n",
    "Interpret the models according to your domain knowledge, your data mining success criteria and your desired test design. Judge the success of the application of modelling and discovery techniques technically, then contact business analysts and domain experts later in order to discuss the data mining results in the business context. This task only considers models, whereas the evaluation phase also takes into account all other results that were produced in the course of the project.\n",
    "\n",
    "At this stage you should rank the models and assess them according to the evaluation criteria. You should take the business objectives and business success criteria into account as far as you can here. In most data mining projects a single technique is applied more than once and data mining results are generated with several different techniques. \n",
    "\n",
    "**Model assessment** - Summarise the results of this task, list the qualities of your generated models (e.g.in terms of accuracy) and rank their quality in relation to each other.\n",
    "\n",
    "**Revised parameter settings** - According to the model assessment, revise parameter settings and tune them for the next modelling run. Iterate model building and assessment until you strongly believe that you have found the best model(s). Document all such revisions and assessments."
   ]
  },
  {
   "cell_type": "code",
   "execution_count": null,
   "metadata": {
    "collapsed": true
   },
   "outputs": [],
   "source": []
  }
 ],
 "metadata": {
  "kernelspec": {
   "display_name": "Python 3",
   "language": "python",
   "name": "python3"
  },
  "language_info": {
   "codemirror_mode": {
    "name": "ipython",
    "version": 3
   },
   "file_extension": ".py",
   "mimetype": "text/x-python",
   "name": "python",
   "nbconvert_exporter": "python",
   "pygments_lexer": "ipython3",
   "version": "3.10.8"
  }
 },
 "nbformat": 4,
 "nbformat_minor": 2
}
