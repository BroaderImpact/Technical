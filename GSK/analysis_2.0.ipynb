{
 "cells": [
  {
   "cell_type": "code",
   "execution_count": null,
   "source": [],
   "outputs": [],
   "metadata": {}
  },
  {
   "cell_type": "code",
   "execution_count": 4,
   "source": [
    "!pip install transformers # Installing HuggingFace transformers\n",
    "import transformers\n",
    "from transformers import BertModel, BertTokenizer, pipeline\n",
    "import torch\n",
    "import io\n",
    "import re\n",
    "import string\n",
    "import tqdm\n",
    "\n",
    "import numpy as np\n",
    "\n",
    "# import tensorflow as tf\n",
    "# from tensorflow.keras import layers\n",
    "\n",
    "import numpy as np\n",
    "import pandas as pd\n",
    "import seaborn as sns\n",
    "from pylab import rcParams\n",
    "import matplotlib.pyplot as plt\n",
    "from matplotlib import rc\n",
    "from sklearn.model_selection import train_test_split\n",
    "from sklearn.metrics import confusion_matrix, classification_report\n",
    "from collections import defaultdict\n",
    "from textwrap import wrap\n",
    "\n",
    "from torch import nn, optim\n",
    "from torch.utils.data import Dataset, DataLoader\n",
    "\n",
    "# Sentiment Analysis Pipeline\n",
    "pipe = pipeline(\"sentiment-analysis\", model=\"distilbert-base-uncased-finetuned-sst-2-english\")\n",
    "\n",
    "# DistilBERT base uncased finetuned SST-2\n",
    "# This model is a fine-tune checkpoint of DistilBERT-base-uncased, fine-tuned on SST-2. This model reaches an accuracy of 91.3 on the dev set (for comparison, Bert bert-base-uncased version reaches an accuracy of 92.7).\n",
    "\n",
    "# Fine-tuning hyper-parameters\n",
    "# learning_rate = 1e-5\n",
    "# batch_size = 32\n",
    "# warmup = 600\n",
    "# max_seq_length = 128\n",
    "# num_train_epochs = 3.0\n",
    "\n",
    "test_sentence = \"This is a really good movie. I loved it and will watch it again.\"\n",
    "print(pipe(test_sentence))"
   ],
   "outputs": [
    {
     "output_type": "stream",
     "name": "stdout",
     "text": [
      "Requirement already satisfied: transformers in /Users/christineamuzie/opt/anaconda3/lib/python3.8/site-packages (4.13.0)\n",
      "Requirement already satisfied: sacremoses in /Users/christineamuzie/opt/anaconda3/lib/python3.8/site-packages (from transformers) (0.0.46)\n",
      "Requirement already satisfied: tqdm>=4.27 in /Users/christineamuzie/opt/anaconda3/lib/python3.8/site-packages (from transformers) (4.62.3)\n",
      "Requirement already satisfied: numpy>=1.17 in /Users/christineamuzie/opt/anaconda3/lib/python3.8/site-packages (from transformers) (1.19.2)\n",
      "Requirement already satisfied: huggingface-hub<1.0,>=0.1.0 in /Users/christineamuzie/opt/anaconda3/lib/python3.8/site-packages (from transformers) (0.2.1)\n",
      "Requirement already satisfied: tokenizers<0.11,>=0.10.1 in /Users/christineamuzie/opt/anaconda3/lib/python3.8/site-packages (from transformers) (0.10.3)\n",
      "Requirement already satisfied: filelock in /Users/christineamuzie/opt/anaconda3/lib/python3.8/site-packages (from transformers) (3.0.12)\n",
      "Requirement already satisfied: requests in /Users/christineamuzie/opt/anaconda3/lib/python3.8/site-packages (from transformers) (2.25.1)\n",
      "Requirement already satisfied: packaging>=20.0 in /Users/christineamuzie/opt/anaconda3/lib/python3.8/site-packages (from transformers) (20.9)\n",
      "Requirement already satisfied: pyyaml>=5.1 in /Users/christineamuzie/opt/anaconda3/lib/python3.8/site-packages (from transformers) (5.4.1)\n",
      "Requirement already satisfied: regex!=2019.12.17 in /Users/christineamuzie/opt/anaconda3/lib/python3.8/site-packages (from transformers) (2020.11.13)\n",
      "Requirement already satisfied: typing-extensions>=3.7.4.3 in /Users/christineamuzie/opt/anaconda3/lib/python3.8/site-packages (from huggingface-hub<1.0,>=0.1.0->transformers) (3.7.4.3)\n",
      "Requirement already satisfied: pyparsing>=2.0.2 in /Users/christineamuzie/opt/anaconda3/lib/python3.8/site-packages (from packaging>=20.0->transformers) (2.4.7)\n",
      "Requirement already satisfied: certifi>=2017.4.17 in /Users/christineamuzie/opt/anaconda3/lib/python3.8/site-packages (from requests->transformers) (2021.10.8)\n",
      "Requirement already satisfied: idna<3,>=2.5 in /Users/christineamuzie/opt/anaconda3/lib/python3.8/site-packages (from requests->transformers) (2.10)\n",
      "Requirement already satisfied: chardet<5,>=3.0.2 in /Users/christineamuzie/opt/anaconda3/lib/python3.8/site-packages (from requests->transformers) (4.0.0)\n",
      "Requirement already satisfied: urllib3<1.27,>=1.21.1 in /Users/christineamuzie/opt/anaconda3/lib/python3.8/site-packages (from requests->transformers) (1.26.3)\n",
      "Requirement already satisfied: six in /Users/christineamuzie/opt/anaconda3/lib/python3.8/site-packages (from sacremoses->transformers) (1.15.0)\n",
      "Requirement already satisfied: joblib in /Users/christineamuzie/opt/anaconda3/lib/python3.8/site-packages (from sacremoses->transformers) (1.0.1)\n",
      "Requirement already satisfied: click in /Users/christineamuzie/opt/anaconda3/lib/python3.8/site-packages (from sacremoses->transformers) (7.1.2)\n"
     ]
    },
    {
     "output_type": "stream",
     "name": "stderr",
     "text": [
      "<frozen importlib._bootstrap>:219: RuntimeWarning: numpy.ufunc size changed, may indicate binary incompatibility. Expected 192 from C header, got 216 from PyObject\n",
      "No model was supplied, defaulted to distilbert-base-uncased-finetuned-sst-2-english (https://huggingface.co/distilbert-base-uncased-finetuned-sst-2-english)\n"
     ]
    },
    {
     "output_type": "stream",
     "name": "stdout",
     "text": [
      "[{'label': 'POSITIVE', 'score': 0.999886155128479}]\n"
     ]
    }
   ],
   "metadata": {}
  },
  {
   "cell_type": "code",
   "execution_count": 11,
   "source": [
    "# Exploratory Data Analysis\n",
    "\n",
    "df = pd.read_csv(\"case_study_data.txt\", sep=\"\\t\", header=0)\n",
    "df.head()\n",
    "df.shape\n",
    "df.info()\n",
    "sns.countplot(df.drugName)\n",
    "plt.xticks(rotation=90)\n",
    "plt.xlabel('Review Counts by Drug');"
   ],
   "outputs": [
    {
     "output_type": "stream",
     "name": "stdout",
     "text": [
      "<class 'pandas.core.frame.DataFrame'>\n",
      "RangeIndex: 1957 entries, 0 to 1956\n",
      "Data columns (total 4 columns):\n",
      " #   Column    Non-Null Count  Dtype \n",
      "---  ------    --------------  ----- \n",
      " 0   uniqueID  1957 non-null   int64 \n",
      " 1   drugName  1957 non-null   object\n",
      " 2   review    1957 non-null   object\n",
      " 3   date      1957 non-null   object\n",
      "dtypes: int64(1), object(3)\n",
      "memory usage: 61.3+ KB\n"
     ]
    },
    {
     "output_type": "stream",
     "name": "stderr",
     "text": [
      "/Users/christineamuzie/opt/anaconda3/lib/python3.8/site-packages/seaborn/_decorators.py:36: FutureWarning: Pass the following variable as a keyword arg: x. From version 0.12, the only valid positional argument will be `data`, and passing other arguments without an explicit keyword will result in an error or misinterpretation.\n",
      "  warnings.warn(\n"
     ]
    },
    {
     "output_type": "display_data",
     "data": {
      "text/plain": [
       "<Figure size 432x288 with 1 Axes>"
      ],
      "image/png": "[encoded data removed]"
     },
     "metadata": {
      "needs_background": "light"
     }
    }
   ],
   "metadata": {}
  },
  {
   "cell_type": "code",
   "execution_count": 24,
   "source": [
    "df.drugName.values"
   ],
   "outputs": [
    {
     "output_type": "execute_result",
     "data": {
      "text/plain": [
       "array(['Ambien', 'Escitalopram', 'Sertraline', ..., 'Escitalopram',\n",
       "       'Sertraline', 'Escitalopram'], dtype=object)"
      ]
     },
     "metadata": {},
     "execution_count": 24
    }
   ],
   "metadata": {}
  },
  {
   "cell_type": "code",
   "execution_count": 29,
   "source": [
    "from transformers import pipeline                                                   \n",
    "from transformers.pipelines.base import KeyDataset\n",
    "import datasets\n",
    "import tqdm                                                                         \n",
    "import pandas as pd\n",
    "\n",
    "pipe = pipeline(\"text-classification\", model=\"distilbert-base-uncased-finetuned-sst-2-english\")\n",
    "\n",
    "df = pd.read_csv(\"case_study_data.txt\", sep=\"\\t\", header=0)\n",
    "l_0 = df[\"review\"].to_list()\n",
    "for out in pipe([l_0], batch_size=1000, padding=\"max_length\", truncation=True):\n",
    "    print(\"Overall:\", out)\n",
    "\n",
    "df_rx = df.set_index([\"drugName\"])\n",
    "\n",
    "df_a = df_rx.loc[\"Ambien\"]\n",
    "l_a = df_a[\"review\"].to_list()\n",
    "for out in pipe([l_a], batch_size=1000, padding=\"max_length\", truncation=True):\n",
    "    print(\"Ambien:\", out)\n",
    "    \n",
    "df_ac = df_rx.loc[\"Ambien CR\"]\n",
    "l_ac = df_ac[\"review\"].to_list()\n",
    "for out in pipe([l_ac], batch_size=1000, padding=\"max_length\", truncation=True):\n",
    "    print(\"Ambien CR:\", out)\n",
    "\n",
    "df_al = df_rx.loc[\"Allegra\"]\n",
    "l_al = df_al[\"review\"].to_list()\n",
    "for out in pipe([l_al], batch_size=1000, padding=\"max_length\", truncation=True):\n",
    "    print(\"Allegra:\", out)\n",
    "    \n",
    "df_e = df_rx.loc[\"Escitalopram\"]\n",
    "l_e = df_e[\"review\"].to_list()\n",
    "for out in pipe([l_e], batch_size=1000, padding=\"max_length\", truncation=True):\n",
    "    print(\"Escitalopram:\", out)\n",
    "    \n",
    "df_p = df_rx.loc[\"Phentermine\"]\n",
    "l_p = df_p[\"review\"].to_list()\n",
    "for out in pipe([l_p], batch_size=1000, padding=\"max_length\", truncation=True):\n",
    "    print(\"Phentermine:\", out)\n",
    "    \n",
    "df_s = df_rx.loc[\"Sertraline\"]\n",
    "l_s = df_s[\"review\"].to_list()\n",
    "for out in pipe([l_s], batch_size=1000, padding=\"max_length\", truncation=True):\n",
    "    print(\"Sertraline:\", out)\n",
    "\n",
    "df_t = df_rx.loc[\"Tramadol\"]\n",
    "l_t = df_t[\"review\"].to_list()\n",
    "for out in pipe([l_t], batch_size=1000, padding=\"max_length\", truncation=True):\n",
    "    print(\"Tramadol:\", out)\n",
    "\n"
   ],
   "outputs": [
    {
     "output_type": "stream",
     "name": "stdout",
     "text": [
      "Overall: {'label': 'NEGATIVE', 'score': 0.9016236066818237}\n",
      "Ambien: {'label': 'NEGATIVE', 'score': 0.9016236066818237}\n",
      "Ambien CR: {'label': 'POSITIVE', 'score': 0.9869000315666199}\n",
      "Allegra: {'label': 'NEGATIVE', 'score': 0.9997695088386536}\n",
      "Escitalopram: {'label': 'POSITIVE', 'score': 0.9821180105209351}\n",
      "Phentermine: {'label': 'POSITIVE', 'score': 0.5238568782806396}\n",
      "Sertraline: {'label': 'POSITIVE', 'score': 0.9956830739974976}\n",
      "Tramadol: {'label': 'NEGATIVE', 'score': 0.9994975328445435}\n"
     ]
    }
   ],
   "metadata": {}
  },
  {
   "cell_type": "code",
   "execution_count": 43,
   "source": [
    "from transformers import pipeline                                                   \n",
    "# from transformers.pipelines.base import KeyDataset\n",
    "import datasets\n",
    "import tqdm                                                                         \n",
    "import pandas as pd\n",
    "\n",
    "pipe = pipeline(\"text-classification\", model=\"distilbert-base-uncased-finetuned-sst-2-english\")\n",
    "\n",
    "df = pd.read_csv(\"case_study_data.txt\", sep=\"\\t\", header=0)\n",
    "l_0 = df[\"review\"].to_list()\n",
    "for out in pipe([l_0], batch_size=1000, padding=\"max_length\", truncation=True):\n",
    "    print(\"Overall:\", out)"
   ],
   "outputs": [
    {
     "output_type": "stream",
     "name": "stdout",
     "text": [
      "Overall: {'label': 'NEGATIVE', 'score': 0.9016236066818237}\n"
     ]
    }
   ],
   "metadata": {}
  },
  {
   "cell_type": "markdown",
   "source": [
    "Bird, Steven, Edward Loper and Ewan Klein (2009), Natural Language Processing with Python. O’Reilly Media Inc.\n",
    "\n",
    "@inproceedings{Gardner2017AllenNLP,\n",
    "  title={AllenNLP: A Deep Semantic Natural Language Processing Platform},\n",
    "  author={Matt Gardner and Joel Grus and Mark Neumann and Oyvind Tafjord\n",
    "    and Pradeep Dasigi and Nelson F. Liu and Matthew Peters and\n",
    "    Michael Schmitz and Luke S. Zettlemoyer},\n",
    "  year={2017},\n",
    "  Eprint = {arXiv:1803.07640},\n",
    "}\n",
    "\n",
    "Broader Impact Data Services, LLC &copy; 2021"
   ],
   "metadata": {}
  }
 ],
 "metadata": {
  "interpreter": {
   "hash": "817763465c47354bf57b37a0180640c2b176d3440cae2bf466c21d25f23dda3b"
  },
  "kernelspec": {
   "name": "python3",
   "display_name": "Python 3.8.5 64-bit ('base': conda)"
  },
  "language_info": {
   "name": "python",
   "version": "3.8.5",
   "mimetype": "text/x-python",
   "codemirror_mode": {
    "name": "ipython",
    "version": 3
   },
   "pygments_lexer": "ipython3",
   "nbconvert_exporter": "python",
   "file_extension": ".py"
  },
  "orig_nbformat": 4
 },
 "nbformat": 4,
 "nbformat_minor": 2
}