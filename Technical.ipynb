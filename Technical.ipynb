{
 "cells": [
  {
   "cell_type": "code",
   "execution_count": 2,
   "metadata": {},
   "outputs": [
    {
     "name": "stdout",
     "output_type": "stream",
     "text": [
      "Volunteer, ID,Last, Name,First, Name,Middle, Name,Suffix,Address,City,State,Zip5,Zip4,Phone,County,Ward, /, Precinct,Volunteer, Status,Shifts, Completed,First, Shift, Date\n",
      "1,Steger,Ryan,R,,4900, W, Coldspring, Rd, Apt, 12,Milwaukee,WI,53220,3674,4142816036,Milwaukee,Milwaukee, -, City, Of, Greenfield, -, Ward, 002,Volunteer,0,3/3/2013\n",
      "2,Radtke,David,F,,4745, N, Wilshire, Rd,Milwaukee,WI,53211,1263,4143323422,Milwaukee,Milwaukee, -, Village, Of, Whitefish, Bay, -, Ward, 012,Volunteer,0,3/3/2013\n",
      "3,Curley,Diane,S,,848, W, Green, Tree, Rd,Milwaukee,WI,53217,3713,4143514177,Milwaukee,Milwaukee, -, Village, Of, River, Hills, -, Ward, 001,Volunteer,1,#N/A\n",
      "4,Knuth,Margery,,,6570, N, 51st, St,Milwaukee,WI,53223,6010,4143530688,Milwaukee,Milwaukee, -, City, Of, Milwaukee, -, Ward, 017,Volunteer,1,\n",
      "5,Davenport,Cathleen,J,,5619, Badger, Ct,Greendale,WI,53129,1826,4144215113,Milwaukee,Milwaukee, -, Village, Of, Greendale, -, Ward, 004,Volunteer,0,\n",
      "6,Wilson,Michael,J,,11821, W, Woodland, Cir,Hales, Corners,WI,53130,1075,4144279807,Milwaukee,Milwaukee, -, Village, Of, Hales, Corners, -, Ward, 001,Volunteer,3,\n",
      "7,Norcross,Neal,S,,1735, S, 73rd, St,Milwaukee,WI,53214,4721,4144533677,Milwaukee,Milwaukee, -, City, Of, West, Allis, -, Ward, 008,Volunteer,1,\n",
      "8,Harris,Johnnie,P,,4619, N, 67th, St,Milwaukee,WI,53218,4823,4144643724,Milwaukee,Milwaukee, -, City, Of, Milwaukee, -, Ward, 072,Volunteer,0,\n",
      "9,Stange,Scott,A,,415, E, Plainfield, Ave,Milwaukee,WI,53207,5047,4144861671,Milwaukee,Milwaukee, -, City, Of, Milwaukee, -, Ward, 303,Volunteer,2,\n",
      "10,Szeklinski,Chad,,,4533, S, Taylor, Ave,Milwaukee,WI,53207,5229,2627063053,Milwaukee,Milwaukee, -, City, Of, Milwaukee, -, Ward, 317,Volunteer,2,\n",
      "11,McLain,James,L,,2157, S, 82nd, St,Milwaukee,WI,53219,1029,4145415393,Milwaukee,Milwaukee, -, City, Of, West, Allis, -, Ward, 017,Volunteer,2,\n",
      "12,Miller,Elizabeth,A,,7877, S, Burdick, Ave,Oak, Creek,WI,53154,7729,4145719619,Milwaukee,Milwaukee, -, City, Of, Oak, Creek, -, Ward, 002,Volunteer,2,\n",
      "13,Stough,Michael,P,II,9102, W, Dixon, St, Apt, 105,Milwaukee,WI,53214,1355,4144540353,Milwaukee,Milwaukee, -, City, Of, Milwaukee, -, Ward, 211,Volunteer,1,\n",
      "14,Scherer,Michael,J,,5311, 65th, St,Kenosha,WI,53142,3056,2626526168,Kenosha,Kenosha, -, City, Of, Kenosha, -, Ward, 054,Volunteer,6,\n",
      "15,Belongia,Gerald,A,,1728, 43rd, St,Kenosha,WI,53140,2715,2626584400,Kenosha,Kenosha, -, City, Of, Kenosha, -, Ward, 026,Volunteer,1,\n",
      "16,Ruchti,John,R,,4719, Harrison, Rd,Kenosha,WI,53142,3779,2626974347,Kenosha,Kenosha, -, City, Of, Kenosha, -, Ward, 057,Volunteer,2,\n",
      "17,Smoody,Porcsha,Armnetta,,8746, S, Knollhaven,Oak, Creek,WI,53154,3962,4143019213,Milwaukee,Milwaukee, -, City, Of, Oak, Creek, -, Ward, 007,Volunteer,2,\n",
      "18,Liska,Sue,A,,1211, W, Willow, Dr,Oak, Creek,WI,53154,2842,4147621692,Milwaukee,Milwaukee, -, City, Of, Oak, Creek, -, Ward, 004,Volunteer,2,\n",
      "19,Wolff,Gary,J,,3421, E, Tesch, Ave,Saint, Francis,WI,53235,4735,4147691919,Milwaukee,Milwaukee, -, City, Of, St., Francis, -, Ward, 011,Volunteer,0,\n",
      "20,Otero,Margarita,,,738, W, Washington, St, Apt, 101,Milwaukee,WI,53204,2359,4144558554,Milwaukee,Milwaukee, -, City, Of, Milwaukee, -, Ward, 236,Volunteer,0,\n",
      "21,Karshna,Susanne,B,,1913, E, Eden, Pl,Saint, Francis,WI,53235,3648,4144811886,Milwaukee,Milwaukee, -, City, Of, St., Francis, -, Ward, 001,Volunteer,4,\n",
      "22,Mooney,Kathryn,W,,2824, N, Murray, Ave,Milwaukee,WI,53211,3648,4149643568,Milwaukee,Milwaukee, -, City, Of, Milwaukee, -, Ward, 128,Volunteer,0,\n",
      "23,Tesar,Elaine,M,,9016, Camp, Lake, Rd,Salem,WI,53168,9305,2628894526,Kenosha,Kenosha, -, Town, Of, Salem, -, Ward, 009,Volunteer,7,\n",
      "24,Lucchesi,Patricia,A,,7813, N, 60th, St, Unit, E,Milwaukee,WI,53223,4170,4143550845,Milwaukee,Milwaukee, -, City, Of, Milwaukee, -, Ward, 015,Volunteer,0,\n",
      "25,Warraich,Tariq,Y,,3534, S, 77th, St, Apt, 1,Milwaukee,WI,53220,1170,4146041052,Milwaukee,Milwaukee, -, City, Of, Milwaukee, -, Ward, 275,Volunteer,2,\n",
      "26,Pridemore,Kathryn,G,,2111, 80th, St, Apt, 13,Kenosha,WI,53143,5870,2626525505,Kenosha,Kenosha, -, City, Of, Kenosha, -, Ward, 039,Volunteer,8,\n",
      "27,Bertha,Mary, Kay,,,2462, N, Prospect, Ave,Milwaukee,WI,53211,4451,4142260169,Milwaukee,Milwaukee, -, City, Of, Milwaukee, -, Ward, 132,Volunteer,2,\n",
      "28,Williams,Gladys,L,,3220, N, 24th, St,Milwaukee,WI,53206,1214,4144447136,Milwaukee,Milwaukee, -, City, Of, Milwaukee, -, Ward, 110,Volunteer,1,\n",
      "29,Cole,Walter,K,,646, S, 104th, St,Milwaukee,WI,53214,1103,4142591098,Milwaukee,Milwaukee, -, City, Of, West, Allis, -, Ward, 012,Volunteer,1,\n",
      "30,Keane,Alice,L,,1708, E, Marion, St,Milwaukee,WI,53211,1521,4149631031,Milwaukee,Milwaukee, -, Village, Of, Shorewood, -, Ward, 009,Volunteer,4,\n",
      "31,Sandman,Rodney,William,,24424, 118th, St,Trevor,WI,53179,9244,2628626548,Kenosha,Kenosha, -, Town, Of, Salem, -, Ward, 006,Volunteer,2,\n",
      "32,Zanotti,Cynthia,M,,36717, 53rd, Pl,Burlington,WI,53105,7419,2625374783,Kenosha,Kenosha, -, Town, Of, Wheatland, -, Ward, 004,Volunteer,3,\n",
      "33,Behlke,Paul,H,,9120, W, Highland, Park, Ave, Apt, 317,Franklin,WI,53132,8003,4144253365,Milwaukee,Milwaukee, -, City, Of, Franklin, -, Ward, 003,Volunteer,1,\n",
      "34,Bonds,Charles,E,,2908, N, 13th, St,Milwaukee,WI,53206,2712,4142655289,Milwaukee,Milwaukee, -, City, Of, Milwaukee, -, Ward, 117,Volunteer,2,\n",
      "35,Mueller,Judith,A,,1435, N, 52nd, St,Milwaukee,WI,53208,2220,4144799764,Milwaukee,Milwaukee, -, City, Of, Milwaukee, -, Ward, 204,Volunteer,2,\n",
      "36,Donley,Shirley,A,,4860, N, 18th, St,Milwaukee,WI,53209,5702,4142640531,Milwaukee,Milwaukee, -, City, Of, Milwaukee, -, Ward, 057,Volunteer,0,\n",
      "37,Czajka,Megan,N,,2662, N, Fratney, St, #, 3,Milwaukee,WI,53212,2951,4146161060,Milwaukee,Milwaukee, -, City, Of, Milwaukee, -, Ward, 138,Volunteer,1,\n",
      "38,Brodersen,Timothy,J,,2117, N, Palmer, St,Milwaukee,WI,53212,3219,4148101034,Milwaukee,Milwaukee, -, City, Of, Milwaukee, -, Ward, 177,Volunteer,0,\n",
      "39,Krause,Bradley,J,,1255, N, 45th, St,Milwaukee,WI,53208,2736,4142587438,Milwaukee,Milwaukee, -, City, Of, Milwaukee, -, Ward, 202,Volunteer,2,\n",
      "40,Scarbrough,Darlene,,,555, S, Layton, Blvd, Apt, 210,Milwaukee,WI,53215,1256,4146716194,Milwaukee,Milwaukee, -, City, Of, Milwaukee, -, Ward, 227,Volunteer,2,\n",
      "41,Edirisinghe,Roman,,,1962, N, Prospect, Ave,Milwaukee,WI,53202,1414,4143724884,Milwaukee,Milwaukee, -, City, Of, Milwaukee, -, Ward, 180,Volunteer,0,\n",
      "42,Avila,Winnie,E,,3725, W, Mitchell, St,Milwaukee,WI,53215,1729,4146721986,Milwaukee,Milwaukee, -, City, Of, Milwaukee, -, Ward, 217,Volunteer,2,\n",
      "43,Yang,Mee,S,,6545, N, 55th, St,Milwaukee,WI,53223,5907,4143553105,Milwaukee,Milwaukee, -, City, Of, Milwaukee, -, Ward, 016,Volunteer,1,\n",
      "44,Dyer,Betty,L,,3864, S, Miner, St, Apt, 5,Milwaukee,WI,53221,1253,4142319536,Milwaukee,Milwaukee, -, City, Of, Milwaukee, -, Ward, 282,Volunteer,0,\n",
      "45,Kartz,Alexander,Joseph,,12333, W, Watertown, Plank, Rd,Milwaukee,WI,53226,3332,4144532935,Milwaukee,Milwaukee, -, City, Of, Wauwatosa, -, Ward, 021,Volunteer,2,\n",
      "46,Fraker,Courtney,L,,231, E, Oak, St,Oak, Creek,WI,53154,1116,4147643269,Milwaukee,Milwaukee, -, City, Of, Oak, Creek, -, Ward, 001,Volunteer,1,\n",
      "47,Komba,Deusdeditha,,,5364, N, 39th, St,Milwaukee,WI,53209,4610,4147636095,Milwaukee,Milwaukee, -, City, Of, Milwaukee, -, Ward, 052,Volunteer,1,\n",
      "48,Lemerond,Kerry, A,A,,11243, 3rd, Ave,Pleasant, Prairie,WI,53158,5231,2626975095,Kenosha,Kenosha, -, Village, Of, Pleasant, Prairie, -, Ward, 005,Volunteer,1,\n",
      "49,Thome,Aurora,M,,3812, N, Prospect, Ave,Milwaukee,WI,53211,2419,4149640002,Milwaukee,Milwaukee, -, Village, Of, Shorewood, -, Ward, 004,Volunteer,3,\n",
      "50,White,Roy,E,,3911, N, 42nd, St,Milwaukee,WI,53216,2522,4144449892,Milwaukee,Milwaukee, -, City, Of, Milwaukee, -, Ward, 101,Volunteer,0,\n",
      "51,Sisk,Richard,P,,3859, N, 19th, St,Milwaukee,WI,53206,2433,4144448523,Milwaukee,Milwaukee, -, City, Of, Milwaukee, -, Ward, 114,Volunteer,0,\n",
      "52,Skowronski,Margaret,,,5426, W, Verona, Ct,Milwaukee,WI,53219,4454,4145418526,Milwaukee,Milwaukee, -, City, Of, Milwaukee, -, Ward, 279,Volunteer,1,\n",
      "53,Reck,Reginald,P,,3815, S, 19th, St,Milwaukee,WI,53221,1507,4143837448,Milwaukee,Milwaukee, -, City, Of, Milwaukee, -, Ward, 306,Volunteer,3,\n",
      "54,Raasch,Roberta,,,6125, N, 122nd, St,Milwaukee,WI,53225,1005,4143534898,Milwaukee,Milwaukee, -, City, Of, Milwaukee, -, Ward, 033,Volunteer,0,\n",
      "55,Oltendorf,Richard,,,1130, Pebble, Beach, Ct,Twin, Lakes,WI,53181,9527,2628772375,Kenosha,Kenosha, -, Village, Of, Twin, Lakes, -, Ward, 005,Volunteer,5,\n",
      "56,Sanchez,Dominga,,,2727, S, 13th, St, Apt, 26,Milwaukee,WI,53215,3859,4147631025,Milwaukee,Milwaukee, -, City, Of, Milwaukee, -, Ward, 252,Volunteer,2,\n",
      "57,Sullivan,Judith,L,,1965, S, 81st, St,Milwaukee,WI,53219,1011,4143218073,Milwaukee,Milwaukee, -, City, Of, West, Allis, -, Ward, 007,Volunteer,3,\n",
      "58,Kujanson,Judith,D,,1452, S, 92nd, St, Apt, 3,Milwaukee,WI,53214,4229,4147745295,Milwaukee,Milwaukee, -, City, Of, West, Allis, -, Ward, 015,Volunteer,1,\n",
      "59,Feeney,Debra,J,,4532, Wilson, Rd,Kenosha,WI,53142,3167,2627640939,Kenosha,Kenosha, -, City, Of, Kenosha, -, Ward, 057,Volunteer,2,\n",
      "60,Grider,Otha,,,2800, W, Wright, St, Apt, 410,Milwaukee,WI,53210,3160,4143724263,Milwaukee,Milwaukee, -, City, Of, Milwaukee, -, Ward, 151,Volunteer,1,\n",
      "61,Stange,Scott,A,,415, E, Plainfield, Ave,Milwaukee,WI,53207,5047,4144861671,Milwaukee,Milwaukee, -, City, Of, Milwaukee, -, Ward, 303,Volunteer,2,\n",
      "62,Kartz,Alexander,Joseph,,12333, W, Watertown, Plank, Rd,Milwaukee,WI,53226,3332,4144532935,Milwaukee,Milwaukee, -, City, Of, Wauwatosa, -, Ward, 021,Volunteer,2,\n",
      "63,Stange,Scott,A,,415, E, Plainfield, Ave,Milwaukee,WI,53207,5047,4144861671,Milwaukee,Milwaukee, -, City, Of, Milwaukee, -, Ward, 303,Volunteer,0,\n",
      "64,Mueller,Judith,A,,1435, N, 52nd, St,Milwaukee,WI,53208,2220,4144799764,Milwaukee,Milwaukee, -, City, Of, Milwaukee, -, Ward, 204,Volunteer,2,\n",
      "65,Keane,Alice,L,,1708, E, Marion, St,Milwaukee,WI,53211,1521,4149631031,Milwaukee,Milwaukee, -, Village, Of, Shorewood, -, Ward, 009,Volunteer,0,\n",
      "66,Lucchesi,Patricia,A,,7813, N, 60th, St, Unit, E,Milwaukee,WI,53223,4170,4143550845,Milwaukee,Milwaukee, -, City, Of, Milwaukee, -, Ward, 015,Volunteer,2,\n",
      "67,Skowronski,Margaret,,,5426, W, Verona, Ct,Milwaukee,WI,53219,4454,4145418526,Milwaukee,Milwaukee, -, City, Of, Milwaukee, -, Ward, 279,Volunteer,3,\n"
     ]
    }
   ],
   "source": [
    "#Import Data\n",
    "import csv\n",
    "with open('CtG.csv', newline='') as csvfile:\n",
    "  volunteers = csv.reader(csvfile, delimiter=' ', quotechar='|')\n",
    "  for row in volunteers:\n",
    "    print(', '.join(row))"
   ]
  },
  {
   "cell_type": "code",
   "execution_count": null,
   "metadata": {},
   "outputs": [],
   "source": []
  }
 ],
 "metadata": {
  "kernelspec": {
   "display_name": "VPython",
   "language": "python",
   "name": "vpython"
  },
  "language_info": {
   "codemirror_mode": {
    "name": "ipython",
    "version": 3
   },
   "file_extension": ".py",
   "mimetype": "text/x-python",
   "name": "python",
   "nbconvert_exporter": "python",
   "pygments_lexer": "ipython3",
   "version": "3.7.4"
  }
 },
 "nbformat": 4,
 "nbformat_minor": 2
}
