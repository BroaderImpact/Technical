{
 "cells": [
  {
   "cell_type": "code",
   "execution_count": null,
   "metadata": {},
   "outputs": [],
   "source": [
    "import pandas as pd\n",
    "import numpy as np\n",
    "from sklearn import preprocessing, linear_model\n",
    "from sklearn.model_selection import train_test_split\n",
    "\n",
    "# load data\n",
    "df_train = pd.read_csv('br_takehome_exam_2022_training.csv')\n",
    "df_scoring = pd.read_csv('br_takehome_exam_2022_scoring.csv')\n",
    "\n",
    "# preview data\n",
    "df_train.head()\n"
   ]
  },
  {
   "cell_type": "code",
   "execution_count": null,
   "metadata": {},
   "outputs": [],
   "source": [
    "# check for missing values\n",
    "df_train.isnull().sum()"
   ]
  },
  {
   "cell_type": "code",
   "execution_count": null,
   "metadata": {},
   "outputs": [],
   "source": [
    "# check for missing values\n",
    "df_scoring.isnull().sum()"
   ]
  },
  {
   "cell_type": "code",
   "execution_count": null,
   "metadata": {},
   "outputs": [],
   "source": [
    "# define feature columns\n",
    "feature_cols = ['GPA', 'High School', 'Absences']\n",
    "\n",
    "# scale features\n",
    "scaler = preprocessing.StandardScaler()\n",
    "df_train[feature_cols] = scaler.fit_transform(df_train[feature_cols])\n",
    "df_scoring[feature_cols] = scaler.transform(df_scoring[feature_cols])\n"
   ]
  },
  {
   "cell_type": "code",
   "execution_count": null,
   "metadata": {},
   "outputs": [],
   "source": [
    "# define X and y\n",
    "X = df_train[feature_cols]\n",
    "y = df_train['Offered Job']\n",
    "\n",
    "# split data into train and test sets\n",
    "X_train, X_test, y_train, y_test = train_test_split(X, y, test_size=0.3, random_state=42)\n",
    "\n",
    "# train logistic regression model\n",
    "logreg = linear_model.LogisticRegression()\n",
    "logreg.fit(X_train, y_train)\n",
    "\n",
    "# train decision tree model\n",
    "dt = tree.DecisionTreeClassifier()\n",
    "dt.fit(X_train, y_train)\n"
   ]
  },
  {
   "cell_type": "code",
   "execution_count": null,
   "metadata": {},
   "outputs": [],
   "source": [
    "# calculate accuracy of logistic regression model\n",
    "logreg_acc = logreg.score(X_test, y_test)\n",
    "\n",
    "# calculate accuracy of decision tree model\n",
    "dt_acc = dt.score(X_test, y_test)\n",
    "\n",
    "# compare model accuracy\n",
    "print(\"Logistic regression accuracy:\", logreg_acc)\n",
    "print(\"Decision tree accuracy:\", dt_acc)\n"
   ]
  }
 ],
 "metadata": {
  "language_info": {
   "name": "python"
  },
  "orig_nbformat": 4
 },
 "nbformat": 4,
 "nbformat_minor": 2
}
