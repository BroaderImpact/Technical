{
 "cells": [
  {
   "cell_type": "markdown",
   "source": [
    "Importing appropriate libraries. Setting up seaborn for pretty tables"
   ],
   "metadata": {}
  },
  {
   "cell_type": "code",
   "execution_count": 1,
   "source": [
    "import pandas as pd\n",
    "import numpy as np\n",
    "from sklearn import preprocessing\n",
    "import matplotlib.pyplot as plt \n",
    "plt.rc(\"font\", size=14)\n",
    "from sklearn.linear_model import LogisticRegression\n",
    "from sklearn.model_selection import train_test_split\n",
    "import seaborn as sns\n",
    "sns.set(style=\"white\")\n",
    "sns.set(style=\"whitegrid\", color_codes=True)"
   ],
   "outputs": [],
   "metadata": {}
  },
  {
   "cell_type": "markdown",
   "source": [
    "Importing data for analysis from csv"
   ],
   "metadata": {}
  },
  {
   "cell_type": "code",
   "execution_count": 6,
   "source": [
    "data = pd.read_csv('data.csv', header=0)\n",
    "#data = data.dropna() #all rows have empty cells\n",
    "print(data.shape) \n",
    "print(list(data.columns))\n",
    "data.head()"
   ],
   "outputs": [
    {
     "output_type": "stream",
     "name": "stdout",
     "text": [
      "(199984, 22)\n",
      "['index', 'actual_turnout', 'deceased', 'discretionary_income', 'dob', 'first_time_seen', 'gender', 'home_type', 'household_income', 'lat', 'lon', 'marital_status', 'mover_status', 'permanent_absentee', 'precinct_id', 'race_ethnicity', 'reg_party', 'registration_date', 'vote_history1', 'vote_history2', 'vote_history3', 'voter_status']\n"
     ]
    },
    {
     "output_type": "execute_result",
     "data": {
      "text/plain": [
       "   index actual_turnout deceased  discretionary_income       dob  \\\n",
       "0  44861              A      NaN                  54.0  19821216   \n",
       "1   8751              A      NaN                  28.0  19780615   \n",
       "2  61124              A      NaN                  39.0  19441028   \n",
       "3  74017              A      NaN                  37.0  19840617   \n",
       "4  71841              A      NaN                   NaN  19960523   \n",
       "\n",
       "   first_time_seen  gender home_type  household_income        lat  ...  \\\n",
       "0              NaN    Male       NaN             288.0  40.682232  ...   \n",
       "1              NaN    Male       NaN              85.0  40.600094  ...   \n",
       "2              NaN  Female       NaN             145.0  40.674683  ...   \n",
       "3       20200929.0  Female       APT             135.0  40.592504  ...   \n",
       "4              NaN    Male       NaN               NaN  40.617752  ...   \n",
       "\n",
       "                 mover_status permanent_absentee precinct_id race_ethnicity  \\\n",
       "0  Resides at Current Address                  Y       704.0              B   \n",
       "1  Resides at Current Address                  Y        35.0              B   \n",
       "2  Resides at Current Address                  Y       557.0              B   \n",
       "3  Resides at Current Address                  Y       236.0              B   \n",
       "4  Resides at Current Address                  Y       298.0              F   \n",
       "\n",
       "    reg_party registration_date vote_history1 vote_history2 vote_history3  \\\n",
       "0    Democrat        2021-06-04             N             Y             N   \n",
       "1    Democrat        2021-03-24             N             Y             N   \n",
       "2  Republican        2021-06-12             N             Y             Y   \n",
       "3    Democrat        2020-09-22             N             Y             N   \n",
       "4    Democrat        2020-06-16             N             N             N   \n",
       "\n",
       "  voter_status  \n",
       "0       Active  \n",
       "1       Active  \n",
       "2       Active  \n",
       "3       Active  \n",
       "4       Active  \n",
       "\n",
       "[5 rows x 22 columns]"
      ],
      "text/html": [
       "<div>\n",
       "<style scoped>\n",
       "    .dataframe tbody tr th:only-of-type {\n",
       "        vertical-align: middle;\n",
       "    }\n",
       "\n",
       "    .dataframe tbody tr th {\n",
       "        vertical-align: top;\n",
       "    }\n",
       "\n",
       "    .dataframe thead th {\n",
       "        text-align: right;\n",
       "    }\n",
       "</style>\n",
       "<table border=\"1\" class=\"dataframe\">\n",
       "  <thead>\n",
       "    <tr style=\"text-align: right;\">\n",
       "      <th></th>\n",
       "      <th>index</th>\n",
       "      <th>actual_turnout</th>\n",
       "      <th>deceased</th>\n",
       "      <th>discretionary_income</th>\n",
       "      <th>dob</th>\n",
       "      <th>first_time_seen</th>\n",
       "      <th>gender</th>\n",
       "      <th>home_type</th>\n",
       "      <th>household_income</th>\n",
       "      <th>lat</th>\n",
       "      <th>...</th>\n",
       "      <th>mover_status</th>\n",
       "      <th>permanent_absentee</th>\n",
       "      <th>precinct_id</th>\n",
       "      <th>race_ethnicity</th>\n",
       "      <th>reg_party</th>\n",
       "      <th>registration_date</th>\n",
       "      <th>vote_history1</th>\n",
       "      <th>vote_history2</th>\n",
       "      <th>vote_history3</th>\n",
       "      <th>voter_status</th>\n",
       "    </tr>\n",
       "  </thead>\n",
       "  <tbody>\n",
       "    <tr>\n",
       "      <th>0</th>\n",
       "      <td>44861</td>\n",
       "      <td>A</td>\n",
       "      <td>NaN</td>\n",
       "      <td>54.0</td>\n",
       "      <td>19821216</td>\n",
       "      <td>NaN</td>\n",
       "      <td>Male</td>\n",
       "      <td>NaN</td>\n",
       "      <td>288.0</td>\n",
       "      <td>40.682232</td>\n",
       "      <td>...</td>\n",
       "      <td>Resides at Current Address</td>\n",
       "      <td>Y</td>\n",
       "      <td>704.0</td>\n",
       "      <td>B</td>\n",
       "      <td>Democrat</td>\n",
       "      <td>2021-06-04</td>\n",
       "      <td>N</td>\n",
       "      <td>Y</td>\n",
       "      <td>N</td>\n",
       "      <td>Active</td>\n",
       "    </tr>\n",
       "    <tr>\n",
       "      <th>1</th>\n",
       "      <td>8751</td>\n",
       "      <td>A</td>\n",
       "      <td>NaN</td>\n",
       "      <td>28.0</td>\n",
       "      <td>19780615</td>\n",
       "      <td>NaN</td>\n",
       "      <td>Male</td>\n",
       "      <td>NaN</td>\n",
       "      <td>85.0</td>\n",
       "      <td>40.600094</td>\n",
       "      <td>...</td>\n",
       "      <td>Resides at Current Address</td>\n",
       "      <td>Y</td>\n",
       "      <td>35.0</td>\n",
       "      <td>B</td>\n",
       "      <td>Democrat</td>\n",
       "      <td>2021-03-24</td>\n",
       "      <td>N</td>\n",
       "      <td>Y</td>\n",
       "      <td>N</td>\n",
       "      <td>Active</td>\n",
       "    </tr>\n",
       "    <tr>\n",
       "      <th>2</th>\n",
       "      <td>61124</td>\n",
       "      <td>A</td>\n",
       "      <td>NaN</td>\n",
       "      <td>39.0</td>\n",
       "      <td>19441028</td>\n",
       "      <td>NaN</td>\n",
       "      <td>Female</td>\n",
       "      <td>NaN</td>\n",
       "      <td>145.0</td>\n",
       "      <td>40.674683</td>\n",
       "      <td>...</td>\n",
       "      <td>Resides at Current Address</td>\n",
       "      <td>Y</td>\n",
       "      <td>557.0</td>\n",
       "      <td>B</td>\n",
       "      <td>Republican</td>\n",
       "      <td>2021-06-12</td>\n",
       "      <td>N</td>\n",
       "      <td>Y</td>\n",
       "      <td>Y</td>\n",
       "      <td>Active</td>\n",
       "    </tr>\n",
       "    <tr>\n",
       "      <th>3</th>\n",
       "      <td>74017</td>\n",
       "      <td>A</td>\n",
       "      <td>NaN</td>\n",
       "      <td>37.0</td>\n",
       "      <td>19840617</td>\n",
       "      <td>20200929.0</td>\n",
       "      <td>Female</td>\n",
       "      <td>APT</td>\n",
       "      <td>135.0</td>\n",
       "      <td>40.592504</td>\n",
       "      <td>...</td>\n",
       "      <td>Resides at Current Address</td>\n",
       "      <td>Y</td>\n",
       "      <td>236.0</td>\n",
       "      <td>B</td>\n",
       "      <td>Democrat</td>\n",
       "      <td>2020-09-22</td>\n",
       "      <td>N</td>\n",
       "      <td>Y</td>\n",
       "      <td>N</td>\n",
       "      <td>Active</td>\n",
       "    </tr>\n",
       "    <tr>\n",
       "      <th>4</th>\n",
       "      <td>71841</td>\n",
       "      <td>A</td>\n",
       "      <td>NaN</td>\n",
       "      <td>NaN</td>\n",
       "      <td>19960523</td>\n",
       "      <td>NaN</td>\n",
       "      <td>Male</td>\n",
       "      <td>NaN</td>\n",
       "      <td>NaN</td>\n",
       "      <td>40.617752</td>\n",
       "      <td>...</td>\n",
       "      <td>Resides at Current Address</td>\n",
       "      <td>Y</td>\n",
       "      <td>298.0</td>\n",
       "      <td>F</td>\n",
       "      <td>Democrat</td>\n",
       "      <td>2020-06-16</td>\n",
       "      <td>N</td>\n",
       "      <td>N</td>\n",
       "      <td>N</td>\n",
       "      <td>Active</td>\n",
       "    </tr>\n",
       "  </tbody>\n",
       "</table>\n",
       "<p>5 rows × 22 columns</p>\n",
       "</div>"
      ]
     },
     "metadata": {},
     "execution_count": 6
    }
   ],
   "metadata": {}
  },
  {
   "cell_type": "code",
   "execution_count": 8,
   "source": [
    "a = data['actual_turnout'].unique() #determining values for voter turnout column\n",
    "print(a)"
   ],
   "outputs": [
    {
     "output_type": "stream",
     "name": "stdout",
     "text": [
      "['A' 'N' 'Y' 'I' 'E']\n"
     ]
    }
   ],
   "metadata": {}
  },
  {
   "cell_type": "code",
   "execution_count": 9,
   "source": [
    "data_bin = pd.read_csv('data.csv', header=0) #new import for predict var (actual_turnout) binary\n",
    "print(data_bin.shape) \n",
    "print(list(data_bin.columns))\n",
    "data_bin.head()"
   ],
   "outputs": [
    {
     "output_type": "stream",
     "name": "stdout",
     "text": [
      "(199984, 22)\n",
      "['index', 'actual_turnout', 'deceased', 'discretionary_income', 'dob', 'first_time_seen', 'gender', 'home_type', 'household_income', 'lat', 'lon', 'marital_status', 'mover_status', 'permanent_absentee', 'precinct_id', 'race_ethnicity', 'reg_party', 'registration_date', 'vote_history1', 'vote_history2', 'vote_history3', 'voter_status']\n"
     ]
    },
    {
     "output_type": "execute_result",
     "data": {
      "text/plain": [
       "   index actual_turnout deceased  discretionary_income       dob  \\\n",
       "0  44861              A      NaN                  54.0  19821216   \n",
       "1   8751              A      NaN                  28.0  19780615   \n",
       "2  61124              A      NaN                  39.0  19441028   \n",
       "3  74017              A      NaN                  37.0  19840617   \n",
       "4  71841              A      NaN                   NaN  19960523   \n",
       "\n",
       "   first_time_seen  gender home_type  household_income        lat  ...  \\\n",
       "0              NaN    Male       NaN             288.0  40.682232  ...   \n",
       "1              NaN    Male       NaN              85.0  40.600094  ...   \n",
       "2              NaN  Female       NaN             145.0  40.674683  ...   \n",
       "3       20200929.0  Female       APT             135.0  40.592504  ...   \n",
       "4              NaN    Male       NaN               NaN  40.617752  ...   \n",
       "\n",
       "                 mover_status permanent_absentee precinct_id race_ethnicity  \\\n",
       "0  Resides at Current Address                  Y       704.0              B   \n",
       "1  Resides at Current Address                  Y        35.0              B   \n",
       "2  Resides at Current Address                  Y       557.0              B   \n",
       "3  Resides at Current Address                  Y       236.0              B   \n",
       "4  Resides at Current Address                  Y       298.0              F   \n",
       "\n",
       "    reg_party registration_date vote_history1 vote_history2 vote_history3  \\\n",
       "0    Democrat        2021-06-04             N             Y             N   \n",
       "1    Democrat        2021-03-24             N             Y             N   \n",
       "2  Republican        2021-06-12             N             Y             Y   \n",
       "3    Democrat        2020-09-22             N             Y             N   \n",
       "4    Democrat        2020-06-16             N             N             N   \n",
       "\n",
       "  voter_status  \n",
       "0       Active  \n",
       "1       Active  \n",
       "2       Active  \n",
       "3       Active  \n",
       "4       Active  \n",
       "\n",
       "[5 rows x 22 columns]"
      ],
      "text/html": [
       "<div>\n",
       "<style scoped>\n",
       "    .dataframe tbody tr th:only-of-type {\n",
       "        vertical-align: middle;\n",
       "    }\n",
       "\n",
       "    .dataframe tbody tr th {\n",
       "        vertical-align: top;\n",
       "    }\n",
       "\n",
       "    .dataframe thead th {\n",
       "        text-align: right;\n",
       "    }\n",
       "</style>\n",
       "<table border=\"1\" class=\"dataframe\">\n",
       "  <thead>\n",
       "    <tr style=\"text-align: right;\">\n",
       "      <th></th>\n",
       "      <th>index</th>\n",
       "      <th>actual_turnout</th>\n",
       "      <th>deceased</th>\n",
       "      <th>discretionary_income</th>\n",
       "      <th>dob</th>\n",
       "      <th>first_time_seen</th>\n",
       "      <th>gender</th>\n",
       "      <th>home_type</th>\n",
       "      <th>household_income</th>\n",
       "      <th>lat</th>\n",
       "      <th>...</th>\n",
       "      <th>mover_status</th>\n",
       "      <th>permanent_absentee</th>\n",
       "      <th>precinct_id</th>\n",
       "      <th>race_ethnicity</th>\n",
       "      <th>reg_party</th>\n",
       "      <th>registration_date</th>\n",
       "      <th>vote_history1</th>\n",
       "      <th>vote_history2</th>\n",
       "      <th>vote_history3</th>\n",
       "      <th>voter_status</th>\n",
       "    </tr>\n",
       "  </thead>\n",
       "  <tbody>\n",
       "    <tr>\n",
       "      <th>0</th>\n",
       "      <td>44861</td>\n",
       "      <td>A</td>\n",
       "      <td>NaN</td>\n",
       "      <td>54.0</td>\n",
       "      <td>19821216</td>\n",
       "      <td>NaN</td>\n",
       "      <td>Male</td>\n",
       "      <td>NaN</td>\n",
       "      <td>288.0</td>\n",
       "      <td>40.682232</td>\n",
       "      <td>...</td>\n",
       "      <td>Resides at Current Address</td>\n",
       "      <td>Y</td>\n",
       "      <td>704.0</td>\n",
       "      <td>B</td>\n",
       "      <td>Democrat</td>\n",
       "      <td>2021-06-04</td>\n",
       "      <td>N</td>\n",
       "      <td>Y</td>\n",
       "      <td>N</td>\n",
       "      <td>Active</td>\n",
       "    </tr>\n",
       "    <tr>\n",
       "      <th>1</th>\n",
       "      <td>8751</td>\n",
       "      <td>A</td>\n",
       "      <td>NaN</td>\n",
       "      <td>28.0</td>\n",
       "      <td>19780615</td>\n",
       "      <td>NaN</td>\n",
       "      <td>Male</td>\n",
       "      <td>NaN</td>\n",
       "      <td>85.0</td>\n",
       "      <td>40.600094</td>\n",
       "      <td>...</td>\n",
       "      <td>Resides at Current Address</td>\n",
       "      <td>Y</td>\n",
       "      <td>35.0</td>\n",
       "      <td>B</td>\n",
       "      <td>Democrat</td>\n",
       "      <td>2021-03-24</td>\n",
       "      <td>N</td>\n",
       "      <td>Y</td>\n",
       "      <td>N</td>\n",
       "      <td>Active</td>\n",
       "    </tr>\n",
       "    <tr>\n",
       "      <th>2</th>\n",
       "      <td>61124</td>\n",
       "      <td>A</td>\n",
       "      <td>NaN</td>\n",
       "      <td>39.0</td>\n",
       "      <td>19441028</td>\n",
       "      <td>NaN</td>\n",
       "      <td>Female</td>\n",
       "      <td>NaN</td>\n",
       "      <td>145.0</td>\n",
       "      <td>40.674683</td>\n",
       "      <td>...</td>\n",
       "      <td>Resides at Current Address</td>\n",
       "      <td>Y</td>\n",
       "      <td>557.0</td>\n",
       "      <td>B</td>\n",
       "      <td>Republican</td>\n",
       "      <td>2021-06-12</td>\n",
       "      <td>N</td>\n",
       "      <td>Y</td>\n",
       "      <td>Y</td>\n",
       "      <td>Active</td>\n",
       "    </tr>\n",
       "    <tr>\n",
       "      <th>3</th>\n",
       "      <td>74017</td>\n",
       "      <td>A</td>\n",
       "      <td>NaN</td>\n",
       "      <td>37.0</td>\n",
       "      <td>19840617</td>\n",
       "      <td>20200929.0</td>\n",
       "      <td>Female</td>\n",
       "      <td>APT</td>\n",
       "      <td>135.0</td>\n",
       "      <td>40.592504</td>\n",
       "      <td>...</td>\n",
       "      <td>Resides at Current Address</td>\n",
       "      <td>Y</td>\n",
       "      <td>236.0</td>\n",
       "      <td>B</td>\n",
       "      <td>Democrat</td>\n",
       "      <td>2020-09-22</td>\n",
       "      <td>N</td>\n",
       "      <td>Y</td>\n",
       "      <td>N</td>\n",
       "      <td>Active</td>\n",
       "    </tr>\n",
       "    <tr>\n",
       "      <th>4</th>\n",
       "      <td>71841</td>\n",
       "      <td>A</td>\n",
       "      <td>NaN</td>\n",
       "      <td>NaN</td>\n",
       "      <td>19960523</td>\n",
       "      <td>NaN</td>\n",
       "      <td>Male</td>\n",
       "      <td>NaN</td>\n",
       "      <td>NaN</td>\n",
       "      <td>40.617752</td>\n",
       "      <td>...</td>\n",
       "      <td>Resides at Current Address</td>\n",
       "      <td>Y</td>\n",
       "      <td>298.0</td>\n",
       "      <td>F</td>\n",
       "      <td>Democrat</td>\n",
       "      <td>2020-06-16</td>\n",
       "      <td>N</td>\n",
       "      <td>N</td>\n",
       "      <td>N</td>\n",
       "      <td>Active</td>\n",
       "    </tr>\n",
       "  </tbody>\n",
       "</table>\n",
       "<p>5 rows × 22 columns</p>\n",
       "</div>"
      ]
     },
     "metadata": {},
     "execution_count": 9
    }
   ],
   "metadata": {}
  },
  {
   "cell_type": "code",
   "execution_count": 14,
   "source": [
    "data_bin['actual_turnout']=np.where(data_bin['actual_turnout'] =='A', '1', data_bin['actual_turnout'])\n",
    "data_bin['actual_turnout']=np.where(data_bin['actual_turnout'] =='N', '0', data_bin['actual_turnout'])\n",
    "data_bin['actual_turnout']=np.where(data_bin['actual_turnout'] =='Y', '1', data_bin['actual_turnout'])\n",
    "data_bin['actual_turnout']=np.where(data_bin['actual_turnout'] =='I', '0', data_bin['actual_turnout'])\n",
    "data_bin['actual_turnout']=np.where(data_bin['actual_turnout'] =='E', '0', data_bin['actual_turnout'])\n",
    "b = data_bin['actual_turnout'].unique() #insure that new binary established\n",
    "print(b)"
   ],
   "outputs": [
    {
     "output_type": "stream",
     "name": "stdout",
     "text": [
      "['1' '0']\n"
     ]
    }
   ],
   "metadata": {}
  },
  {
   "cell_type": "markdown",
   "source": [],
   "metadata": {}
  },
  {
   "cell_type": "code",
   "execution_count": 11,
   "source": [
    "data['actual_turnout'].value_counts() #initial exploration"
   ],
   "outputs": [
    {
     "output_type": "execute_result",
     "data": {
      "text/plain": [
       "A    155682\n",
       "N     30868\n",
       "Y     11935\n",
       "I       990\n",
       "E       509\n",
       "Name: actual_turnout, dtype: int64"
      ]
     },
     "metadata": {},
     "execution_count": 11
    }
   ],
   "metadata": {}
  },
  {
   "cell_type": "code",
   "execution_count": 12,
   "source": [
    "data_bin['actual_turnout'].value_counts() #initial exploration"
   ],
   "outputs": [
    {
     "output_type": "execute_result",
     "data": {
      "text/plain": [
       "1    167617\n",
       "0     32367\n",
       "Name: actual_turnout, dtype: int64"
      ]
     },
     "metadata": {},
     "execution_count": 12
    }
   ],
   "metadata": {}
  },
  {
   "cell_type": "code",
   "execution_count": 18,
   "source": [
    "sns.countplot(x='actual_turnout', data=data, palette='hls') \n",
    "plt.show() \n",
    "plt.savefig('count_plot')"
   ],
   "outputs": [
    {
     "output_type": "display_data",
     "data": {
      "text/plain": [
       "<Figure size 432x288 with 1 Axes>"
      ],
      "image/png": "[encoded data removed]"
     },
     "metadata": {}
    },
    {
     "output_type": "display_data",
     "data": {
      "text/plain": [
       "<Figure size 432x288 with 0 Axes>"
      ]
     },
     "metadata": {}
    }
   ],
   "metadata": {}
  },
  {
   "cell_type": "code",
   "execution_count": 19,
   "source": [
    "sns.countplot(x='actual_turnout', data=data_bin, palette='hls') \n",
    "plt.show() \n",
    "plt.savefig('count_plot2')"
   ],
   "outputs": [
    {
     "output_type": "display_data",
     "data": {
      "text/plain": [
       "<Figure size 432x288 with 1 Axes>"
      ],
      "image/png": "[encoded data removed]"
     },
     "metadata": {}
    },
    {
     "output_type": "display_data",
     "data": {
      "text/plain": [
       "<Figure size 432x288 with 0 Axes>"
      ]
     },
     "metadata": {}
    }
   ],
   "metadata": {}
  },
  {
   "cell_type": "code",
   "execution_count": 23,
   "source": [
    "count_no_vote = len(data_bin[data_bin['actual_turnout']=='0'])\n",
    "count_vote = len(data_bin[data_bin['actual_turnout']=='1'])\n",
    "pct_of_no_vote = count_no_vote/(count_no_vote+count_vote)\n",
    "print(\"Nonvoter percentage is\", pct_of_no_vote*100)\n",
    "pct_of_vote = count_vote/(count_no_vote+count_vote)\n",
    "print(\"Voter turnout percentage is\", pct_of_vote*100)"
   ],
   "outputs": [
    {
     "output_type": "stream",
     "name": "stdout",
     "text": [
      "Nonvoter percentage is 16.18479478358269\n",
      "Voter turnout percentage is 83.81520521641731\n"
     ]
    }
   ],
   "metadata": {}
  },
  {
   "cell_type": "code",
   "execution_count": 24,
   "source": [
    "data_bin.groupby('actual_turnout').mean() #basic exploration according to turnout"
   ],
   "outputs": [
    {
     "output_type": "execute_result",
     "data": {
      "text/plain": [
       "                        index  discretionary_income           dob  \\\n",
       "actual_turnout                                                      \n",
       "0                99427.797726             31.817939  1.978423e+07   \n",
       "1               100110.216649             39.875556  1.969574e+07   \n",
       "\n",
       "                first_time_seen  household_income        lat        lon  \\\n",
       "actual_turnout                                                            \n",
       "0                  2.018600e+07        121.304377  40.654593 -73.963486   \n",
       "1                  2.018100e+07        156.373166  40.653005 -73.963684   \n",
       "\n",
       "                precinct_id  \n",
       "actual_turnout               \n",
       "0                379.852566  \n",
       "1                374.483501  "
      ],
      "text/html": [
       "<div>\n",
       "<style scoped>\n",
       "    .dataframe tbody tr th:only-of-type {\n",
       "        vertical-align: middle;\n",
       "    }\n",
       "\n",
       "    .dataframe tbody tr th {\n",
       "        vertical-align: top;\n",
       "    }\n",
       "\n",
       "    .dataframe thead th {\n",
       "        text-align: right;\n",
       "    }\n",
       "</style>\n",
       "<table border=\"1\" class=\"dataframe\">\n",
       "  <thead>\n",
       "    <tr style=\"text-align: right;\">\n",
       "      <th></th>\n",
       "      <th>index</th>\n",
       "      <th>discretionary_income</th>\n",
       "      <th>dob</th>\n",
       "      <th>first_time_seen</th>\n",
       "      <th>household_income</th>\n",
       "      <th>lat</th>\n",
       "      <th>lon</th>\n",
       "      <th>precinct_id</th>\n",
       "    </tr>\n",
       "    <tr>\n",
       "      <th>actual_turnout</th>\n",
       "      <th></th>\n",
       "      <th></th>\n",
       "      <th></th>\n",
       "      <th></th>\n",
       "      <th></th>\n",
       "      <th></th>\n",
       "      <th></th>\n",
       "      <th></th>\n",
       "    </tr>\n",
       "  </thead>\n",
       "  <tbody>\n",
       "    <tr>\n",
       "      <th>0</th>\n",
       "      <td>99427.797726</td>\n",
       "      <td>31.817939</td>\n",
       "      <td>1.978423e+07</td>\n",
       "      <td>2.018600e+07</td>\n",
       "      <td>121.304377</td>\n",
       "      <td>40.654593</td>\n",
       "      <td>-73.963486</td>\n",
       "      <td>379.852566</td>\n",
       "    </tr>\n",
       "    <tr>\n",
       "      <th>1</th>\n",
       "      <td>100110.216649</td>\n",
       "      <td>39.875556</td>\n",
       "      <td>1.969574e+07</td>\n",
       "      <td>2.018100e+07</td>\n",
       "      <td>156.373166</td>\n",
       "      <td>40.653005</td>\n",
       "      <td>-73.963684</td>\n",
       "      <td>374.483501</td>\n",
       "    </tr>\n",
       "  </tbody>\n",
       "</table>\n",
       "</div>"
      ]
     },
     "metadata": {},
     "execution_count": 24
    }
   ],
   "metadata": {}
  },
  {
   "cell_type": "markdown",
   "source": [
    "First observations by turnout show (significant?) differences in discretionary and household income. Let's break things down by race and party:"
   ],
   "metadata": {}
  },
  {
   "cell_type": "code",
   "execution_count": 25,
   "source": [
    "data_bin.groupby('race_ethnicity').mean()"
   ],
   "outputs": [
    {
     "output_type": "execute_result",
     "data": {
      "text/plain": [
       "                        index  discretionary_income           dob  \\\n",
       "race_ethnicity                                                      \n",
       "A               100681.028819             19.331384  1.973646e+07   \n",
       "B                99944.112309             42.316145  1.968928e+07   \n",
       "C                99962.145469             42.942441  1.972292e+07   \n",
       "D                99868.566346             23.521012  1.977521e+07   \n",
       "E                92684.923077             28.019231  1.971340e+07   \n",
       "F               100397.217276             42.254092  1.972708e+07   \n",
       "\n",
       "                first_time_seen  household_income        lat        lon  \\\n",
       "race_ethnicity                                                            \n",
       "A                  2.018190e+07         65.764051  40.660460 -73.963054   \n",
       "B                  2.018076e+07        167.807049  40.652547 -73.963895   \n",
       "C                  2.018456e+07        172.480150  40.651809 -73.962839   \n",
       "D                  2.018421e+07         77.933121  40.655186 -73.963300   \n",
       "E                  2.018244e+07        104.653846  40.648344 -73.965935   \n",
       "F                  2.018486e+07        169.728564  40.652553 -73.963872   \n",
       "\n",
       "                precinct_id  \n",
       "race_ethnicity               \n",
       "A                385.914115  \n",
       "B                372.177672  \n",
       "C                382.517535  \n",
       "D                380.393484  \n",
       "E                370.538462  \n",
       "F                374.864604  "
      ],
      "text/html": [
       "<div>\n",
       "<style scoped>\n",
       "    .dataframe tbody tr th:only-of-type {\n",
       "        vertical-align: middle;\n",
       "    }\n",
       "\n",
       "    .dataframe tbody tr th {\n",
       "        vertical-align: top;\n",
       "    }\n",
       "\n",
       "    .dataframe thead th {\n",
       "        text-align: right;\n",
       "    }\n",
       "</style>\n",
       "<table border=\"1\" class=\"dataframe\">\n",
       "  <thead>\n",
       "    <tr style=\"text-align: right;\">\n",
       "      <th></th>\n",
       "      <th>index</th>\n",
       "      <th>discretionary_income</th>\n",
       "      <th>dob</th>\n",
       "      <th>first_time_seen</th>\n",
       "      <th>household_income</th>\n",
       "      <th>lat</th>\n",
       "      <th>lon</th>\n",
       "      <th>precinct_id</th>\n",
       "    </tr>\n",
       "    <tr>\n",
       "      <th>race_ethnicity</th>\n",
       "      <th></th>\n",
       "      <th></th>\n",
       "      <th></th>\n",
       "      <th></th>\n",
       "      <th></th>\n",
       "      <th></th>\n",
       "      <th></th>\n",
       "      <th></th>\n",
       "    </tr>\n",
       "  </thead>\n",
       "  <tbody>\n",
       "    <tr>\n",
       "      <th>A</th>\n",
       "      <td>100681.028819</td>\n",
       "      <td>19.331384</td>\n",
       "      <td>1.973646e+07</td>\n",
       "      <td>2.018190e+07</td>\n",
       "      <td>65.764051</td>\n",
       "      <td>40.660460</td>\n",
       "      <td>-73.963054</td>\n",
       "      <td>385.914115</td>\n",
       "    </tr>\n",
       "    <tr>\n",
       "      <th>B</th>\n",
       "      <td>99944.112309</td>\n",
       "      <td>42.316145</td>\n",
       "      <td>1.968928e+07</td>\n",
       "      <td>2.018076e+07</td>\n",
       "      <td>167.807049</td>\n",
       "      <td>40.652547</td>\n",
       "      <td>-73.963895</td>\n",
       "      <td>372.177672</td>\n",
       "    </tr>\n",
       "    <tr>\n",
       "      <th>C</th>\n",
       "      <td>99962.145469</td>\n",
       "      <td>42.942441</td>\n",
       "      <td>1.972292e+07</td>\n",
       "      <td>2.018456e+07</td>\n",
       "      <td>172.480150</td>\n",
       "      <td>40.651809</td>\n",
       "      <td>-73.962839</td>\n",
       "      <td>382.517535</td>\n",
       "    </tr>\n",
       "    <tr>\n",
       "      <th>D</th>\n",
       "      <td>99868.566346</td>\n",
       "      <td>23.521012</td>\n",
       "      <td>1.977521e+07</td>\n",
       "      <td>2.018421e+07</td>\n",
       "      <td>77.933121</td>\n",
       "      <td>40.655186</td>\n",
       "      <td>-73.963300</td>\n",
       "      <td>380.393484</td>\n",
       "    </tr>\n",
       "    <tr>\n",
       "      <th>E</th>\n",
       "      <td>92684.923077</td>\n",
       "      <td>28.019231</td>\n",
       "      <td>1.971340e+07</td>\n",
       "      <td>2.018244e+07</td>\n",
       "      <td>104.653846</td>\n",
       "      <td>40.648344</td>\n",
       "      <td>-73.965935</td>\n",
       "      <td>370.538462</td>\n",
       "    </tr>\n",
       "    <tr>\n",
       "      <th>F</th>\n",
       "      <td>100397.217276</td>\n",
       "      <td>42.254092</td>\n",
       "      <td>1.972708e+07</td>\n",
       "      <td>2.018486e+07</td>\n",
       "      <td>169.728564</td>\n",
       "      <td>40.652553</td>\n",
       "      <td>-73.963872</td>\n",
       "      <td>374.864604</td>\n",
       "    </tr>\n",
       "  </tbody>\n",
       "</table>\n",
       "</div>"
      ]
     },
     "metadata": {},
     "execution_count": 25
    }
   ],
   "metadata": {}
  },
  {
   "cell_type": "code",
   "execution_count": 27,
   "source": [
    "sns.countplot(x='race_ethnicity', data=data_bin, palette='hls') \n",
    "plt.show() \n",
    "plt.savefig('race')"
   ],
   "outputs": [
    {
     "output_type": "display_data",
     "data": {
      "text/plain": [
       "<Figure size 432x288 with 1 Axes>"
      ],
      "image/png": "[encoded data removed]"
     },
     "metadata": {}
    },
    {
     "output_type": "display_data",
     "data": {
      "text/plain": [
       "<Figure size 432x288 with 0 Axes>"
      ]
     },
     "metadata": {}
    }
   ],
   "metadata": {}
  },
  {
   "cell_type": "code",
   "execution_count": 26,
   "source": [
    "data_bin.groupby('reg_party').mean()"
   ],
   "outputs": [
    {
     "output_type": "execute_result",
     "data": {
      "text/plain": [
       "                           index  discretionary_income           dob  \\\n",
       "reg_party                                                              \n",
       "Democrat           100051.629646             36.455436  1.970755e+07   \n",
       "Green               99536.001271             33.390424  1.977342e+07   \n",
       "Libertarian         98547.069503             43.258635  1.979838e+07   \n",
       "No Party            99891.157503             40.711812  1.975110e+07   \n",
       "Other              100028.401663             39.515555  1.973585e+07   \n",
       "Peace and Freedom   99827.696774             25.187643  1.981761e+07   \n",
       "Republican         100040.056156             43.321917  1.965314e+07   \n",
       "Unaffiliated       100845.669251             35.619369  1.978938e+07   \n",
       "\n",
       "                   first_time_seen  household_income        lat        lon  \\\n",
       "reg_party                                                                    \n",
       "Democrat              2.018183e+07        139.739837  40.653197 -73.963763   \n",
       "Green                 2.018386e+07        124.771639  40.652655 -73.964377   \n",
       "Libertarian           2.018752e+07        168.649799  40.654044 -73.963476   \n",
       "No Party              2.018275e+07        162.643552  40.652817 -73.963445   \n",
       "Other                 2.018636e+07        152.562781  40.653756 -73.963812   \n",
       "Peace and Freedom     2.018916e+07         84.423341  40.656207 -73.961914   \n",
       "Republican            2.018004e+07        173.725023  40.653826 -73.963589   \n",
       "Unaffiliated          2.019191e+07        141.731982  40.652852 -73.963459   \n",
       "\n",
       "                   precinct_id  \n",
       "reg_party                       \n",
       "Democrat            371.606140  \n",
       "Green               373.810673  \n",
       "Libertarian         391.203715  \n",
       "No Party            374.619616  \n",
       "Other               378.750287  \n",
       "Peace and Freedom   381.353548  \n",
       "Republican          385.318612  \n",
       "Unaffiliated        383.452196  "
      ],
      "text/html": [
       "<div>\n",
       "<style scoped>\n",
       "    .dataframe tbody tr th:only-of-type {\n",
       "        vertical-align: middle;\n",
       "    }\n",
       "\n",
       "    .dataframe tbody tr th {\n",
       "        vertical-align: top;\n",
       "    }\n",
       "\n",
       "    .dataframe thead th {\n",
       "        text-align: right;\n",
       "    }\n",
       "</style>\n",
       "<table border=\"1\" class=\"dataframe\">\n",
       "  <thead>\n",
       "    <tr style=\"text-align: right;\">\n",
       "      <th></th>\n",
       "      <th>index</th>\n",
       "      <th>discretionary_income</th>\n",
       "      <th>dob</th>\n",
       "      <th>first_time_seen</th>\n",
       "      <th>household_income</th>\n",
       "      <th>lat</th>\n",
       "      <th>lon</th>\n",
       "      <th>precinct_id</th>\n",
       "    </tr>\n",
       "    <tr>\n",
       "      <th>reg_party</th>\n",
       "      <th></th>\n",
       "      <th></th>\n",
       "      <th></th>\n",
       "      <th></th>\n",
       "      <th></th>\n",
       "      <th></th>\n",
       "      <th></th>\n",
       "      <th></th>\n",
       "    </tr>\n",
       "  </thead>\n",
       "  <tbody>\n",
       "    <tr>\n",
       "      <th>Democrat</th>\n",
       "      <td>100051.629646</td>\n",
       "      <td>36.455436</td>\n",
       "      <td>1.970755e+07</td>\n",
       "      <td>2.018183e+07</td>\n",
       "      <td>139.739837</td>\n",
       "      <td>40.653197</td>\n",
       "      <td>-73.963763</td>\n",
       "      <td>371.606140</td>\n",
       "    </tr>\n",
       "    <tr>\n",
       "      <th>Green</th>\n",
       "      <td>99536.001271</td>\n",
       "      <td>33.390424</td>\n",
       "      <td>1.977342e+07</td>\n",
       "      <td>2.018386e+07</td>\n",
       "      <td>124.771639</td>\n",
       "      <td>40.652655</td>\n",
       "      <td>-73.964377</td>\n",
       "      <td>373.810673</td>\n",
       "    </tr>\n",
       "    <tr>\n",
       "      <th>Libertarian</th>\n",
       "      <td>98547.069503</td>\n",
       "      <td>43.258635</td>\n",
       "      <td>1.979838e+07</td>\n",
       "      <td>2.018752e+07</td>\n",
       "      <td>168.649799</td>\n",
       "      <td>40.654044</td>\n",
       "      <td>-73.963476</td>\n",
       "      <td>391.203715</td>\n",
       "    </tr>\n",
       "    <tr>\n",
       "      <th>No Party</th>\n",
       "      <td>99891.157503</td>\n",
       "      <td>40.711812</td>\n",
       "      <td>1.975110e+07</td>\n",
       "      <td>2.018275e+07</td>\n",
       "      <td>162.643552</td>\n",
       "      <td>40.652817</td>\n",
       "      <td>-73.963445</td>\n",
       "      <td>374.619616</td>\n",
       "    </tr>\n",
       "    <tr>\n",
       "      <th>Other</th>\n",
       "      <td>100028.401663</td>\n",
       "      <td>39.515555</td>\n",
       "      <td>1.973585e+07</td>\n",
       "      <td>2.018636e+07</td>\n",
       "      <td>152.562781</td>\n",
       "      <td>40.653756</td>\n",
       "      <td>-73.963812</td>\n",
       "      <td>378.750287</td>\n",
       "    </tr>\n",
       "    <tr>\n",
       "      <th>Peace and Freedom</th>\n",
       "      <td>99827.696774</td>\n",
       "      <td>25.187643</td>\n",
       "      <td>1.981761e+07</td>\n",
       "      <td>2.018916e+07</td>\n",
       "      <td>84.423341</td>\n",
       "      <td>40.656207</td>\n",
       "      <td>-73.961914</td>\n",
       "      <td>381.353548</td>\n",
       "    </tr>\n",
       "    <tr>\n",
       "      <th>Republican</th>\n",
       "      <td>100040.056156</td>\n",
       "      <td>43.321917</td>\n",
       "      <td>1.965314e+07</td>\n",
       "      <td>2.018004e+07</td>\n",
       "      <td>173.725023</td>\n",
       "      <td>40.653826</td>\n",
       "      <td>-73.963589</td>\n",
       "      <td>385.318612</td>\n",
       "    </tr>\n",
       "    <tr>\n",
       "      <th>Unaffiliated</th>\n",
       "      <td>100845.669251</td>\n",
       "      <td>35.619369</td>\n",
       "      <td>1.978938e+07</td>\n",
       "      <td>2.019191e+07</td>\n",
       "      <td>141.731982</td>\n",
       "      <td>40.652852</td>\n",
       "      <td>-73.963459</td>\n",
       "      <td>383.452196</td>\n",
       "    </tr>\n",
       "  </tbody>\n",
       "</table>\n",
       "</div>"
      ]
     },
     "metadata": {},
     "execution_count": 26
    }
   ],
   "metadata": {}
  },
  {
   "cell_type": "code",
   "execution_count": 28,
   "source": [
    "sns.countplot(x='reg_party', data=data_bin, palette='hls') \n",
    "plt.show() \n",
    "plt.savefig('party')"
   ],
   "outputs": [
    {
     "output_type": "display_data",
     "data": {
      "text/plain": [
       "<Figure size 432x288 with 1 Axes>"
      ],
      "image/png": "[encoded data removed]"
     },
     "metadata": {}
    },
    {
     "output_type": "display_data",
     "data": {
      "text/plain": [
       "<Figure size 432x288 with 0 Axes>"
      ]
     },
     "metadata": {}
    }
   ],
   "metadata": {}
  },
  {
   "cell_type": "code",
   "execution_count": 29,
   "source": [
    "pd.crosstab(data_bin.home_type,data_bin.actual_turnout).plot(kind='bar')\n",
    "plt.title('Voter Turnout By Home Type')\n",
    "plt.xlabel('Home Type')\n",
    "plt.ylabel('Counts by Home Type')\n",
    "plt.savefig('vote_home')"
   ],
   "outputs": [
    {
     "output_type": "display_data",
     "data": {
      "text/plain": [
       "<Figure size 432x288 with 1 Axes>"
      ],
      "image/png": "[encoded data removed]"
     },
     "metadata": {}
    }
   ],
   "metadata": {}
  },
  {
   "cell_type": "code",
   "execution_count": 30,
   "source": [
    "pd.crosstab(data_bin.reg_party,data_bin.actual_turnout).plot(kind='bar')\n",
    "plt.title('Voter Turnout By Party')\n",
    "plt.xlabel('Party')\n",
    "plt.ylabel('Counts')\n",
    "plt.savefig('party_vote')"
   ],
   "outputs": [
    {
     "output_type": "display_data",
     "data": {
      "text/plain": [
       "<Figure size 432x288 with 1 Axes>"
      ],
      "image/png": "[encoded data removed]"
     },
     "metadata": {}
    }
   ],
   "metadata": {}
  },
  {
   "cell_type": "code",
   "execution_count": 31,
   "source": [
    "table=pd.crosstab(data.reg_party,data.actual_turnout)\n",
    "table.div(table.sum(1).astype(float), axis=0).plot(kind='bar', stacked=True)\n",
    "plt.title('Stacked Bar Chart of Party vs Turnout')\n",
    "plt.xlabel('Party')\n",
    "plt.ylabel('Proportion of Voters')\n",
    "plt.savefig('party_vote')"
   ],
   "outputs": [
    {
     "output_type": "display_data",
     "data": {
      "text/plain": [
       "<Figure size 432x288 with 1 Axes>"
      ],
      "image/png": "[encoded data removed]"
     },
     "metadata": {}
    }
   ],
   "metadata": {}
  },
  {
   "cell_type": "code",
   "execution_count": 32,
   "source": [
    "table=pd.crosstab(data_bin.reg_party,data_bin.actual_turnout)\n",
    "table.div(table.sum(1).astype(float), axis=0).plot(kind='bar', stacked=True)\n",
    "plt.title('Stacked Bar Chart of Party vs Turnout')\n",
    "plt.xlabel('Party')\n",
    "plt.ylabel('Proportion of Voters')\n",
    "plt.savefig('party_vote_bin')"
   ],
   "outputs": [
    {
     "output_type": "display_data",
     "data": {
      "text/plain": [
       "<Figure size 432x288 with 1 Axes>"
      ],
      "image/png": "[encoded data removed]"
     },
     "metadata": {}
    }
   ],
   "metadata": {}
  },
  {
   "cell_type": "code",
   "execution_count": 33,
   "source": [
    "table=pd.crosstab(data_bin.home_type,data_bin.actual_turnout)\n",
    "table.div(table.sum(1).astype(float), axis=0).plot(kind='bar', stacked=True)\n",
    "plt.title('Stacked Bar Chart of Home Type vs Turnout')\n",
    "plt.xlabel('Home Type')\n",
    "plt.ylabel('Proportion of Voters')\n",
    "plt.savefig('home_vote_bin')"
   ],
   "outputs": [
    {
     "output_type": "display_data",
     "data": {
      "text/plain": [
       "<Figure size 432x288 with 1 Axes>"
      ],
      "image/png": "[encoded data removed]"
     },
     "metadata": {}
    }
   ],
   "metadata": {}
  },
  {
   "cell_type": "markdown",
   "source": [
    "OK so now I'm seeing considerable variation in home type, which makes me also want to break down by income as well."
   ],
   "metadata": {}
  },
  {
   "cell_type": "code",
   "execution_count": 34,
   "source": [
    "b = data_bin['household_income'].unique() #how is household income broken down?\n",
    "print(b)"
   ],
   "outputs": [
    {
     "output_type": "stream",
     "name": "stdout",
     "text": [
      "[2.880e+02 8.500e+01 1.450e+02 1.350e+02       nan 3.500e+02 1.050e+02\n",
      " 6.500e+01 2.140e+02 5.500e+01 7.500e+01 6.750e+02 4.500e+02 4.500e+01\n",
      " 1.420e+02 1.410e+02 2.810e+02 3.500e+01 6.800e+01 2.500e+01 1.880e+02\n",
      " 1.520e+02 9.500e+01 1.500e+01 1.000e+01 1.150e+02 7.700e+01 3.450e+02\n",
      " 1.240e+02 6.200e+01 1.790e+02 2.190e+02 8.750e+02 1.630e+02 1.950e+02\n",
      " 1.190e+02 1.440e+02 1.270e+02 7.400e+01 8.600e+01 9.100e+01 9.000e+01\n",
      " 2.310e+02 3.800e+01 6.100e+01 7.310e+02 8.000e+01 7.800e+01 1.130e+02\n",
      " 5.500e+02 2.380e+02 2.630e+02 4.400e+01 7.000e+01 5.370e+02 7.100e+01\n",
      " 1.090e+02 4.100e+01 1.030e+02 2.490e+02 6.000e+01 2.500e+02 1.610e+02\n",
      " 2.060e+02 1.460e+02 2.500e+03 3.100e+01 5.900e+01 3.900e+01 8.300e+01\n",
      " 1.580e+02 2.250e+02 1.250e+02 1.730e+02 3.020e+02 6.300e+01 1.320e+02\n",
      " 1.010e+02 1.490e+02 2.890e+02 1.860e+02 2.320e+02 2.150e+02 3.040e+02\n",
      " 1.620e+02 2.130e+02 6.600e+01 1.260e+02 1.070e+02 3.260e+02 1.430e+02\n",
      " 2.080e+02 1.900e+01 1.020e+02 1.470e+02 4.300e+01 2.260e+02 1.400e+02\n",
      " 1.060e+02 9.300e+01 6.400e+01 3.120e+02 1.220e+02 5.800e+01 1.650e+02\n",
      " 2.660e+02 5.700e+01 3.050e+02 2.690e+02 2.430e+02 2.370e+02 1.760e+02\n",
      " 2.290e+02 7.300e+01 2.180e+02 1.340e+02 2.710e+02 1.980e+02 1.670e+02\n",
      " 1.540e+02 2.590e+02 1.330e+02 5.190e+02 8.800e+01 4.700e+01 1.390e+02\n",
      " 3.840e+02 1.500e+03 1.930e+02 2.540e+02 1.820e+02 1.750e+02 2.300e+02\n",
      " 7.200e+01 5.100e+01 4.370e+02 2.450e+02 4.600e+01 2.940e+02 1.170e+02\n",
      " 2.900e+01 4.280e+02 1.230e+02 4.800e+01 5.320e+02 9.600e+01 4.000e+01\n",
      " 1.210e+02 1.800e+01 2.600e+02 5.200e+01 1.970e+02 1.360e+02 1.080e+02\n",
      " 2.330e+02 1.280e+02 1.680e+02 2.680e+02 7.060e+02 1.510e+02 3.370e+02\n",
      " 8.100e+01 1.570e+02 1.310e+02 2.730e+02 1.700e+02 1.000e+02 4.510e+02\n",
      " 1.200e+02 1.160e+02 8.900e+01 1.180e+02 2.090e+02 1.810e+02 9.900e+01\n",
      " 8.700e+01 4.410e+02 2.470e+02 8.120e+02 2.920e+02 2.110e+02 5.600e+01\n",
      " 1.910e+02 3.270e+02 1.890e+02 3.110e+02 9.800e+01 3.970e+02 1.550e+02\n",
      " 1.600e+02 1.100e+02 4.900e+01 3.090e+02 2.170e+02 2.230e+02 4.420e+02\n",
      " 9.400e+01 4.140e+02 2.240e+02 3.580e+02 1.690e+02 2.120e+02 6.700e+01\n",
      " 8.200e+01 2.870e+02 1.590e+02 3.400e+01 1.213e+03 1.720e+02 1.870e+02\n",
      " 1.500e+02 1.530e+02 1.900e+02 7.600e+01 1.380e+02 3.200e+01 3.680e+02\n",
      " 3.660e+02 2.640e+02 4.190e+02 2.510e+02 2.830e+02 1.640e+02 3.650e+02\n",
      " 5.830e+02 2.200e+02 1.990e+02 1.140e+02 2.070e+02 8.910e+02 1.850e+02\n",
      " 1.400e+01 1.920e+02 2.000e+02 2.780e+02 2.520e+02 2.420e+02 5.410e+02\n",
      " 2.760e+02 4.790e+02 3.710e+02 2.910e+02 2.360e+02 3.130e+02 1.840e+02\n",
      " 3.300e+02 2.960e+02 6.460e+02 1.480e+02 2.560e+02 2.720e+02 3.010e+02\n",
      " 3.570e+02 9.200e+01 4.210e+02 8.400e+01 2.850e+02 6.900e+01 4.880e+02\n",
      " 5.000e+01 2.160e+02 3.150e+02 2.020e+02 2.280e+02 5.400e+01 1.800e+02\n",
      " 4.270e+02 1.370e+02 5.970e+02 1.780e+02 2.400e+02 6.550e+02 4.600e+02\n",
      " 1.660e+02 4.700e+02 1.770e+02 2.220e+02 5.300e+01 3.280e+02 5.700e+02\n",
      " 4.310e+02 7.900e+01 3.420e+02 2.840e+02 3.920e+02 3.470e+02 3.430e+02\n",
      " 2.700e+01 7.850e+02 3.160e+02 1.110e+02 2.580e+02 3.600e+02 3.960e+02\n",
      " 4.120e+02 2.400e+01 3.180e+02 3.080e+02 2.480e+02 1.710e+02 3.560e+02\n",
      " 2.030e+02 5.630e+02 3.830e+02 3.940e+02 1.354e+03 2.460e+02 6.320e+02\n",
      " 1.300e+01 3.230e+02 2.610e+02 1.940e+02 4.740e+02 2.550e+02 2.950e+02\n",
      " 2.010e+02 3.330e+02 3.460e+02 2.600e+01 5.350e+02 3.600e+01 2.050e+02\n",
      " 3.190e+02 2.300e+01 9.730e+02 2.620e+02 2.800e+01 3.310e+02 2.390e+02\n",
      " 1.351e+03 9.030e+02 6.810e+02 3.740e+02 5.140e+02 2.650e+02 1.300e+02\n",
      " 1.960e+02 2.270e+02 1.290e+02 2.166e+03 9.700e+01 1.740e+02 7.670e+02\n",
      " 2.210e+02 6.870e+02 2.350e+02 1.830e+02 2.040e+02 1.560e+02 3.810e+02\n",
      " 2.200e+01 3.910e+02 3.030e+02 3.250e+02 1.040e+02 7.660e+02 4.430e+02\n",
      " 3.300e+01 3.540e+02 4.810e+02 2.740e+02 4.390e+02 3.950e+02 2.340e+02\n",
      " 5.520e+02 1.120e+02 4.060e+02 6.660e+02 2.440e+02 7.030e+02 2.100e+02\n",
      " 2.570e+02 4.590e+02 3.320e+02 4.030e+02 2.930e+02 4.100e+02 3.060e+02\n",
      " 4.050e+02 9.370e+02 2.750e+02 2.530e+02 2.410e+02 5.180e+02 5.050e+02\n",
      " 3.880e+02 3.390e+02 3.790e+02 4.290e+02 4.080e+02 1.119e+03 4.240e+02\n",
      " 8.520e+02 7.400e+02 5.730e+02 8.540e+02 4.330e+02 4.110e+02 3.140e+02\n",
      " 3.780e+02 4.200e+01 3.490e+02 2.980e+02 3.700e+01 3.640e+02 4.820e+02\n",
      " 1.287e+03 3.700e+02 5.880e+02 2.700e+02 3.350e+02 3.820e+02 6.650e+02\n",
      " 3.400e+02 2.528e+03 4.340e+02 6.980e+02 4.630e+02 5.390e+02 5.860e+02\n",
      " 8.310e+02 3.070e+02 4.490e+02 3.610e+02 5.450e+02 1.320e+03 3.000e+01\n",
      " 3.340e+02 3.290e+02 4.570e+02 1.200e+01 4.870e+02 2.770e+02 1.005e+03\n",
      " 4.160e+02 7.840e+02 1.706e+03 3.440e+02 9.050e+02 6.590e+02 2.800e+02\n",
      " 5.080e+02 4.770e+02 2.000e+01 2.790e+02 6.740e+02 3.360e+02 5.100e+02\n",
      " 2.970e+02 3.510e+02 3.240e+02 1.202e+03 4.720e+02 1.750e+03 4.010e+02\n",
      " 3.200e+02 7.960e+02 3.770e+02 5.090e+02 1.072e+03 1.322e+03 4.450e+02\n",
      " 5.770e+02 7.110e+02 4.780e+02 4.200e+02 4.580e+02 6.400e+02 7.010e+02\n",
      " 1.284e+03 8.000e+02 3.100e+02 9.580e+02 5.380e+02 6.900e+02 3.380e+02\n",
      " 4.020e+02 1.141e+03 8.220e+02 4.230e+02 6.160e+02 3.930e+02 9.670e+02\n",
      " 3.520e+02 5.900e+02 9.690e+02 3.860e+02 3.480e+02 1.250e+03 3.000e+02\n",
      " 3.670e+02 1.406e+03 7.230e+02 2.990e+02 9.460e+02 8.840e+02 3.890e+02\n",
      " 5.570e+02 4.730e+02 6.520e+02 6.640e+02 2.900e+02 4.830e+02 2.670e+02\n",
      " 7.540e+02 4.260e+02 6.700e+02 3.210e+02 5.790e+02 1.189e+03 4.360e+02\n",
      " 5.270e+02 5.960e+02 5.550e+02 3.870e+02 3.220e+02 6.570e+02 6.200e+02\n",
      " 4.520e+02 3.760e+02 6.710e+02 1.900e+03 8.480e+02 4.540e+02 8.890e+02\n",
      " 6.190e+02 4.970e+02 6.380e+02 7.910e+02 3.900e+02 3.990e+02 5.990e+02\n",
      " 3.181e+03 1.100e+01 6.260e+02 4.380e+02 6.410e+02 8.320e+02 5.250e+02\n",
      " 2.860e+02 5.910e+02 3.410e+02 5.360e+02 4.180e+02 5.340e+02 9.290e+02\n",
      " 1.980e+03 3.620e+02 4.610e+02 1.021e+03 3.630e+02 5.800e+02 5.650e+02\n",
      " 5.260e+02 8.240e+02 4.800e+02 5.070e+02 4.560e+02 5.980e+02 7.140e+02\n",
      " 5.170e+02 2.820e+02 8.660e+02 1.525e+03 3.800e+02 6.930e+02 3.550e+02\n",
      " 4.530e+02 3.720e+02 4.320e+02 3.690e+02 1.600e+01 4.660e+02 5.640e+02\n",
      " 4.680e+02 5.560e+02 6.290e+02 4.130e+02 4.890e+02 7.880e+02 5.580e+02\n",
      " 6.620e+02 3.730e+02 4.550e+02 5.120e+02 7.740e+02 1.254e+03 1.110e+03\n",
      " 2.757e+03 5.040e+02 6.280e+02 6.390e+02 1.700e+01 3.530e+02 7.170e+02\n",
      " 6.030e+02 4.860e+02 1.181e+03 1.488e+03 5.690e+02 1.016e+03 6.330e+02\n",
      " 6.940e+02 5.610e+02 4.470e+02 3.590e+02 7.760e+02 7.160e+02 1.086e+03\n",
      " 1.371e+03 4.670e+02 8.500e+02 3.850e+02 2.100e+01 9.210e+02 5.160e+02\n",
      " 5.620e+02 4.070e+02 5.590e+02 4.690e+02 6.690e+02 4.640e+02 4.900e+02\n",
      " 4.930e+02 5.740e+02 5.400e+02 5.020e+02 5.290e+02 4.090e+02 7.560e+02\n",
      " 1.113e+03 1.873e+03 6.090e+02 5.600e+02 4.760e+02 2.918e+03 6.080e+02\n",
      " 8.390e+02 1.158e+03 1.760e+03 8.160e+02 3.980e+02 4.850e+02 4.480e+02\n",
      " 7.950e+02 1.526e+03 8.100e+02 5.870e+02 7.300e+02 3.170e+02 5.240e+02\n",
      " 7.190e+02 5.200e+02 4.750e+02 4.840e+02 4.300e+02 1.761e+03 9.540e+02\n",
      " 5.430e+02 8.410e+02 3.867e+03 6.240e+02 4.040e+02 1.025e+03 5.060e+02\n",
      " 8.990e+02 5.940e+02 4.440e+02 4.000e+02 5.010e+02 4.400e+02 8.040e+02\n",
      " 4.650e+02 1.244e+03 8.300e+02 4.960e+02 6.000e+02 3.750e+02 5.420e+02\n",
      " 4.460e+02 9.320e+02 5.130e+02 5.330e+02 1.355e+03 6.580e+02 5.030e+02\n",
      " 1.791e+03 4.220e+02 6.210e+02 5.670e+02 7.410e+02 4.990e+02 1.257e+03\n",
      " 7.790e+02 9.420e+02 1.188e+03 8.690e+02 8.770e+02 6.370e+02 6.010e+02\n",
      " 7.280e+02 6.150e+02 3.406e+03 2.105e+03 5.440e+02 1.187e+03 6.120e+02\n",
      " 1.000e+00 7.360e+02 9.940e+02 7.040e+02 6.610e+02 9.870e+02 6.220e+02\n",
      " 4.710e+02 9.170e+02 7.390e+02 1.235e+03 4.910e+02 6.890e+02 7.340e+02\n",
      " 4.920e+02 5.750e+02 2.391e+03 5.480e+02 7.580e+02 5.310e+02 9.000e+02\n",
      " 2.722e+03 7.930e+02 4.620e+02 7.620e+02 7.750e+02 1.605e+03 1.631e+03\n",
      " 6.430e+02 8.170e+02 4.170e+02 8.290e+02 2.252e+03 9.130e+02 9.190e+02\n",
      " 1.774e+03 9.040e+02 1.010e+03 1.126e+03 1.199e+03 1.007e+03 6.760e+02\n",
      " 1.206e+03 1.241e+03 1.248e+03 7.020e+02 6.040e+02 1.608e+03 7.120e+02\n",
      " 1.165e+03 4.350e+02 1.243e+03 4.150e+02 5.210e+02 1.050e+03 5.280e+02\n",
      " 6.680e+02 1.428e+03 7.870e+02 7.350e+02 7.080e+02 9.990e+02 6.250e+02\n",
      " 6.140e+02 5.530e+02 8.650e+02 7.820e+02 6.600e+02 8.270e+02 4.250e+02\n",
      " 9.450e+02 5.490e+02 7.000e+02 7.130e+02 6.350e+02 4.940e+02 5.710e+02\n",
      " 1.374e+03 5.660e+02 1.106e+03 6.780e+02 1.362e+03 8.050e+02 4.980e+02\n",
      " 7.550e+02 1.540e+03 6.270e+02 6.800e+02 5.110e+02 8.400e+02 7.610e+02\n",
      " 1.242e+03 2.429e+03 1.763e+03 5.810e+02 1.190e+03 4.785e+03 6.100e+02\n",
      " 5.000e+02 8.200e+02 8.360e+02 6.490e+02 2.401e+03 5.890e+02 1.344e+03\n",
      " 2.297e+03 9.230e+02 1.012e+03 6.450e+02 2.257e+03 8.560e+02 8.330e+02\n",
      " 1.137e+03 8.940e+02 2.414e+03 1.463e+03 9.250e+02 5.720e+02 5.760e+02\n",
      " 9.490e+02 6.130e+02 8.720e+02 7.470e+02 5.510e+02 8.810e+02 6.020e+02\n",
      " 1.149e+03 5.920e+02 1.033e+03 6.830e+02 6.560e+02 5.780e+02 7.680e+02\n",
      " 8.440e+02 1.380e+03 8.180e+02 1.048e+03 1.084e+03 7.800e+02 7.810e+02\n",
      " 8.260e+02 6.170e+02 8.630e+02 1.034e+03 9.240e+02 9.330e+02 7.260e+02\n",
      " 1.060e+03 9.700e+02 6.530e+02 1.458e+03 6.540e+02 9.360e+02 7.860e+02\n",
      " 7.780e+02 8.030e+02 7.150e+02 1.131e+03 1.531e+03 8.580e+02 5.230e+02\n",
      " 1.251e+03 1.697e+03 8.140e+02 2.669e+03 1.042e+03 6.510e+02 1.369e+03\n",
      " 9.900e+02 1.097e+03 5.820e+02 6.340e+02 1.053e+03 5.540e+02 7.270e+02\n",
      " 1.237e+03 2.672e+03 2.188e+03 1.749e+03 3.554e+03 1.332e+03 5.470e+02\n",
      " 8.760e+02 2.455e+03 9.090e+02 7.320e+02 1.844e+03 8.010e+02 6.720e+02\n",
      " 1.682e+03 1.726e+03 1.018e+03 8.830e+02 9.840e+02 6.880e+02]\n"
     ]
    }
   ],
   "metadata": {}
  },
  {
   "cell_type": "code",
   "execution_count": 37,
   "source": [
    "#there are way too many options, so let's create ranges for income. let's start with min and max\n",
    "c = data_bin['household_income'].min(skipna=1)\n",
    "print(c)\n",
    "d = data_bin['household_income'].max(skipna=1)\n",
    "print(d)"
   ],
   "outputs": [
    {
     "output_type": "stream",
     "name": "stdout",
     "text": [
      "1.0\n",
      "4785.0\n"
     ]
    }
   ],
   "metadata": {}
  },
  {
   "cell_type": "code",
   "execution_count": 41,
   "source": [
    "data_bin['household_income']=np.where(data_bin[data_bin['household_income'].between(0,1)], '<$1k', data_bin['household_income'])\n",
    "# emp[emp[\"Salary\"].between(60000, 61000)]\n",
    "# data_bin['household_income']=np.where(1 < data_bin['household_income'] < 25, '<$25k', data_bin['household_income'])\n",
    "# data_bin['household_income']=np.where(25 < data_bin['household_income'] < 50, '<$50k', data_bin['household_income'])\n",
    "# data_bin['household_income']=np.where(50 < data_bin['household_income'] < 75, '<$75k', data_bin['household_income'])\n",
    "# data_bin['household_income']=np.where(75 < data_bin['household_income'] < 100, '<$100k', data_bin['household_income'])\n",
    "# data_bin['household_income']=np.where(100 < data_bin['household_income'] < 250, '<$250k', data_bin['household_income'])\n",
    "# data_bin['household_income']=np.where(250 < data_bin['household_income'] < 500, '<$500k', data_bin['household_income'])\n",
    "# data_bin['household_income']=np.where(data_bin['household_income'] > 500, '>$500k', data_bin['household_income'])\n",
    "e = data_bin['household_income'].unique() #hopefully new categories\n",
    "print(e)"
   ],
   "outputs": [
    {
     "output_type": "error",
     "ename": "TypeError",
     "evalue": "'>=' not supported between instances of 'str' and 'int'",
     "traceback": [
      "\u001b[0;31m---------------------------------------------------------------------------\u001b[0m",
      "\u001b[0;31mTypeError\u001b[0m                                 Traceback (most recent call last)",
      "\u001b[0;32m<ipython-input-41-1c57af2174b0>\u001b[0m in \u001b[0;36m<module>\u001b[0;34m\u001b[0m\n\u001b[0;32m----> 1\u001b[0;31m \u001b[0mdata_bin\u001b[0m\u001b[0;34m[\u001b[0m\u001b[0;34m'household_income'\u001b[0m\u001b[0;34m]\u001b[0m\u001b[0;34m=\u001b[0m\u001b[0mnp\u001b[0m\u001b[0;34m.\u001b[0m\u001b[0mwhere\u001b[0m\u001b[0;34m(\u001b[0m\u001b[0mdata_bin\u001b[0m\u001b[0;34m[\u001b[0m\u001b[0mdata_bin\u001b[0m\u001b[0;34m[\u001b[0m\u001b[0;34m'household_income'\u001b[0m\u001b[0;34m]\u001b[0m\u001b[0;34m.\u001b[0m\u001b[0mbetween\u001b[0m\u001b[0;34m(\u001b[0m\u001b[0;36m0\u001b[0m\u001b[0;34m,\u001b[0m\u001b[0;36m1\u001b[0m\u001b[0;34m)\u001b[0m\u001b[0;34m]\u001b[0m\u001b[0;34m,\u001b[0m \u001b[0;34m'<$1k'\u001b[0m\u001b[0;34m,\u001b[0m \u001b[0mdata_bin\u001b[0m\u001b[0;34m[\u001b[0m\u001b[0;34m'household_income'\u001b[0m\u001b[0;34m]\u001b[0m\u001b[0;34m)\u001b[0m\u001b[0;34m\u001b[0m\u001b[0;34m\u001b[0m\u001b[0m\n\u001b[0m\u001b[1;32m      2\u001b[0m \u001b[0;31m# emp[emp[\"Salary\"].between(60000, 61000)]\u001b[0m\u001b[0;34m\u001b[0m\u001b[0;34m\u001b[0m\u001b[0;34m\u001b[0m\u001b[0m\n\u001b[1;32m      3\u001b[0m \u001b[0;31m# data_bin['household_income']=np.where(1 < data_bin['household_income'] < 25, '<$25k', data_bin['household_income'])\u001b[0m\u001b[0;34m\u001b[0m\u001b[0;34m\u001b[0m\u001b[0;34m\u001b[0m\u001b[0m\n\u001b[1;32m      4\u001b[0m \u001b[0;31m# data_bin['household_income']=np.where(25 < data_bin['household_income'] < 50, '<$50k', data_bin['household_income'])\u001b[0m\u001b[0;34m\u001b[0m\u001b[0;34m\u001b[0m\u001b[0;34m\u001b[0m\u001b[0m\n\u001b[1;32m      5\u001b[0m \u001b[0;31m# data_bin['household_income']=np.where(50 < data_bin['household_income'] < 75, '<$75k', data_bin['household_income'])\u001b[0m\u001b[0;34m\u001b[0m\u001b[0;34m\u001b[0m\u001b[0;34m\u001b[0m\u001b[0m\n",
      "\u001b[0;32m~/opt/anaconda3/lib/python3.8/site-packages/pandas/core/series.py\u001b[0m in \u001b[0;36mbetween\u001b[0;34m(self, left, right, inclusive)\u001b[0m\n\u001b[1;32m   4732\u001b[0m         \"\"\"\n\u001b[1;32m   4733\u001b[0m         \u001b[0;32mif\u001b[0m \u001b[0minclusive\u001b[0m\u001b[0;34m:\u001b[0m\u001b[0;34m\u001b[0m\u001b[0;34m\u001b[0m\u001b[0m\n\u001b[0;32m-> 4734\u001b[0;31m             \u001b[0mlmask\u001b[0m \u001b[0;34m=\u001b[0m \u001b[0mself\u001b[0m \u001b[0;34m>=\u001b[0m \u001b[0mleft\u001b[0m\u001b[0;34m\u001b[0m\u001b[0;34m\u001b[0m\u001b[0m\n\u001b[0m\u001b[1;32m   4735\u001b[0m             \u001b[0mrmask\u001b[0m \u001b[0;34m=\u001b[0m \u001b[0mself\u001b[0m \u001b[0;34m<=\u001b[0m \u001b[0mright\u001b[0m\u001b[0;34m\u001b[0m\u001b[0;34m\u001b[0m\u001b[0m\n\u001b[1;32m   4736\u001b[0m         \u001b[0;32melse\u001b[0m\u001b[0;34m:\u001b[0m\u001b[0;34m\u001b[0m\u001b[0;34m\u001b[0m\u001b[0m\n",
      "\u001b[0;32m~/opt/anaconda3/lib/python3.8/site-packages/pandas/core/ops/common.py\u001b[0m in \u001b[0;36mnew_method\u001b[0;34m(self, other)\u001b[0m\n\u001b[1;32m     63\u001b[0m         \u001b[0mother\u001b[0m \u001b[0;34m=\u001b[0m \u001b[0mitem_from_zerodim\u001b[0m\u001b[0;34m(\u001b[0m\u001b[0mother\u001b[0m\u001b[0;34m)\u001b[0m\u001b[0;34m\u001b[0m\u001b[0;34m\u001b[0m\u001b[0m\n\u001b[1;32m     64\u001b[0m \u001b[0;34m\u001b[0m\u001b[0m\n\u001b[0;32m---> 65\u001b[0;31m         \u001b[0;32mreturn\u001b[0m \u001b[0mmethod\u001b[0m\u001b[0;34m(\u001b[0m\u001b[0mself\u001b[0m\u001b[0;34m,\u001b[0m \u001b[0mother\u001b[0m\u001b[0;34m)\u001b[0m\u001b[0;34m\u001b[0m\u001b[0;34m\u001b[0m\u001b[0m\n\u001b[0m\u001b[1;32m     66\u001b[0m \u001b[0;34m\u001b[0m\u001b[0m\n\u001b[1;32m     67\u001b[0m     \u001b[0;32mreturn\u001b[0m \u001b[0mnew_method\u001b[0m\u001b[0;34m\u001b[0m\u001b[0;34m\u001b[0m\u001b[0m\n",
      "\u001b[0;32m~/opt/anaconda3/lib/python3.8/site-packages/pandas/core/arraylike.py\u001b[0m in \u001b[0;36m__ge__\u001b[0;34m(self, other)\u001b[0m\n\u001b[1;32m     47\u001b[0m     \u001b[0;34m@\u001b[0m\u001b[0munpack_zerodim_and_defer\u001b[0m\u001b[0;34m(\u001b[0m\u001b[0;34m\"__ge__\"\u001b[0m\u001b[0;34m)\u001b[0m\u001b[0;34m\u001b[0m\u001b[0;34m\u001b[0m\u001b[0m\n\u001b[1;32m     48\u001b[0m     \u001b[0;32mdef\u001b[0m \u001b[0m__ge__\u001b[0m\u001b[0;34m(\u001b[0m\u001b[0mself\u001b[0m\u001b[0;34m,\u001b[0m \u001b[0mother\u001b[0m\u001b[0;34m)\u001b[0m\u001b[0;34m:\u001b[0m\u001b[0;34m\u001b[0m\u001b[0;34m\u001b[0m\u001b[0m\n\u001b[0;32m---> 49\u001b[0;31m         \u001b[0;32mreturn\u001b[0m \u001b[0mself\u001b[0m\u001b[0;34m.\u001b[0m\u001b[0m_cmp_method\u001b[0m\u001b[0;34m(\u001b[0m\u001b[0mother\u001b[0m\u001b[0;34m,\u001b[0m \u001b[0moperator\u001b[0m\u001b[0;34m.\u001b[0m\u001b[0mge\u001b[0m\u001b[0;34m)\u001b[0m\u001b[0;34m\u001b[0m\u001b[0;34m\u001b[0m\u001b[0m\n\u001b[0m\u001b[1;32m     50\u001b[0m \u001b[0;34m\u001b[0m\u001b[0m\n\u001b[1;32m     51\u001b[0m     \u001b[0;31m# -------------------------------------------------------------\u001b[0m\u001b[0;34m\u001b[0m\u001b[0;34m\u001b[0m\u001b[0;34m\u001b[0m\u001b[0m\n",
      "\u001b[0;32m~/opt/anaconda3/lib/python3.8/site-packages/pandas/core/series.py\u001b[0m in \u001b[0;36m_cmp_method\u001b[0;34m(self, other, op)\u001b[0m\n\u001b[1;32m   4973\u001b[0m         \u001b[0mrvalues\u001b[0m \u001b[0;34m=\u001b[0m \u001b[0mextract_array\u001b[0m\u001b[0;34m(\u001b[0m\u001b[0mother\u001b[0m\u001b[0;34m,\u001b[0m \u001b[0mextract_numpy\u001b[0m\u001b[0;34m=\u001b[0m\u001b[0;32mTrue\u001b[0m\u001b[0;34m)\u001b[0m\u001b[0;34m\u001b[0m\u001b[0;34m\u001b[0m\u001b[0m\n\u001b[1;32m   4974\u001b[0m \u001b[0;34m\u001b[0m\u001b[0m\n\u001b[0;32m-> 4975\u001b[0;31m         \u001b[0mres_values\u001b[0m \u001b[0;34m=\u001b[0m \u001b[0mops\u001b[0m\u001b[0;34m.\u001b[0m\u001b[0mcomparison_op\u001b[0m\u001b[0;34m(\u001b[0m\u001b[0mlvalues\u001b[0m\u001b[0;34m,\u001b[0m \u001b[0mrvalues\u001b[0m\u001b[0;34m,\u001b[0m \u001b[0mop\u001b[0m\u001b[0;34m)\u001b[0m\u001b[0;34m\u001b[0m\u001b[0;34m\u001b[0m\u001b[0m\n\u001b[0m\u001b[1;32m   4976\u001b[0m \u001b[0;34m\u001b[0m\u001b[0m\n\u001b[1;32m   4977\u001b[0m         \u001b[0;32mreturn\u001b[0m \u001b[0mself\u001b[0m\u001b[0;34m.\u001b[0m\u001b[0m_construct_result\u001b[0m\u001b[0;34m(\u001b[0m\u001b[0mres_values\u001b[0m\u001b[0;34m,\u001b[0m \u001b[0mname\u001b[0m\u001b[0;34m=\u001b[0m\u001b[0mres_name\u001b[0m\u001b[0;34m)\u001b[0m\u001b[0;34m\u001b[0m\u001b[0;34m\u001b[0m\u001b[0m\n",
      "\u001b[0;32m~/opt/anaconda3/lib/python3.8/site-packages/pandas/core/ops/array_ops.py\u001b[0m in \u001b[0;36mcomparison_op\u001b[0;34m(left, right, op)\u001b[0m\n\u001b[1;32m    241\u001b[0m \u001b[0;34m\u001b[0m\u001b[0m\n\u001b[1;32m    242\u001b[0m     \u001b[0;32melif\u001b[0m \u001b[0mis_object_dtype\u001b[0m\u001b[0;34m(\u001b[0m\u001b[0mlvalues\u001b[0m\u001b[0;34m.\u001b[0m\u001b[0mdtype\u001b[0m\u001b[0;34m)\u001b[0m\u001b[0;34m:\u001b[0m\u001b[0;34m\u001b[0m\u001b[0;34m\u001b[0m\u001b[0m\n\u001b[0;32m--> 243\u001b[0;31m         \u001b[0mres_values\u001b[0m \u001b[0;34m=\u001b[0m \u001b[0mcomp_method_OBJECT_ARRAY\u001b[0m\u001b[0;34m(\u001b[0m\u001b[0mop\u001b[0m\u001b[0;34m,\u001b[0m \u001b[0mlvalues\u001b[0m\u001b[0;34m,\u001b[0m \u001b[0mrvalues\u001b[0m\u001b[0;34m)\u001b[0m\u001b[0;34m\u001b[0m\u001b[0;34m\u001b[0m\u001b[0m\n\u001b[0m\u001b[1;32m    244\u001b[0m \u001b[0;34m\u001b[0m\u001b[0m\n\u001b[1;32m    245\u001b[0m     \u001b[0;32melse\u001b[0m\u001b[0;34m:\u001b[0m\u001b[0;34m\u001b[0m\u001b[0;34m\u001b[0m\u001b[0m\n",
      "\u001b[0;32m~/opt/anaconda3/lib/python3.8/site-packages/pandas/core/ops/array_ops.py\u001b[0m in \u001b[0;36mcomp_method_OBJECT_ARRAY\u001b[0;34m(op, x, y)\u001b[0m\n\u001b[1;32m     53\u001b[0m         \u001b[0mresult\u001b[0m \u001b[0;34m=\u001b[0m \u001b[0mlibops\u001b[0m\u001b[0;34m.\u001b[0m\u001b[0mvec_compare\u001b[0m\u001b[0;34m(\u001b[0m\u001b[0mx\u001b[0m\u001b[0;34m.\u001b[0m\u001b[0mravel\u001b[0m\u001b[0;34m(\u001b[0m\u001b[0;34m)\u001b[0m\u001b[0;34m,\u001b[0m \u001b[0my\u001b[0m\u001b[0;34m.\u001b[0m\u001b[0mravel\u001b[0m\u001b[0;34m(\u001b[0m\u001b[0;34m)\u001b[0m\u001b[0;34m,\u001b[0m \u001b[0mop\u001b[0m\u001b[0;34m)\u001b[0m\u001b[0;34m\u001b[0m\u001b[0;34m\u001b[0m\u001b[0m\n\u001b[1;32m     54\u001b[0m     \u001b[0;32melse\u001b[0m\u001b[0;34m:\u001b[0m\u001b[0;34m\u001b[0m\u001b[0;34m\u001b[0m\u001b[0m\n\u001b[0;32m---> 55\u001b[0;31m         \u001b[0mresult\u001b[0m \u001b[0;34m=\u001b[0m \u001b[0mlibops\u001b[0m\u001b[0;34m.\u001b[0m\u001b[0mscalar_compare\u001b[0m\u001b[0;34m(\u001b[0m\u001b[0mx\u001b[0m\u001b[0;34m.\u001b[0m\u001b[0mravel\u001b[0m\u001b[0;34m(\u001b[0m\u001b[0;34m)\u001b[0m\u001b[0;34m,\u001b[0m \u001b[0my\u001b[0m\u001b[0;34m,\u001b[0m \u001b[0mop\u001b[0m\u001b[0;34m)\u001b[0m\u001b[0;34m\u001b[0m\u001b[0;34m\u001b[0m\u001b[0m\n\u001b[0m\u001b[1;32m     56\u001b[0m     \u001b[0;32mreturn\u001b[0m \u001b[0mresult\u001b[0m\u001b[0;34m.\u001b[0m\u001b[0mreshape\u001b[0m\u001b[0;34m(\u001b[0m\u001b[0mx\u001b[0m\u001b[0;34m.\u001b[0m\u001b[0mshape\u001b[0m\u001b[0;34m)\u001b[0m\u001b[0;34m\u001b[0m\u001b[0;34m\u001b[0m\u001b[0m\n\u001b[1;32m     57\u001b[0m \u001b[0;34m\u001b[0m\u001b[0m\n",
      "\u001b[0;32mpandas/_libs/ops.pyx\u001b[0m in \u001b[0;36mpandas._libs.ops.scalar_compare\u001b[0;34m()\u001b[0m\n",
      "\u001b[0;31mTypeError\u001b[0m: '>=' not supported between instances of 'str' and 'int'"
     ]
    }
   ],
   "metadata": {}
  }
 ],
 "metadata": {
  "orig_nbformat": 4,
  "language_info": {
   "name": "python",
   "version": "3.8.5",
   "mimetype": "text/x-python",
   "codemirror_mode": {
    "name": "ipython",
    "version": 3
   },
   "pygments_lexer": "ipython3",
   "nbconvert_exporter": "python",
   "file_extension": ".py"
  },
  "kernelspec": {
   "name": "python3",
   "display_name": "Python 3.8.5 64-bit ('base': conda)"
  },
  "interpreter": {
   "hash": "817763465c47354bf57b37a0180640c2b176d3440cae2bf466c21d25f23dda3b"
  }
 },
 "nbformat": 4,
 "nbformat_minor": 2
}