{
 "cells": [
  {
   "cell_type": "code",
   "execution_count": null,
   "metadata": {},
   "outputs": [],
   "source": [
    "import pandas as pd\n",
    "import numpy as np\n",
    "from sklearn import preprocessing, linear_model\n",
    "from sklearn.model_selection import train_test_split\n",
    "\n",
    "# load data\n",
    "df_train = pd.read_csv('br_takehome_exam_2022_training.csv')\n",
    "df_scoring = pd.read_csv('br_takehome_exam_2022_scoring.csv')\n",
    "\n",
    "# preview data\n",
    "df_train.head()\n"
   ]
  },
  {
   "cell_type": "code",
   "execution_count": null,
   "metadata": {},
   "outputs": [],
   "source": [
    "# check for missing values\n",
    "df_train.isnull().sum()"
   ]
  },
  {
   "cell_type": "code",
   "execution_count": null,
   "metadata": {},
   "outputs": [],
   "source": [
    "# check for missing values\n",
    "df_scoring.isnull().sum()"
   ]
  },
  {
   "cell_type": "code",
   "execution_count": null,
   "metadata": {},
   "outputs": [],
   "source": [
    "# define feature columns\n",
    "feature_cols = ['GPA', 'High School', 'Absences']\n",
    "\n",
    "# scale features\n",
    "scaler = preprocessing.StandardScaler()\n",
    "df_train[feature_cols] = scaler.fit_transform(df_train[feature_cols])\n",
    "df_scoring[feature_cols] = scaler.transform(df_scoring[feature_cols])\n"
   ]
  }
 ],
 "metadata": {
  "language_info": {
   "name": "python"
  },
  "orig_nbformat": 4
 },
 "nbformat": 4,
 "nbformat_minor": 2
}
