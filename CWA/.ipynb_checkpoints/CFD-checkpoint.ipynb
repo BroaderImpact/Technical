{
 "cells": [
  {
   "cell_type": "markdown",
   "metadata": {},
   "source": [
    "# Python\n",
    "## Instructions\n",
    "You have been provided with a sample text file of Chicago firefighters. For this exercise, please use that data set.\n",
    "\n",
    "### ● Please provide us with the code for the script that opens the included text file and does the following:\n",
    "#### ○ Converts the delimiter from comma (“,”) to tab.\n",
    "#### ○ Converts all of the header fields to uppercase.\n",
    "#### ○ Adds a column named “VERIFIED” to the header\n",
    "#### ○ Populates all rows in the “VERIFIED” column with “Y”\n",
    "### ● You may use either Python 2 or 3 for your work."
   ]
  },
  {
   "cell_type": "code",
   "execution_count": 3,
   "metadata": {},
   "outputs": [
    {
     "ename": "SyntaxError",
     "evalue": "(unicode error) 'unicodeescape' codec can't decode bytes in position 2-3: truncated \\UXXXXXXXX escape (<ipython-input-3-387d318fdbb1>, line 4)",
     "output_type": "error",
     "traceback": [
      "\u001b[1;36m  File \u001b[1;32m\"<ipython-input-3-387d318fdbb1>\"\u001b[1;36m, line \u001b[1;32m4\u001b[0m\n\u001b[1;33m    cfd = pd.read_csv(\"C:\\Users\\Christine\\Google Drive - c.amuzie\\Applications\\CWA\\cfd.csv\")\u001b[0m\n\u001b[1;37m                     ^\u001b[0m\n\u001b[1;31mSyntaxError\u001b[0m\u001b[1;31m:\u001b[0m (unicode error) 'unicodeescape' codec can't decode bytes in position 2-3: truncated \\UXXXXXXXX escape\n"
     ]
    }
   ],
   "source": [
    "import pandas as pd\n",
    "from matplotlib import pyplot as plt\n",
    "import seaborn as sb\n",
    "cfd = pd.read_csv(\"C:\\Users\\Christine\\Google Drive - c.amuzie\\Applications\\CWA\\cfd.csv\")\n",
    "cfd.head(5)"
   ]
  },
  {
   "cell_type": "code",
   "execution_count": null,
   "metadata": {},
   "outputs": [],
   "source": []
  }
 ],
 "metadata": {
  "kernelspec": {
   "display_name": "Python 3",
   "language": "python",
   "name": "python3"
  },
  "language_info": {
   "codemirror_mode": {
    "name": "ipython",
    "version": 3
   },
   "file_extension": ".py",
   "mimetype": "text/x-python",
   "name": "python",
   "nbconvert_exporter": "python",
   "pygments_lexer": "ipython3",
   "version": "3.7.4"
  }
 },
 "nbformat": 4,
 "nbformat_minor": 2
}
