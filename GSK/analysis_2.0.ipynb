{
 "cells": [
  {
   "cell_type": "code",
   "execution_count": null,
   "metadata": {},
   "outputs": [],
   "source": []
  },
  {
   "cell_type": "markdown",
   "metadata": {},
   "source": [
    "Bird, Steven, Edward Loper and Ewan Klein (2009), Natural Language Processing with Python. O’Reilly Media Inc.\n",
    "\n",
    "@inproceedings{Gardner2017AllenNLP,\n",
    "  title={AllenNLP: A Deep Semantic Natural Language Processing Platform},\n",
    "  author={Matt Gardner and Joel Grus and Mark Neumann and Oyvind Tafjord\n",
    "    and Pradeep Dasigi and Nelson F. Liu and Matthew Peters and\n",
    "    Michael Schmitz and Luke S. Zettlemoyer},\n",
    "  year={2017},\n",
    "  Eprint = {arXiv:1803.07640},\n",
    "}\n",
    "\n",
    "Broader Impact Data Services, LLC &copy; 2021"
   ]
  }
 ],
 "metadata": {
  "interpreter": {
   "hash": "b3ba2566441a7c06988d0923437866b63cedc61552a5af99d1f4fb67d367b25f"
  },
  "kernelspec": {
   "display_name": "Python 3.8.8 64-bit ('base': conda)",
   "language": "python",
   "name": "python3"
  },
  "language_info": {
   "name": "python",
   "version": "3.8.8"
  },
  "orig_nbformat": 4
 },
 "nbformat": 4,
 "nbformat_minor": 2
}
