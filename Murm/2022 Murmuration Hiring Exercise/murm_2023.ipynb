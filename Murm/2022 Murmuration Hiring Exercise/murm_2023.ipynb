{
 "cells": [
  {
   "attachments": {},
   "cell_type": "markdown",
   "metadata": {},
   "source": [
    "# Murmuration Hiring Exercise\n",
    "\n",
    "We have contrived this example based on analyses that Murmuration sometimes conducts for our clients. Please provide the details of your analysis (including your code), as well as any discussion points describing assumptions, limitations, caveats, and next steps using a medium of your choice (e.g., slides, document, Jupyter note­book). Feel free to include any other interesting analytic results that you uncover. Please take as long as you need to finish this exercise, but we are anticipating ~4 hours of work. Please send us the results of the analysis within 72 hours after you receive it. Although these data have been scrubbed to remove the obviously identifying characteristics, they are by no means fully anonymized, so please delete these files after the completion of the exercise and do not share the data or analysis. Please do not upload the data/analyses or report to github. "
   ]
  },
  {
   "attachments": {},
   "cell_type": "markdown",
   "metadata": {},
   "source": [
    "### Section A\n",
    "\n",
    "In 2016, our client, Fund Public Schools, attempted to pass a ballot measure in their state. In that election, voters had the opportunity to support or oppose taxing cigarettes to fund K-12 schools. Our partners want to understand what happened on election day, please explore the precinct-level data. Precinct-level results for this ballot measure are provided in precinct_level_election_results.csv. Individual-level demographic features for voters registered to vote in these precincts is provided in individual_demographics_and_scores.csv. Please conduct a retrospective analysis of this election. \n",
    "\n",
    "●\tWhat factors do you think relate to support for this ballot measure? (use the precinct level aggregates found in precinct_votes_for_ballot_measure and precinct_votes_against_ballot_measure)\n",
    "\n",
    "●\tWhat factors do you think relate to turning out to vote in this election? (precinct_total_ballots tells you the number of ballots cast by voters in each precinct, while precinct_registered_voters gives the number of registered voters in the precinct).\n",
    "\n",
    "●\tWhat information do you think would aid our partner in voter outreach in a subsequent, similar, election? "
   ]
  },
  {
   "cell_type": "code",
   "execution_count": null,
   "metadata": {},
   "outputs": [],
   "source": []
  },
  {
   "attachments": {},
   "cell_type": "markdown",
   "metadata": {},
   "source": [
    "### Section B\n",
    "\n",
    "Fund Public Schools recently reached out to let us know that there is a similar ballot measure up for a vote in another state this November. They conducted a statewide poll to find out which voters may be interested in supporting this ballot measure. Data from the individual poll respondents are stored in ballot_measure_poll.csv. \n",
    "\n",
    "Please explore the data provided. \n",
    "\n",
    "●\tWhich score(s) would you recommend that the partners use for doing voter outreach so the ballot measure will be successful?\n",
    "\n",
    "●\tHow should our partner use this score? \n",
    "\n",
    "●\tHow would you convey the value of using the targeting strategy you recommend?"
   ]
  }
 ],
 "metadata": {
  "language_info": {
   "name": "python"
  },
  "orig_nbformat": 4
 },
 "nbformat": 4,
 "nbformat_minor": 2
}
